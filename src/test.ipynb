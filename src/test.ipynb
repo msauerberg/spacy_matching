{
 "cells": [
  {
   "cell_type": "markdown",
   "id": "ab96571e",
   "metadata": {},
   "source": [
    "# <a id='toc1_'></a>[🧪 test](#toc0_)"
   ]
  },
  {
   "cell_type": "markdown",
   "id": "38f4ed9f",
   "metadata": {},
   "source": [
    "**Table of contents**<a id='toc0_'></a>    \n",
    "- [🧪 test](#toc1_)    \n",
    "  - [🌐 load data](#toc1_1_)    \n",
    "  - [🚀 create recoding](#toc1_2_)    \n",
    "  - [💾 save results](#toc1_3_)    \n",
    "  - [📈 analysis](#toc1_4_)    \n",
    "\n",
    "<!-- vscode-jupyter-toc-config\n",
    "\tnumbering=false\n",
    "\tanchor=true\n",
    "\tflat=false\n",
    "\tminLevel=1\n",
    "\tmaxLevel=6\n",
    "\t/vscode-jupyter-toc-config -->\n",
    "<!-- THIS CELL WILL BE REPLACED ON TOC UPDATE. DO NOT WRITE YOUR TEXT IN THIS CELL -->"
   ]
  },
  {
   "cell_type": "code",
   "execution_count": null,
   "id": "65534584",
   "metadata": {},
   "outputs": [
    {
     "name": "stdout",
     "output_type": "stream",
     "text": [
      "🐍 3.12.9 | 📦 pandas: 2.3.1 | 📦 numpy: 1.26.4 | 📦 duckdb: 1.3.2 | 📦 pandas-plots: 0.15.10 | 📦 connection-helper: 0.12.1\n"
     ]
    }
   ],
   "source": [
    "import pandas as pd\n",
    "import os\n",
    "from pathlib import Path\n",
    "import duckdb as ddb\n",
    "from pandas_plots import tbl, pls, hlp\n",
    "import matplotlib.pyplot as plt\n",
    "\n",
    "from spacy_matching import recoding as rec\n",
    "\n",
    "hlp.show_package_version()\n",
    "os.environ['THEME']='light'\n",
    "\n",
    "dir_db=Path(\"C://temp\") if hlp.get_os(hlp.OperatingSystem.WINDOWS) else Path(os.path.expanduser(\"~/tmp\"))\n",
    "\n",
    "# ! use either clin or fake data\n",
    "file_db_clin = dir_db/'2025-06-24_data_clin.duckdb'\n",
    "# file_db_clin = dir_db / 'fake_data_clin.duckdb'\n",
    "\n",
    "if not file_db_clin.exists():\n",
    "    raise FileNotFoundError(f\"File not found: {file_db_clin}\")"
   ]
  },
  {
   "cell_type": "markdown",
   "id": "c1943308",
   "metadata": {},
   "source": [
    "## <a id='toc1_1_'></a>[🌐 load data](#toc0_)"
   ]
  },
  {
   "cell_type": "code",
   "execution_count": null,
   "id": "ad045bb7",
   "metadata": {},
   "outputs": [],
   "source": [
    "con = ddb.connect(file_db_clin, read_only=True)"
   ]
  },
  {
   "cell_type": "code",
   "execution_count": 22,
   "id": "eba94946",
   "metadata": {},
   "outputs": [
    {
     "data": {
      "application/vnd.microsoft.datawrangler.viewer.v0+json": {
       "columns": [
        {
         "name": "index",
         "rawType": "int64",
         "type": "integer"
        },
        {
         "name": "Bezeichnung",
         "rawType": "object",
         "type": "unknown"
        }
       ],
       "ref": "75244a5f-4a2f-4e8a-8100-db8fa911ec5d",
       "rows": [
        [
         "0",
         "Dacarbazin (DTIC)"
        ],
        [
         "1",
         "Ribociclib"
        ],
        [
         "2",
         "Wirkstoff: keine Angabe"
        ],
        [
         "3",
         "Midostaurin"
        ],
        [
         "4",
         "Cetuximab"
        ],
        [
         "5",
         "Cisplatin"
        ],
        [
         "6",
         "Cytarabin (AraC)"
        ],
        [
         "7",
         "5-Fluorouracil"
        ],
        [
         "8",
         "Erbitux"
        ],
        [
         "9",
         "Paclitaxel (Taxol)"
        ],
        [
         "10",
         "GnRH-Antagonisten"
        ],
        [
         "11",
         "Autolog"
        ],
        [
         "12",
         "Methotrexat (MTX) systemisch"
        ],
        [
         "13",
         "Carfilzomib"
        ],
        [
         "14",
         "Letrozol (Femara®)"
        ],
        [
         "15",
         "LHRH-Antagonist"
        ],
        [
         "16",
         "Abirateronacetat"
        ],
        [
         "17",
         "MCP"
        ],
        [
         "18",
         "Clemastin"
        ],
        [
         "19",
         "Perjeta"
        ],
        [
         "20",
         "Giredestrant"
        ],
        [
         "21",
         "Afatinib"
        ],
        [
         "22",
         "Studienmedikament (Immun)"
        ],
        [
         "23",
         "Neupogen, Neulasta; G-CSF"
        ],
        [
         "24",
         "Histrelin"
        ],
        [
         "25",
         "Vindesin"
        ],
        [
         "26",
         "Pamorelin"
        ],
        [
         "27",
         "Nivolumab (Opdivo)"
        ],
        [
         "28",
         "Lorlatinib"
        ],
        [
         "29",
         "Sotarasib"
        ],
        [
         "30",
         "L01XA01"
        ],
        [
         "31",
         "Furosemid"
        ],
        [
         "32",
         "Amilomer"
        ],
        [
         "33",
         "PEG-Filgrastim"
        ],
        [
         "34",
         "Stammzelltransplantation"
        ],
        [
         "35",
         "Pembrolizumab (MK-3475)"
        ],
        [
         "36",
         "Bade-PUVA"
        ],
        [
         "37",
         "Tamoxifen (Nolvadex®)"
        ],
        [
         "38",
         "Paclitaxelpoliglumex"
        ],
        [
         "39",
         "Studienmedikation n.n.b."
        ],
        [
         "40",
         "Cabozantinib; Cabozantinib"
        ],
        [
         "41",
         "Natriumfolinat"
        ],
        [
         "42",
         "Caelyx"
        ],
        [
         "43",
         "Akynzeo i.v."
        ],
        [
         "44",
         "pegliposomales Doxorubicin"
        ],
        [
         "45",
         "Fluorouracil 5"
        ],
        [
         "46",
         "Ribofolin,Rescuvolin,Foli Cell"
        ],
        [
         "47",
         "EmboCept S"
        ],
        [
         "48",
         "Emtansine = DM1; KADCYLA"
        ],
        [
         "49",
         "Stammzellgabe"
        ]
       ],
       "shape": {
        "columns": 1,
        "rows": 4247
       }
      },
      "text/html": [
       "<div>\n",
       "<style scoped>\n",
       "    .dataframe tbody tr th:only-of-type {\n",
       "        vertical-align: middle;\n",
       "    }\n",
       "\n",
       "    .dataframe tbody tr th {\n",
       "        vertical-align: top;\n",
       "    }\n",
       "\n",
       "    .dataframe thead th {\n",
       "        text-align: right;\n",
       "    }\n",
       "</style>\n",
       "<table border=\"1\" class=\"dataframe\">\n",
       "  <thead>\n",
       "    <tr style=\"text-align: right;\">\n",
       "      <th></th>\n",
       "      <th>Bezeichnung</th>\n",
       "    </tr>\n",
       "  </thead>\n",
       "  <tbody>\n",
       "    <tr>\n",
       "      <th>0</th>\n",
       "      <td>Dacarbazin (DTIC)</td>\n",
       "    </tr>\n",
       "    <tr>\n",
       "      <th>1</th>\n",
       "      <td>Ribociclib</td>\n",
       "    </tr>\n",
       "    <tr>\n",
       "      <th>2</th>\n",
       "      <td>Wirkstoff: keine Angabe</td>\n",
       "    </tr>\n",
       "    <tr>\n",
       "      <th>3</th>\n",
       "      <td>Midostaurin</td>\n",
       "    </tr>\n",
       "    <tr>\n",
       "      <th>4</th>\n",
       "      <td>Cetuximab</td>\n",
       "    </tr>\n",
       "    <tr>\n",
       "      <th>...</th>\n",
       "      <td>...</td>\n",
       "    </tr>\n",
       "    <tr>\n",
       "      <th>4242</th>\n",
       "      <td>Cecenu, Lomeblastin, CiCiNu</td>\n",
       "    </tr>\n",
       "    <tr>\n",
       "      <th>4243</th>\n",
       "      <td>Sixantone</td>\n",
       "    </tr>\n",
       "    <tr>\n",
       "      <th>4244</th>\n",
       "      <td>Omeparazol 20</td>\n",
       "    </tr>\n",
       "    <tr>\n",
       "      <th>4245</th>\n",
       "      <td>Cisplatin 25mg/m²</td>\n",
       "    </tr>\n",
       "    <tr>\n",
       "      <th>4246</th>\n",
       "      <td>Active surcveillance</td>\n",
       "    </tr>\n",
       "  </tbody>\n",
       "</table>\n",
       "<p>4247 rows × 1 columns</p>\n",
       "</div>"
      ],
      "text/plain": [
       "                      Bezeichnung\n",
       "0               Dacarbazin (DTIC)\n",
       "1                      Ribociclib\n",
       "2         Wirkstoff: keine Angabe\n",
       "3                     Midostaurin\n",
       "4                       Cetuximab\n",
       "...                           ...\n",
       "4242  Cecenu, Lomeblastin, CiCiNu\n",
       "4243                    Sixantone\n",
       "4244                Omeparazol 20\n",
       "4245            Cisplatin 25mg/m²\n",
       "4246         Active surcveillance\n",
       "\n",
       "[4247 rows x 1 columns]"
      ]
     },
     "metadata": {},
     "output_type": "display_data"
    }
   ],
   "source": [
    "# # * load data to be recoded\n",
    "substance_data = con.sql(\"select distinct Bezeichnung from Substanz\").to_df()\n",
    "display(substance_data)"
   ]
  },
  {
   "cell_type": "code",
   "execution_count": 16,
   "id": "d150f658",
   "metadata": {},
   "outputs": [
    {
     "data": {
      "application/vnd.microsoft.datawrangler.viewer.v0+json": {
       "columns": [
        {
         "name": "index",
         "rawType": "int64",
         "type": "integer"
        },
        {
         "name": "therapieart",
         "rawType": "object",
         "type": "string"
        },
        {
         "name": "substanz",
         "rawType": "object",
         "type": "string"
        },
        {
         "name": "code",
         "rawType": "object",
         "type": "unknown"
        }
       ],
       "ref": "70323741-fa66-40d3-a6e4-1555f01f6233",
       "rows": [
        [
         "0",
         "HO",
         "Abarelix",
         "L02BX01"
        ],
        [
         "1",
         "IM",
         "Abatacept",
         "L04AA24"
        ],
        [
         "2",
         "ZS",
         "Abemaciclib",
         "L01EF03"
        ],
        [
         "3",
         "IM",
         "Abetimus",
         "L04AA22"
        ],
        [
         "4",
         "HO",
         "Abirateron",
         "L02BX03"
        ],
        [
         "5",
         "ZS",
         "Acalabrutinib",
         "L01EL02"
        ],
        [
         "6",
         "CH",
         "Aclarubicin",
         "L01DB04"
        ],
        [
         "7",
         "IM",
         "Adalimumab",
         "L04AB04"
        ],
        [
         "8",
         "SO",
         "Aderlass",
         null
        ],
        [
         "9",
         "ZS",
         "Afatinib",
         "L01EB03"
        ],
        [
         "10",
         "IM",
         "Afelimomab",
         "L04AB03"
        ],
        [
         "11",
         "ZS",
         "Aflibercept",
         "L01XX44"
        ],
        [
         "12",
         "IM",
         "Aldesleukin",
         "L03AC01"
        ],
        [
         "13",
         "ZS",
         "Alectinib",
         "L01ED03"
        ],
        [
         "14",
         "IM",
         "Alefacept",
         "L04AA15"
        ],
        [
         "15",
         "IM",
         "Alemtuzumab",
         "L04AA34"
        ],
        [
         "16",
         "SO",
         "Alendronsäure",
         null
        ],
        [
         "17",
         "ZS",
         "Alisertib",
         null
        ],
        [
         "18",
         "SO",
         "Alitretinoin",
         "L01XF02"
        ],
        [
         "19",
         "SZ",
         "Allogene Stammzellen",
         null
        ],
        [
         "20",
         "ZS",
         "Alpelisib",
         "L01EM03"
        ],
        [
         "21",
         "CH",
         "Altretamin",
         "L01XX03"
        ],
        [
         "22",
         "SO",
         "Amilomer",
         null
        ],
        [
         "23",
         "HO",
         "Aminoglutethimid",
         "L02BG01"
        ],
        [
         "24",
         "SO",
         "Aminolevulinsäure",
         "L01XD04"
        ],
        [
         "25",
         "CH",
         "Amonafid",
         null
        ],
        [
         "26",
         "CH",
         "Amrubicin",
         "L01DB10"
        ],
        [
         "27",
         "CH",
         "Amsacrin",
         "L01XX01"
        ],
        [
         "28",
         "CH",
         "Anagrelid",
         "L01XX35"
        ],
        [
         "29",
         "IM",
         "Anakinra",
         "L04AC03"
        ],
        [
         "30",
         "HO",
         "Anastrozol",
         "L02BG03"
        ],
        [
         "31",
         "IM",
         "Antithymozytenglobulin",
         null
        ],
        [
         "32",
         "HO",
         "Apalutamid",
         "L02BB05"
        ],
        [
         "33",
         "CH",
         "Arsentrioxid",
         "L01XX27"
        ],
        [
         "34",
         "SO",
         "Artesunat",
         null
        ],
        [
         "35",
         "ZS",
         "Asciminib",
         "L01EA06"
        ],
        [
         "36",
         "CH",
         "Asparaginase",
         "L01XX02"
        ],
        [
         "37",
         "IM",
         "Atezolizumab",
         "L01FF05"
        ],
        [
         "38",
         "SZ",
         "Autologe Stammzellen",
         null
        ],
        [
         "39",
         "ZS",
         "Avapritinib",
         "L01EX18"
        ],
        [
         "40",
         "IM",
         "Avelumab",
         "L01FF04"
        ],
        [
         "41",
         "IM",
         "Axicabtagen-Ciloleucel",
         null
        ],
        [
         "42",
         "ZS",
         "Axitinib",
         "L01EK01"
        ],
        [
         "43",
         "CH",
         "Azacitidin",
         "L01BC07"
        ],
        [
         "44",
         "IM",
         "Azathioprin",
         "L04AX01"
        ],
        [
         "45",
         "IM",
         "Basiliximab",
         "L04AC02"
        ],
        [
         "46",
         "IM",
         "BCG",
         null
        ],
        [
         "47",
         "IM",
         "Belantamab mafodotin",
         "L01FX15"
        ],
        [
         "48",
         "IM",
         "Belatacept",
         "L04AA28"
        ],
        [
         "49",
         "IM",
         "Belimumab",
         "L04AA26"
        ]
       ],
       "shape": {
        "columns": 3,
        "rows": 410
       }
      },
      "text/html": [
       "<div>\n",
       "<style scoped>\n",
       "    .dataframe tbody tr th:only-of-type {\n",
       "        vertical-align: middle;\n",
       "    }\n",
       "\n",
       "    .dataframe tbody tr th {\n",
       "        vertical-align: top;\n",
       "    }\n",
       "\n",
       "    .dataframe thead th {\n",
       "        text-align: right;\n",
       "    }\n",
       "</style>\n",
       "<table border=\"1\" class=\"dataframe\">\n",
       "  <thead>\n",
       "    <tr style=\"text-align: right;\">\n",
       "      <th></th>\n",
       "      <th>therapieart</th>\n",
       "      <th>substanz</th>\n",
       "      <th>code</th>\n",
       "    </tr>\n",
       "  </thead>\n",
       "  <tbody>\n",
       "    <tr>\n",
       "      <th>0</th>\n",
       "      <td>HO</td>\n",
       "      <td>Abarelix</td>\n",
       "      <td>L02BX01</td>\n",
       "    </tr>\n",
       "    <tr>\n",
       "      <th>1</th>\n",
       "      <td>IM</td>\n",
       "      <td>Abatacept</td>\n",
       "      <td>L04AA24</td>\n",
       "    </tr>\n",
       "    <tr>\n",
       "      <th>2</th>\n",
       "      <td>ZS</td>\n",
       "      <td>Abemaciclib</td>\n",
       "      <td>L01EF03</td>\n",
       "    </tr>\n",
       "    <tr>\n",
       "      <th>3</th>\n",
       "      <td>IM</td>\n",
       "      <td>Abetimus</td>\n",
       "      <td>L04AA22</td>\n",
       "    </tr>\n",
       "    <tr>\n",
       "      <th>4</th>\n",
       "      <td>HO</td>\n",
       "      <td>Abirateron</td>\n",
       "      <td>L02BX03</td>\n",
       "    </tr>\n",
       "    <tr>\n",
       "      <th>...</th>\n",
       "      <td>...</td>\n",
       "      <td>...</td>\n",
       "      <td>...</td>\n",
       "    </tr>\n",
       "    <tr>\n",
       "      <th>405</th>\n",
       "      <td>HO</td>\n",
       "      <td>Vorozol</td>\n",
       "      <td>L02BG05</td>\n",
       "    </tr>\n",
       "    <tr>\n",
       "      <th>406</th>\n",
       "      <td>ZS</td>\n",
       "      <td>Zanubrutinib</td>\n",
       "      <td>L01EL03</td>\n",
       "    </tr>\n",
       "    <tr>\n",
       "      <th>407</th>\n",
       "      <td>SO</td>\n",
       "      <td>Zoledronsäure</td>\n",
       "      <td>NaN</td>\n",
       "    </tr>\n",
       "    <tr>\n",
       "      <th>408</th>\n",
       "      <td>CH</td>\n",
       "      <td>Zorubicin</td>\n",
       "      <td>L01DB05</td>\n",
       "    </tr>\n",
       "    <tr>\n",
       "      <th>409</th>\n",
       "      <td>ZS</td>\n",
       "      <td>Zotarolimus</td>\n",
       "      <td>NaN</td>\n",
       "    </tr>\n",
       "  </tbody>\n",
       "</table>\n",
       "<p>410 rows × 3 columns</p>\n",
       "</div>"
      ],
      "text/plain": [
       "    therapieart       substanz     code\n",
       "0            HO       Abarelix  L02BX01\n",
       "1            IM      Abatacept  L04AA24\n",
       "2            ZS    Abemaciclib  L01EF03\n",
       "3            IM       Abetimus  L04AA22\n",
       "4            HO     Abirateron  L02BX03\n",
       "..          ...            ...      ...\n",
       "405          HO        Vorozol  L02BG05\n",
       "406          ZS   Zanubrutinib  L01EL03\n",
       "407          SO  Zoledronsäure      NaN\n",
       "408          CH      Zorubicin  L01DB05\n",
       "409          ZS    Zotarolimus      NaN\n",
       "\n",
       "[410 rows x 3 columns]"
      ]
     },
     "metadata": {},
     "output_type": "display_data"
    }
   ],
   "source": [
    "# # * load reference data\n",
    "URL_V2 = \"https://gitlab.opencode.de/robert-koch-institut/zentrum-fuer-krebsregisterdaten/cancerdata-references/-/raw/main/data/v2/Klassifikationen/substanz.csv?ref_type=heads\"\n",
    "reference_list = pd.read_csv(URL_V2, sep=\";\")\n",
    "display(reference_list)"
   ]
  },
  {
   "cell_type": "code",
   "execution_count": 50,
   "id": "0be1e8b8",
   "metadata": {},
   "outputs": [],
   "source": [
    "# # * create a pandaSeries with some test data\n",
    "fake_data = pd.Series([\"Interferon alpha 2a\", \"Paclitaxel (nab)\", \"Filgrastim\", \"Leuprorelin; Tamoxifen\"])\n",
    "\n",
    "col_with_substances = substance_data[\"Bezeichnung\"][:]\n",
    "# col_with_substances = fake_data\n",
    "col_with_ref_substances = reference_list[\"substanz\"]"
   ]
  },
  {
   "cell_type": "markdown",
   "id": "0a4dc618",
   "metadata": {},
   "source": [
    "## <a id='toc1_2_'></a>[🚀 create recoding](#toc0_)"
   ]
  },
  {
   "cell_type": "code",
   "execution_count": 51,
   "id": "0cacc8f7",
   "metadata": {},
   "outputs": [],
   "source": [
    "results = rec.add_substance(\n",
    "    col_with_substances=col_with_substances,\n",
    "    col_with_ref_substances=col_with_ref_substances,\n",
    "    only_first_match=True,          # get only one match per free text field\n",
    "    threshold=0.85\n",
    ")"
   ]
  },
  {
   "cell_type": "markdown",
   "id": "6d832620",
   "metadata": {},
   "source": [
    "## <a id='toc1_3_'></a>[💾 save results](#toc0_)"
   ]
  },
  {
   "cell_type": "code",
   "execution_count": 52,
   "id": "de48f76d",
   "metadata": {},
   "outputs": [],
   "source": [
    "if not os.path.exists(\".local\"): \n",
    "    os.mkdir(\".local\")\n",
    "results.to_csv(\".local/results.csv\", index=False)"
   ]
  },
  {
   "cell_type": "markdown",
   "id": "b5e650ce",
   "metadata": {},
   "source": [
    "## <a id='toc1_4_'></a>[📈 analysis](#toc0_)\n",
    "- ⚠️ processing may take some minutes"
   ]
  },
  {
   "cell_type": "code",
   "execution_count": 53,
   "id": "d7c5a5d0",
   "metadata": {},
   "outputs": [
    {
     "name": "stdout",
     "output_type": "stream",
     "text": [
      "🔵 *** df: recoding ***  \n",
      "🟣 shape: (4_247, 5) columns: ['Original' 'Preprocessed' 'Hit' 'Mapped_to' 'Similarity']  \n",
      "🟣 duplicates: 0  \n",
      "🟣 uniques: [{Original: 4_247 Preprocessed: 4_102 Hit: 920 Mapped_to: 329 Similarity: 15}]  \n",
      "🟣 missings: [{Original: 0 Preprocessed: 0 Hit: 1_834 Mapped_to: 1_834 Similarity: 1_834}]  \n",
      "--- column uniques (all)  \n",
      "🟠 index [0, 1, 2, 3, 4,]  \n",
      "🟠 Original(4_247|object)   ['(1', '(8mg/kg) Bortezumib', '(Abatacept)', '(Darolutamid)', '(Denosumab)',]  \n",
      "🟠 Preprocessed(4_102|object)   ['', '(8mg/kg) Bortezumib', '(Abatacept)', '(Darolutamid)', '(Denosumab)',]  \n",
      "🟠 Hit(921|object)   ['-CSF', '/-NIVOLUMAB', '5Fluorouracil', '6Mercaptopurin', '<NA>',]  \n",
      "🟠 Mapped_to(330|object)   ['<NA>', 'Abarelix', 'Abatacept', 'Abemaciclib', 'Abetimus',]  \n",
      "🟠 Similarity(15|float64)   [85.0, 86.0, 87.0, 88.0, 89.0,]  \n",
      "--- column stats (numeric)  \n",
      "Similarity -> min: 85.0 | lower: 100.0 | q25: 100.0 | median: 100.0 | mean: 98.443 | q75: 100.0 | upper: 100.0 | max: 100.0 | std: 3.372 | cv: 0.034 | sum: 237_543.0 | skew: -2.118 | kurto: 3.409  \n"
     ]
    },
    {
     "data": {
      "application/vnd.microsoft.datawrangler.viewer.v0+json": {
       "columns": [
        {
         "name": "index",
         "rawType": "int64",
         "type": "integer"
        },
        {
         "name": "Original",
         "rawType": "object",
         "type": "string"
        },
        {
         "name": "Preprocessed",
         "rawType": "object",
         "type": "string"
        },
        {
         "name": "Hit",
         "rawType": "object",
         "type": "string"
        },
        {
         "name": "Mapped_to",
         "rawType": "object",
         "type": "string"
        },
        {
         "name": "Similarity",
         "rawType": "float64",
         "type": "float"
        }
       ],
       "ref": "bf183971-679c-4920-ab01-be6e5e818ba4",
       "rows": [
        [
         "0",
         "Dacarbazin (DTIC)",
         "Dacarbazin (DTIC)",
         "Dacarbazin",
         "Dacarbazin",
         "100.0"
        ],
        [
         "1",
         "Ribociclib",
         "Ribociclib",
         "Ribociclib",
         "Ribociclib",
         "100.0"
        ],
        [
         "2",
         "Wirkstoff: keine Angabe",
         "Wirkstoff: keine Angabe",
         "<NA>",
         "<NA>",
         null
        ]
       ],
       "shape": {
        "columns": 5,
        "rows": 3
       }
      },
      "text/html": [
       "<div>\n",
       "<style scoped>\n",
       "    .dataframe tbody tr th:only-of-type {\n",
       "        vertical-align: middle;\n",
       "    }\n",
       "\n",
       "    .dataframe tbody tr th {\n",
       "        vertical-align: top;\n",
       "    }\n",
       "\n",
       "    .dataframe thead th {\n",
       "        text-align: right;\n",
       "    }\n",
       "</style>\n",
       "<table border=\"1\" class=\"dataframe\">\n",
       "  <thead>\n",
       "    <tr style=\"text-align: right;\">\n",
       "      <th></th>\n",
       "      <th>Original</th>\n",
       "      <th>Preprocessed</th>\n",
       "      <th>Hit</th>\n",
       "      <th>Mapped_to</th>\n",
       "      <th>Similarity</th>\n",
       "    </tr>\n",
       "  </thead>\n",
       "  <tbody>\n",
       "    <tr>\n",
       "      <th>0</th>\n",
       "      <td>Dacarbazin (DTIC)</td>\n",
       "      <td>Dacarbazin (DTIC)</td>\n",
       "      <td>Dacarbazin</td>\n",
       "      <td>Dacarbazin</td>\n",
       "      <td>100.0</td>\n",
       "    </tr>\n",
       "    <tr>\n",
       "      <th>1</th>\n",
       "      <td>Ribociclib</td>\n",
       "      <td>Ribociclib</td>\n",
       "      <td>Ribociclib</td>\n",
       "      <td>Ribociclib</td>\n",
       "      <td>100.0</td>\n",
       "    </tr>\n",
       "    <tr>\n",
       "      <th>2</th>\n",
       "      <td>Wirkstoff: keine Angabe</td>\n",
       "      <td>Wirkstoff: keine Angabe</td>\n",
       "      <td>&lt;NA&gt;</td>\n",
       "      <td>&lt;NA&gt;</td>\n",
       "      <td>NaN</td>\n",
       "    </tr>\n",
       "  </tbody>\n",
       "</table>\n",
       "</div>"
      ],
      "text/plain": [
       "                  Original             Preprocessed         Hit   Mapped_to  \\\n",
       "0        Dacarbazin (DTIC)        Dacarbazin (DTIC)  Dacarbazin  Dacarbazin   \n",
       "1               Ribociclib               Ribociclib  Ribociclib  Ribociclib   \n",
       "2  Wirkstoff: keine Angabe  Wirkstoff: keine Angabe        <NA>        <NA>   \n",
       "\n",
       "   Similarity  \n",
       "0       100.0  \n",
       "1       100.0  \n",
       "2         NaN  "
      ]
     },
     "metadata": {},
     "output_type": "display_data"
    },
    {
     "data": {
      "application/vnd.plotly.v1+json": {
       "config": {
        "plotlyServerURL": "https://plot.ly"
       },
       "data": [
        {
         "hovertemplate": "x=%{x}<br>y=%{y}<extra></extra>",
         "legendgroup": "",
         "marker": {
          "color": "#636efa",
          "pattern": {
           "shape": ""
          }
         },
         "name": "",
         "orientation": "v",
         "showlegend": false,
         "textposition": "auto",
         "type": "bar",
         "x": [
          "Dacarbazin..",
          "LHRH-Antag..",
          "Furosemid",
          "Wirkstoff:..",
          "Midostauri..",
          "Cetuximab",
          "Cisplatin",
          "Cytarabin ..",
          "5-Fluorour..",
          "Erbitux",
          "Paclitaxel..",
          "GnRH-Antag..",
          "Autolog",
          "Methotrexa..",
          "Carfilzomi..",
          "Letrozol (..",
          "Abirateron..",
          "LETROZOL",
          "MCP",
          "Clemastin",
          "Perjeta",
          "Giredestra..",
          "Afatinib",
          "Studienmed..",
          "Neupogen, ..",
          "Histrelin",
          "Vindesin",
          "Pamorelin",
          "Nivolumab ..",
          "Lorlatinib",
          "Sotarasib",
          "L01XA01",
          "Amilomer",
          "PEG-Filgra..",
          "Stammzellt..",
          "Daratumuma..",
          "Pembrolizu..",
          "Bade-PUVA",
          "Tamoxifen ..",
          "Paclitaxel..",
          "Studienmed..",
          "Cabozantin..",
          "Natriumfol..",
          "Caelyx",
          "Akynzeo i...",
          "pegliposom..",
          "Fluorourac..",
          "Ribofolin,..",
          "EmboCept S",
          "Emtansine ..",
          "GnRH",
          "Posaconazo..",
          "Paclitaxel..",
          "Leuproreli..",
          "Fluroblast..",
          "Folins.",
          "Tioguanin ..",
          "5-Fluoruur..",
          "Faslodex",
          "Dexamethas..",
          "Ibandronsä..",
          "Lumykras; ..",
          "Herceptin,..",
          "Elacestran..",
          "MERCAPTOPU..",
          "CLADRIBINE",
          "Zoledronat..",
          "Brigantini..",
          "Studienmed..",
          "Sacitumab",
          "Etoposid (..",
          "Tarlatamab",
          "Erlea",
          "liposomale..",
          "Calciumfol..",
          "5-Fluorura..",
          "ADT",
          "Gemcitabin..",
          "Nintedanib..",
          "Ruxolitini..",
          "L01XC03",
          "Zanolimuma..",
          "Studienpro..",
          "Enfortumab..",
          "Vincristin..",
          "Epirubicin..",
          "5-Fluorura..",
          "Cyramza",
          "Darbepoeti..",
          "Mesna/Urom..",
          "Selpercati..",
          "Daratumuma..",
          "Denosumab ..",
          "FLUDARABIN",
          "TDM",
          "Bacillus C..",
          "Bendamusti..",
          "Radio-Chem..",
          "Nivolumab ..",
          "Gemtuzumab.."
         ],
         "xaxis": "x",
         "y": {
          "bdata": "AQEBAQEBAQEBAQEBAQEBAQEBAQEBAQEBAQEBAQEBAQEBAQEBAQEBAQEBAQEBAQEBAQEBAQEBAQEBAQEBAQEBAQEBAQEBAQEBAQEBAQEBAQEBAQEBAQEBAQEBAQEBAQEBAQEBAQ==",
          "dtype": "i1"
         },
         "yaxis": "y"
        },
        {
         "hovertemplate": "x=%{x}<br>y=%{y}<extra></extra>",
         "legendgroup": "",
         "marker": {
          "color": "#636efa",
          "pattern": {
           "shape": ""
          }
         },
         "name": "",
         "orientation": "v",
         "showlegend": false,
         "textposition": "auto",
         "type": "bar",
         "x": [
          "",
          "fluorourac..",
          "Paclitaxel..",
          "Carboplati..",
          "ohne nÃ¤he..",
          "Block",
          "Mitomycin",
          "Paclitaxel..",
          "Block anal..",
          "Protokoll",
          "Interferon..",
          "Fluorourac..",
          "folinsäure",
          "Carboplati..",
          "Tamoxifen",
          "Glucose",
          "Dinutuxima..",
          "Irinotecan..",
          "Privigen",
          "Trastuzuma..",
          "Ciclospori..",
          "upfront",
          "Bacillus C..",
          "Actinomyci..",
          "Gemcitabin..",
          "Trifluridi..",
          "Bevazizuma..",
          "Oxaliplati..",
          "Paclitaxel..",
          "Doxorubici..",
          "Cyclospori..",
          "Chemothera..",
          "Autolog",
          "EmboCept",
          "Folinsäure..",
          "Methotrexa..",
          "Zoledronsä..",
          "Exemestan",
          "Pamorelin",
          "gemcitabin",
          "Bicalutami..",
          "Daratumuma..",
          "Atezolizum..",
          "Cyclophosp..",
          "Immunglobu..",
          "Mesna vor ..",
          "unbekannt",
          "T-DM1",
          "Folinat",
          "Bisphospho..",
          "Vincristin",
          "Octreotid",
          "Fluorourac..",
          "Folinsäure..",
          "Apalutamid",
          "Cisplatin ..",
          "Paclitaxel..",
          "Folinsäure",
          "Ondansetro..",
          "Folinsäure..",
          "Iscador",
          "Paclitaxel..",
          "Folinsäure..",
          "BI1438-000",
          "FOLFOX",
          "Interleuki..",
          "Clemastin ..",
          "GnRH-Antag..",
          "Abirateron..",
          "LHRH-Antag..",
          "Letrozol (..",
          "Carfilzomi..",
          "Cisplatin",
          "Paclitaxel..",
          "Erbitux",
          "5-Fluorour..",
          "Cytarabin ..",
          "Clemastin",
          "Cetuximab",
          "Midostauri..",
          "MCP",
          "Neupogen, ..",
          "Perjeta",
          "Giredestra..",
          "Afatinib",
          "Studienmed..",
          "Histrelin",
          "Vindesin",
          "Nivolumab ..",
          "Lorlatinib",
          "Sotarasib",
          "L01XA01",
          "Wirkstoff:..",
          "Brigantini..",
          "Sacitumab",
          "Bacillus C..",
          "Furosemid",
          "Ibandronsä..",
          "Amilomer",
          "Studienmed.."
         ],
         "xaxis": "x2",
         "y": {
          "bdata": "HQ8NCggEBAQDAwMDAwMDAgICAgICAgICAgICAgICAgICAgICAgICAgICAgICAgICAgICAgICAgICAgICAgICAgICAgEBAQEBAQEBAQEBAQEBAQEBAQEBAQEBAQEBAQEBAQEBAQ==",
          "dtype": "i1"
         },
         "yaxis": "y2"
        },
        {
         "hovertemplate": "x=%{x}<br>y=%{y}<extra></extra>",
         "legendgroup": "",
         "marker": {
          "color": "#636efa",
          "pattern": {
           "shape": ""
          }
         },
         "name": "",
         "orientation": "v",
         "showlegend": false,
         "textposition": "auto",
         "type": "bar",
         "x": [
          "<NA>",
          "Irinotecan",
          "Doxorubici..",
          "Carboplati..",
          "fluorourac..",
          "Folinsäure",
          "Paclitaxel",
          "Trastuzuma..",
          "Cisplatin",
          "Fluorourac..",
          "Paclitaxel..",
          "Oxaliplati..",
          "Cytarabin",
          "Dexamethas..",
          "Gemcitabin",
          "Mitomycin",
          "Leuproreli..",
          "Epirubicin",
          "Cyclophosp..",
          "Nivolumab",
          "Tamoxifen",
          "Pembrolizu..",
          "Etoposid",
          "Rituximab",
          "Mesna",
          "BCG",
          "Capecitabi..",
          "Methotrexa..",
          "Bevacizuma..",
          "Letrozol",
          "Prednisolo..",
          "Denosumab",
          "folinsäure",
          "Vincristin",
          "Apalutamid",
          "Hydroxycar..",
          "Docetaxel",
          "Daratumuma..",
          "Atezolizum..",
          "Daunorubic..",
          "Prednison",
          "Olaparib",
          "Dacarbazin",
          "Zoledronsä..",
          "Abirateron",
          "Pemetrexed",
          "Durvalumab",
          "Placebo",
          "Bicalutami..",
          "Abemacicli..",
          "Erythropoe..",
          "Bendamusti..",
          "Obinutuzum..",
          "Cemiplimab",
          "Imatinib",
          "Bleomycin",
          "Pamidronsä..",
          "Studienmed..",
          "Azacitidin",
          "Bortezomib",
          "Gemtuzumab",
          "Cetuximab",
          "Venetoclax",
          "Osimertini..",
          "Everolimus",
          "Ipilimumab",
          "Exemestan",
          "Ribociclib",
          "Lomustin",
          "Doxorubici..",
          "Asparagina..",
          "Ibrutinib",
          "Anastrozol",
          "Pertuzumab",
          "Octreotid",
          "Ruxolitini..",
          "Lenalidomi..",
          "Mercaptopu..",
          "Vinblastin",
          "Vinorelbin",
          "Palbocicli..",
          "Pegfilgras..",
          "Enzalutami..",
          "Irinotecan..",
          "Lenvatinib",
          "Melphalan",
          "Cladribin",
          "Procarbazi..",
          "Aderlass",
          "Dasatinib",
          "Ibandronsä..",
          "Interferon..",
          "Triptoreli..",
          "Temozolomi..",
          "Dabrafenib",
          "Isatuximab",
          "Fulvestran..",
          "Lanreotid",
          "Ramuciruma..",
          "Encorafeni.."
         ],
         "xaxis": "x3",
         "y": {
          "bdata": "Kgc+ADgANAAyACwAKwAlACQAIwAiABoAGgAaABkAFwAVABUAFQAUABMAEwATABMAEgASABEAEAAPAA4ADgANAA0ADQANAA0ADAAMAAwACwALAAoACgAKAAoACgAKAAkACQAJAAkACQAIAAgACAAIAAgACAAHAAcABwAHAAcABwAHAAcABwAHAAcABwAHAAcABwAHAAcABwAHAAYABgAGAAYABgAGAAYABgAGAAYABQAFAAUABQAFAAUABQAFAAUABQAFAAUABQA=",
          "dtype": "i2"
         },
         "yaxis": "y3"
        },
        {
         "hovertemplate": "x=%{x}<br>y=%{y}<extra></extra>",
         "legendgroup": "",
         "marker": {
          "color": "#636efa",
          "pattern": {
           "shape": ""
          }
         },
         "name": "",
         "orientation": "v",
         "showlegend": false,
         "textposition": "auto",
         "type": "bar",
         "x": [
          "<NA>",
          "Fluorourac..",
          "Carboplati..",
          "Irinotecan",
          "Doxorubici..",
          "Folinsäure",
          "Paclitaxel",
          "Trastuzuma..",
          "Cyclophosp..",
          "Cisplatin",
          "Gemcitabin",
          "Paclitaxel..",
          "Dexamethas..",
          "Capecitabi..",
          "Pembrolizu..",
          "Oxaliplati..",
          "Cytarabin",
          "Mitomycin",
          "Leuproreli..",
          "Tamoxifen",
          "Bevacizuma..",
          "Etoposid",
          "Epirubicin",
          "Nivolumab",
          "Rituximab",
          "Prednisolo..",
          "Methotrexa..",
          "Mesna",
          "Letrozol",
          "Docetaxel",
          "BCG",
          "Hydroxycar..",
          "Pemetrexed",
          "Daratumuma..",
          "Atezolizum..",
          "Apalutamid",
          "Polatuzuma..",
          "Vincristin",
          "Anastrozol",
          "Dacarbazin",
          "Ipilimumab",
          "Azacitidin",
          "Zoledronsä..",
          "Durvalumab",
          "Abirateron",
          "Prednison",
          "Erythropoe..",
          "Denosumab",
          "Bicalutami..",
          "Daunorubic..",
          "Obinutuzum..",
          "Pegfilgras..",
          "Bendamusti..",
          "Palbocicli..",
          "Trifluridi..",
          "Bortezomib",
          "Cemiplimab",
          "Olaparib",
          "Abemacicli..",
          "Vinorelbin",
          "Ramuciruma..",
          "Lenvatinib",
          "Bleomycin",
          "Mercaptopu..",
          "Interferon..",
          "Ibrutinib",
          "Cetuximab",
          "Enfortumab..",
          "Lenalidomi..",
          "Venetoclax",
          "Ruxolitini..",
          "Cladribin",
          "Imatinib",
          "Placebo",
          "Exemestan",
          "Pamidronsä..",
          "Studienmed..",
          "Procarbazi..",
          "Osimertini..",
          "Filgrastim",
          "Ribociclib",
          "Gemtuzumab",
          "Vinblastin",
          "Cabozantin..",
          "Everolimus",
          "Dabrafenib",
          "Asparagina..",
          "Pertuzumab",
          "Doxorubici..",
          "Lanreotid",
          "Dactinomyc..",
          "Lomustin",
          "Darolutami..",
          "Temozolomi..",
          "Octreotid",
          "Melphalan",
          "Trametinib",
          "Carmustin",
          "Irinotecan..",
          "Aderlass"
         ],
         "xaxis": "x4",
         "y": {
          "bdata": "KgdaAEYARQBFAEQAOgAtACoAKgAmACMAIgAhACEAIQAhAB8AHAAaABkAGQAZABgAFQAVABQAFAATABMAEwASABIAEgARABEAEQARABAAEAAQAA8ADwAPAA8ADwAPAA4ADgANAAwADAAMAAsACwALAAsACwALAAsACgAKAAoACgAKAAoACgAKAAoACgAKAAkACQAJAAkACQAJAAkACQAIAAgACAAIAAgACAAIAAgACAAIAAgACAAIAAcABwAHAAcABwAGAAYABgA=",
          "dtype": "i2"
         },
         "yaxis": "y4"
        },
        {
         "hovertemplate": "x=%{x}<br>y=%{y}<extra></extra>",
         "legendgroup": "",
         "marker": {
          "color": "#636efa",
          "pattern": {
           "shape": ""
          }
         },
         "name": "",
         "orientation": "v",
         "showlegend": false,
         "textposition": "auto",
         "type": "bar",
         "x": {
          "bdata": "AAAAAAAAWUAAAAAAAMBXQAAAAAAAAFhAAAAAAACAVkAAAAAAAMBWQAAAAAAAQFZAAAAAAAAAV0AAAAAAAEBXQAAAAAAAgFVAAAAAAACAV0AAAAAAAEBYQAAAAAAAAFZAAAAAAADAVUAAAAAAAEBVQAAAAAAAgFhA",
          "dtype": "f8"
         },
         "xaxis": "x5",
         "y": {
          "bdata": "eQdzAE4APAA7ACwAHQAaABUAFAASAAsACQAIAAIA",
          "dtype": "i2"
         },
         "yaxis": "y5"
        }
       ],
       "layout": {
        "annotations": [
         {
          "font": {
           "size": 16
          },
          "showarrow": false,
          "text": "Original",
          "x": 0.08399999999999999,
          "xanchor": "center",
          "xref": "paper",
          "y": 1,
          "yanchor": "bottom",
          "yref": "paper"
         },
         {
          "font": {
           "size": 16
          },
          "showarrow": false,
          "text": "Preprocessed",
          "x": 0.292,
          "xanchor": "center",
          "xref": "paper",
          "y": 1,
          "yanchor": "bottom",
          "yref": "paper"
         },
         {
          "font": {
           "size": 16
          },
          "showarrow": false,
          "text": "Hit",
          "x": 0.5,
          "xanchor": "center",
          "xref": "paper",
          "y": 1,
          "yanchor": "bottom",
          "yref": "paper"
         },
         {
          "font": {
           "size": 16
          },
          "showarrow": false,
          "text": "Mapped_to",
          "x": 0.708,
          "xanchor": "center",
          "xref": "paper",
          "y": 1,
          "yanchor": "bottom",
          "yref": "paper"
         },
         {
          "font": {
           "size": 16
          },
          "showarrow": false,
          "text": "Similarity",
          "x": 0.9159999999999999,
          "xanchor": "center",
          "xref": "paper",
          "y": 1,
          "yanchor": "bottom",
          "yref": "paper"
         }
        ],
        "height": 300,
        "template": {
         "data": {
          "bar": [
           {
            "error_x": {
             "color": "#2a3f5f"
            },
            "error_y": {
             "color": "#2a3f5f"
            },
            "marker": {
             "line": {
              "color": "#E5ECF6",
              "width": 0.5
             },
             "pattern": {
              "fillmode": "overlay",
              "size": 10,
              "solidity": 0.2
             }
            },
            "type": "bar"
           }
          ],
          "barpolar": [
           {
            "marker": {
             "line": {
              "color": "#E5ECF6",
              "width": 0.5
             },
             "pattern": {
              "fillmode": "overlay",
              "size": 10,
              "solidity": 0.2
             }
            },
            "type": "barpolar"
           }
          ],
          "carpet": [
           {
            "aaxis": {
             "endlinecolor": "#2a3f5f",
             "gridcolor": "white",
             "linecolor": "white",
             "minorgridcolor": "white",
             "startlinecolor": "#2a3f5f"
            },
            "baxis": {
             "endlinecolor": "#2a3f5f",
             "gridcolor": "white",
             "linecolor": "white",
             "minorgridcolor": "white",
             "startlinecolor": "#2a3f5f"
            },
            "type": "carpet"
           }
          ],
          "choropleth": [
           {
            "colorbar": {
             "outlinewidth": 0,
             "ticks": ""
            },
            "type": "choropleth"
           }
          ],
          "contour": [
           {
            "colorbar": {
             "outlinewidth": 0,
             "ticks": ""
            },
            "colorscale": [
             [
              0,
              "#0d0887"
             ],
             [
              0.1111111111111111,
              "#46039f"
             ],
             [
              0.2222222222222222,
              "#7201a8"
             ],
             [
              0.3333333333333333,
              "#9c179e"
             ],
             [
              0.4444444444444444,
              "#bd3786"
             ],
             [
              0.5555555555555556,
              "#d8576b"
             ],
             [
              0.6666666666666666,
              "#ed7953"
             ],
             [
              0.7777777777777778,
              "#fb9f3a"
             ],
             [
              0.8888888888888888,
              "#fdca26"
             ],
             [
              1,
              "#f0f921"
             ]
            ],
            "type": "contour"
           }
          ],
          "contourcarpet": [
           {
            "colorbar": {
             "outlinewidth": 0,
             "ticks": ""
            },
            "type": "contourcarpet"
           }
          ],
          "heatmap": [
           {
            "colorbar": {
             "outlinewidth": 0,
             "ticks": ""
            },
            "colorscale": [
             [
              0,
              "#0d0887"
             ],
             [
              0.1111111111111111,
              "#46039f"
             ],
             [
              0.2222222222222222,
              "#7201a8"
             ],
             [
              0.3333333333333333,
              "#9c179e"
             ],
             [
              0.4444444444444444,
              "#bd3786"
             ],
             [
              0.5555555555555556,
              "#d8576b"
             ],
             [
              0.6666666666666666,
              "#ed7953"
             ],
             [
              0.7777777777777778,
              "#fb9f3a"
             ],
             [
              0.8888888888888888,
              "#fdca26"
             ],
             [
              1,
              "#f0f921"
             ]
            ],
            "type": "heatmap"
           }
          ],
          "histogram": [
           {
            "marker": {
             "pattern": {
              "fillmode": "overlay",
              "size": 10,
              "solidity": 0.2
             }
            },
            "type": "histogram"
           }
          ],
          "histogram2d": [
           {
            "colorbar": {
             "outlinewidth": 0,
             "ticks": ""
            },
            "colorscale": [
             [
              0,
              "#0d0887"
             ],
             [
              0.1111111111111111,
              "#46039f"
             ],
             [
              0.2222222222222222,
              "#7201a8"
             ],
             [
              0.3333333333333333,
              "#9c179e"
             ],
             [
              0.4444444444444444,
              "#bd3786"
             ],
             [
              0.5555555555555556,
              "#d8576b"
             ],
             [
              0.6666666666666666,
              "#ed7953"
             ],
             [
              0.7777777777777778,
              "#fb9f3a"
             ],
             [
              0.8888888888888888,
              "#fdca26"
             ],
             [
              1,
              "#f0f921"
             ]
            ],
            "type": "histogram2d"
           }
          ],
          "histogram2dcontour": [
           {
            "colorbar": {
             "outlinewidth": 0,
             "ticks": ""
            },
            "colorscale": [
             [
              0,
              "#0d0887"
             ],
             [
              0.1111111111111111,
              "#46039f"
             ],
             [
              0.2222222222222222,
              "#7201a8"
             ],
             [
              0.3333333333333333,
              "#9c179e"
             ],
             [
              0.4444444444444444,
              "#bd3786"
             ],
             [
              0.5555555555555556,
              "#d8576b"
             ],
             [
              0.6666666666666666,
              "#ed7953"
             ],
             [
              0.7777777777777778,
              "#fb9f3a"
             ],
             [
              0.8888888888888888,
              "#fdca26"
             ],
             [
              1,
              "#f0f921"
             ]
            ],
            "type": "histogram2dcontour"
           }
          ],
          "mesh3d": [
           {
            "colorbar": {
             "outlinewidth": 0,
             "ticks": ""
            },
            "type": "mesh3d"
           }
          ],
          "parcoords": [
           {
            "line": {
             "colorbar": {
              "outlinewidth": 0,
              "ticks": ""
             }
            },
            "type": "parcoords"
           }
          ],
          "pie": [
           {
            "automargin": true,
            "type": "pie"
           }
          ],
          "scatter": [
           {
            "fillpattern": {
             "fillmode": "overlay",
             "size": 10,
             "solidity": 0.2
            },
            "type": "scatter"
           }
          ],
          "scatter3d": [
           {
            "line": {
             "colorbar": {
              "outlinewidth": 0,
              "ticks": ""
             }
            },
            "marker": {
             "colorbar": {
              "outlinewidth": 0,
              "ticks": ""
             }
            },
            "type": "scatter3d"
           }
          ],
          "scattercarpet": [
           {
            "marker": {
             "colorbar": {
              "outlinewidth": 0,
              "ticks": ""
             }
            },
            "type": "scattercarpet"
           }
          ],
          "scattergeo": [
           {
            "marker": {
             "colorbar": {
              "outlinewidth": 0,
              "ticks": ""
             }
            },
            "type": "scattergeo"
           }
          ],
          "scattergl": [
           {
            "marker": {
             "colorbar": {
              "outlinewidth": 0,
              "ticks": ""
             }
            },
            "type": "scattergl"
           }
          ],
          "scattermap": [
           {
            "marker": {
             "colorbar": {
              "outlinewidth": 0,
              "ticks": ""
             }
            },
            "type": "scattermap"
           }
          ],
          "scattermapbox": [
           {
            "marker": {
             "colorbar": {
              "outlinewidth": 0,
              "ticks": ""
             }
            },
            "type": "scattermapbox"
           }
          ],
          "scatterpolar": [
           {
            "marker": {
             "colorbar": {
              "outlinewidth": 0,
              "ticks": ""
             }
            },
            "type": "scatterpolar"
           }
          ],
          "scatterpolargl": [
           {
            "marker": {
             "colorbar": {
              "outlinewidth": 0,
              "ticks": ""
             }
            },
            "type": "scatterpolargl"
           }
          ],
          "scatterternary": [
           {
            "marker": {
             "colorbar": {
              "outlinewidth": 0,
              "ticks": ""
             }
            },
            "type": "scatterternary"
           }
          ],
          "surface": [
           {
            "colorbar": {
             "outlinewidth": 0,
             "ticks": ""
            },
            "colorscale": [
             [
              0,
              "#0d0887"
             ],
             [
              0.1111111111111111,
              "#46039f"
             ],
             [
              0.2222222222222222,
              "#7201a8"
             ],
             [
              0.3333333333333333,
              "#9c179e"
             ],
             [
              0.4444444444444444,
              "#bd3786"
             ],
             [
              0.5555555555555556,
              "#d8576b"
             ],
             [
              0.6666666666666666,
              "#ed7953"
             ],
             [
              0.7777777777777778,
              "#fb9f3a"
             ],
             [
              0.8888888888888888,
              "#fdca26"
             ],
             [
              1,
              "#f0f921"
             ]
            ],
            "type": "surface"
           }
          ],
          "table": [
           {
            "cells": {
             "fill": {
              "color": "#EBF0F8"
             },
             "line": {
              "color": "white"
             }
            },
            "header": {
             "fill": {
              "color": "#C8D4E3"
             },
             "line": {
              "color": "white"
             }
            },
            "type": "table"
           }
          ]
         },
         "layout": {
          "annotationdefaults": {
           "arrowcolor": "#2a3f5f",
           "arrowhead": 0,
           "arrowwidth": 1
          },
          "autotypenumbers": "strict",
          "coloraxis": {
           "colorbar": {
            "outlinewidth": 0,
            "ticks": ""
           }
          },
          "colorscale": {
           "diverging": [
            [
             0,
             "#8e0152"
            ],
            [
             0.1,
             "#c51b7d"
            ],
            [
             0.2,
             "#de77ae"
            ],
            [
             0.3,
             "#f1b6da"
            ],
            [
             0.4,
             "#fde0ef"
            ],
            [
             0.5,
             "#f7f7f7"
            ],
            [
             0.6,
             "#e6f5d0"
            ],
            [
             0.7,
             "#b8e186"
            ],
            [
             0.8,
             "#7fbc41"
            ],
            [
             0.9,
             "#4d9221"
            ],
            [
             1,
             "#276419"
            ]
           ],
           "sequential": [
            [
             0,
             "#0d0887"
            ],
            [
             0.1111111111111111,
             "#46039f"
            ],
            [
             0.2222222222222222,
             "#7201a8"
            ],
            [
             0.3333333333333333,
             "#9c179e"
            ],
            [
             0.4444444444444444,
             "#bd3786"
            ],
            [
             0.5555555555555556,
             "#d8576b"
            ],
            [
             0.6666666666666666,
             "#ed7953"
            ],
            [
             0.7777777777777778,
             "#fb9f3a"
            ],
            [
             0.8888888888888888,
             "#fdca26"
            ],
            [
             1,
             "#f0f921"
            ]
           ],
           "sequentialminus": [
            [
             0,
             "#0d0887"
            ],
            [
             0.1111111111111111,
             "#46039f"
            ],
            [
             0.2222222222222222,
             "#7201a8"
            ],
            [
             0.3333333333333333,
             "#9c179e"
            ],
            [
             0.4444444444444444,
             "#bd3786"
            ],
            [
             0.5555555555555556,
             "#d8576b"
            ],
            [
             0.6666666666666666,
             "#ed7953"
            ],
            [
             0.7777777777777778,
             "#fb9f3a"
            ],
            [
             0.8888888888888888,
             "#fdca26"
            ],
            [
             1,
             "#f0f921"
            ]
           ]
          },
          "colorway": [
           "#636efa",
           "#EF553B",
           "#00cc96",
           "#ab63fa",
           "#FFA15A",
           "#19d3f3",
           "#FF6692",
           "#B6E880",
           "#FF97FF",
           "#FECB52"
          ],
          "font": {
           "color": "#2a3f5f"
          },
          "geo": {
           "bgcolor": "white",
           "lakecolor": "white",
           "landcolor": "#E5ECF6",
           "showlakes": true,
           "showland": true,
           "subunitcolor": "white"
          },
          "hoverlabel": {
           "align": "left"
          },
          "hovermode": "closest",
          "mapbox": {
           "style": "light"
          },
          "paper_bgcolor": "white",
          "plot_bgcolor": "#E5ECF6",
          "polar": {
           "angularaxis": {
            "gridcolor": "white",
            "linecolor": "white",
            "ticks": ""
           },
           "bgcolor": "#E5ECF6",
           "radialaxis": {
            "gridcolor": "white",
            "linecolor": "white",
            "ticks": ""
           }
          },
          "scene": {
           "xaxis": {
            "backgroundcolor": "#E5ECF6",
            "gridcolor": "white",
            "gridwidth": 2,
            "linecolor": "white",
            "showbackground": true,
            "ticks": "",
            "zerolinecolor": "white"
           },
           "yaxis": {
            "backgroundcolor": "#E5ECF6",
            "gridcolor": "white",
            "gridwidth": 2,
            "linecolor": "white",
            "showbackground": true,
            "ticks": "",
            "zerolinecolor": "white"
           },
           "zaxis": {
            "backgroundcolor": "#E5ECF6",
            "gridcolor": "white",
            "gridwidth": 2,
            "linecolor": "white",
            "showbackground": true,
            "ticks": "",
            "zerolinecolor": "white"
           }
          },
          "shapedefaults": {
           "line": {
            "color": "#2a3f5f"
           }
          },
          "ternary": {
           "aaxis": {
            "gridcolor": "white",
            "linecolor": "white",
            "ticks": ""
           },
           "baxis": {
            "gridcolor": "white",
            "linecolor": "white",
            "ticks": ""
           },
           "bgcolor": "#E5ECF6",
           "caxis": {
            "gridcolor": "white",
            "linecolor": "white",
            "ticks": ""
           }
          },
          "title": {
           "x": 0.05
          },
          "xaxis": {
           "automargin": true,
           "gridcolor": "white",
           "linecolor": "white",
           "ticks": "",
           "title": {
            "standoff": 15
           },
           "zerolinecolor": "white",
           "zerolinewidth": 2
          },
          "yaxis": {
           "automargin": true,
           "gridcolor": "white",
           "linecolor": "white",
           "ticks": "",
           "title": {
            "standoff": 15
           },
           "zerolinecolor": "white",
           "zerolinewidth": 2
          }
         }
        },
        "width": 1500,
        "xaxis": {
         "anchor": "y",
         "domain": [
          0,
          0.16799999999999998
         ]
        },
        "xaxis2": {
         "anchor": "y2",
         "domain": [
          0.208,
          0.376
         ]
        },
        "xaxis3": {
         "anchor": "y3",
         "domain": [
          0.416,
          0.584
         ]
        },
        "xaxis4": {
         "anchor": "y4",
         "domain": [
          0.624,
          0.792
         ]
        },
        "xaxis5": {
         "anchor": "y5",
         "domain": [
          0.832,
          1
         ]
        },
        "yaxis": {
         "anchor": "x",
         "domain": [
          0,
          1
         ]
        },
        "yaxis2": {
         "anchor": "x2",
         "domain": [
          0,
          1
         ]
        },
        "yaxis3": {
         "anchor": "x3",
         "domain": [
          0,
          1
         ]
        },
        "yaxis4": {
         "anchor": "x4",
         "domain": [
          0,
          1
         ]
        },
        "yaxis5": {
         "anchor": "x5",
         "domain": [
          0,
          1
         ]
        }
       }
      }
     },
     "metadata": {},
     "output_type": "display_data"
    }
   ],
   "source": [
    "tbl.describe_df(\n",
    "    df=results,\n",
    "    caption=\"recoding\",\n",
    "    top_n_uniques=5,\n",
    "    top_n_chars_in_index=10,\n",
    ")"
   ]
  },
  {
   "cell_type": "code",
   "execution_count": 54,
   "id": "e200e258",
   "metadata": {},
   "outputs": [
    {
     "data": {
      "application/vnd.plotly.v1+json": {
       "config": {
        "plotlyServerURL": "https://plot.ly"
       },
       "data": [
        {
         "alignmentgroup": "True",
         "hovertemplate": "value=%{x}<br>variable=%{y}<extra></extra>",
         "legendgroup": "",
         "marker": {
          "color": "#636efa"
         },
         "name": "",
         "notched": false,
         "offsetgroup": "",
         "orientation": "h",
         "showlegend": false,
         "type": "box",
         "x": {
          "bdata": "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",
          "dtype": "f8"
         },
         "x0": " ",
         "xaxis": "x",
         "y": [
          "Similarity",
          "Similarity",
          "Similarity",
          "Similarity",
          "Similarity",
          "Similarity",
          "Similarity",
          "Similarity",
          "Similarity",
          "Similarity",
          "Similarity",
          "Similarity",
          "Similarity",
          "Similarity",
          "Similarity",
          "Similarity",
          "Similarity",
          "Similarity",
          "Similarity",
          "Similarity",
          "Similarity",
          "Similarity",
          "Similarity",
          "Similarity",
          "Similarity",
          "Similarity",
          "Similarity",
          "Similarity",
          "Similarity",
          "Similarity",
          "Similarity",
          "Similarity",
          "Similarity",
          "Similarity",
          "Similarity",
          "Similarity",
          "Similarity",
          "Similarity",
          "Similarity",
          "Similarity",
          "Similarity",
          "Similarity",
          "Similarity",
          "Similarity",
          "Similarity",
          "Similarity",
          "Similarity",
          "Similarity",
          "Similarity",
          "Similarity",
          "Similarity",
          "Similarity",
          "Similarity",
          "Similarity",
          "Similarity",
          "Similarity",
          "Similarity",
          "Similarity",
          "Similarity",
          "Similarity",
          "Similarity",
          "Similarity",
          "Similarity",
          "Similarity",
          "Similarity",
          "Similarity",
          "Similarity",
          "Similarity",
          "Similarity",
          "Similarity",
          "Similarity",
          "Similarity",
          "Similarity",
          "Similarity",
          "Similarity",
          "Similarity",
          "Similarity",
          "Similarity",
          "Similarity",
          "Similarity",
          "Similarity",
          "Similarity",
          "Similarity",
          "Similarity",
          "Similarity",
          "Similarity",
          "Similarity",
          "Similarity",
          "Similarity",
          "Similarity",
          "Similarity",
          "Similarity",
          "Similarity",
          "Similarity",
          "Similarity",
          "Similarity",
          "Similarity",
          "Similarity",
          "Similarity",
          "Similarity",
          "Similarity",
          "Similarity",
          "Similarity",
          "Similarity",
          "Similarity",
          "Similarity",
          "Similarity",
          "Similarity",
          "Similarity",
          "Similarity",
          "Similarity",
          "Similarity",
          "Similarity",
          "Similarity",
          "Similarity",
          "Similarity",
          "Similarity",
          "Similarity",
          "Similarity",
          "Similarity",
          "Similarity",
          "Similarity",
          "Similarity",
          "Similarity",
          "Similarity",
          "Similarity",
          "Similarity",
          "Similarity",
          "Similarity",
          "Similarity",
          "Similarity",
          "Similarity",
          "Similarity",
          "Similarity",
          "Similarity",
          "Similarity",
          "Similarity",
          "Similarity",
          "Similarity",
          "Similarity",
          "Similarity",
          "Similarity",
          "Similarity",
          "Similarity",
          "Similarity",
          "Similarity",
          "Similarity",
          "Similarity",
          "Similarity",
          "Similarity",
          "Similarity",
          "Similarity",
          "Similarity",
          "Similarity",
          "Similarity",
          "Similarity",
          "Similarity",
          "Similarity",
          "Similarity",
          "Similarity",
          "Similarity",
          "Similarity",
          "Similarity",
          "Similarity",
          "Similarity",
          "Similarity",
          "Similarity",
          "Similarity",
          "Similarity",
          "Similarity",
          "Similarity",
          "Similarity",
          "Similarity",
          "Similarity",
          "Similarity",
          "Similarity",
          "Similarity",
          "Similarity",
          "Similarity",
          "Similarity",
          "Similarity",
          "Similarity",
          "Similarity",
          "Similarity",
          "Similarity",
          "Similarity",
          "Similarity",
          "Similarity",
          "Similarity",
          "Similarity",
          "Similarity",
          "Similarity",
          "Similarity",
          "Similarity",
          "Similarity",
          "Similarity",
          "Similarity",
          "Similarity",
          "Similarity",
          "Similarity",
          "Similarity",
          "Similarity",
          "Similarity",
          "Similarity",
          "Similarity",
          "Similarity",
          "Similarity",
          "Similarity",
          "Similarity",
          "Similarity",
          "Similarity",
          "Similarity",
          "Similarity",
          "Similarity",
          "Similarity",
          "Similarity",
          "Similarity",
          "Similarity",
          "Similarity",
          "Similarity",
          "Similarity",
          "Similarity",
          "Similarity",
          "Similarity",
          "Similarity",
          "Similarity",
          "Similarity",
          "Similarity",
          "Similarity",
          "Similarity",
          "Similarity",
          "Similarity",
          "Similarity",
          "Similarity",
          "Similarity",
          "Similarity",
          "Similarity",
          "Similarity",
          "Similarity",
          "Similarity",
          "Similarity",
          "Similarity",
          "Similarity",
          "Similarity",
          "Similarity",
          "Similarity",
          "Similarity",
          "Similarity",
          "Similarity",
          "Similarity",
          "Similarity",
          "Similarity",
          "Similarity",
          "Similarity",
          "Similarity",
          "Similarity",
          "Similarity",
          "Similarity",
          "Similarity",
          "Similarity",
          "Similarity",
          "Similarity",
          "Similarity",
          "Similarity",
          "Similarity",
          "Similarity",
          "Similarity",
          "Similarity",
          "Similarity",
          "Similarity",
          "Similarity",
          "Similarity",
          "Similarity",
          "Similarity",
          "Similarity",
          "Similarity",
          "Similarity",
          "Similarity",
          "Similarity",
          "Similarity",
          "Similarity",
          "Similarity",
          "Similarity",
          "Similarity",
          "Similarity",
          "Similarity",
          "Similarity",
          "Similarity",
          "Similarity",
          "Similarity",
          "Similarity",
          "Similarity",
          "Similarity",
          "Similarity",
          "Similarity",
          "Similarity",
          "Similarity",
          "Similarity",
          "Similarity",
          "Similarity",
          "Similarity",
          "Similarity",
          "Similarity",
          "Similarity",
          "Similarity",
          "Similarity",
          "Similarity",
          "Similarity",
          "Similarity",
          "Similarity",
          "Similarity",
          "Similarity",
          "Similarity",
          "Similarity",
          "Similarity",
          "Similarity",
          "Similarity",
          "Similarity",
          "Similarity",
          "Similarity",
          "Similarity",
          "Similarity",
          "Similarity",
          "Similarity",
          "Similarity",
          "Similarity",
          "Similarity",
          "Similarity",
          "Similarity",
          "Similarity",
          "Similarity",
          "Similarity",
          "Similarity",
          "Similarity",
          "Similarity",
          "Similarity",
          "Similarity",
          "Similarity",
          "Similarity",
          "Similarity",
          "Similarity",
          "Similarity",
          "Similarity",
          "Similarity",
          "Similarity",
          "Similarity",
          "Similarity",
          "Similarity",
          "Similarity",
          "Similarity",
          "Similarity",
          "Similarity",
          "Similarity",
          "Similarity",
          "Similarity",
          "Similarity",
          "Similarity",
          "Similarity",
          "Similarity",
          "Similarity",
          "Similarity",
          "Similarity",
          "Similarity",
          "Similarity",
          "Similarity",
          "Similarity",
          "Similarity",
          "Similarity",
          "Similarity",
          "Similarity",
          "Similarity",
          "Similarity",
          "Similarity",
          "Similarity",
          "Similarity",
          "Similarity",
          "Similarity",
          "Similarity",
          "Similarity",
          "Similarity",
          "Similarity",
          "Similarity",
          "Similarity",
          "Similarity",
          "Similarity",
          "Similarity",
          "Similarity",
          "Similarity",
          "Similarity",
          "Similarity",
          "Similarity",
          "Similarity",
          "Similarity",
          "Similarity",
          "Similarity",
          "Similarity",
          "Similarity",
          "Similarity",
          "Similarity",
          "Similarity",
          "Similarity",
          "Similarity",
          "Similarity",
          "Similarity",
          "Similarity",
          "Similarity",
          "Similarity",
          "Similarity",
          "Similarity",
          "Similarity",
          "Similarity",
          "Similarity",
          "Similarity",
          "Similarity",
          "Similarity",
          "Similarity",
          "Similarity",
          "Similarity",
          "Similarity",
          "Similarity",
          "Similarity",
          "Similarity",
          "Similarity",
          "Similarity",
          "Similarity",
          "Similarity",
          "Similarity",
          "Similarity",
          "Similarity",
          "Similarity",
          "Similarity",
          "Similarity",
          "Similarity",
          "Similarity",
          "Similarity",
          "Similarity",
          "Similarity",
          "Similarity",
          "Similarity",
          "Similarity",
          "Similarity",
          "Similarity",
          "Similarity",
          "Similarity",
          "Similarity",
          "Similarity",
          "Similarity",
          "Similarity",
          "Similarity",
          "Similarity",
          "Similarity",
          "Similarity",
          "Similarity",
          "Similarity",
          "Similarity",
          "Similarity",
          "Similarity",
          "Similarity",
          "Similarity",
          "Similarity",
          "Similarity",
          "Similarity",
          "Similarity",
          "Similarity",
          "Similarity",
          "Similarity",
          "Similarity",
          "Similarity",
          "Similarity",
          "Similarity",
          "Similarity",
          "Similarity",
          "Similarity",
          "Similarity",
          "Similarity",
          "Similarity",
          "Similarity",
          "Similarity",
          "Similarity",
          "Similarity",
          "Similarity",
          "Similarity",
          "Similarity",
          "Similarity",
          "Similarity",
          "Similarity",
          "Similarity",
          "Similarity",
          "Similarity",
          "Similarity",
          "Similarity",
          "Similarity",
          "Similarity",
          "Similarity",
          "Similarity",
          "Similarity",
          "Similarity",
          "Similarity",
          "Similarity",
          "Similarity",
          "Similarity",
          "Similarity",
          "Similarity",
          "Similarity",
          "Similarity",
          "Similarity",
          "Similarity",
          "Similarity",
          "Similarity",
          "Similarity",
          "Similarity",
          "Similarity",
          "Similarity",
          "Similarity",
          "Similarity",
          "Similarity",
          "Similarity",
          "Similarity",
          "Similarity",
          "Similarity",
          "Similarity",
          "Similarity",
          "Similarity",
          "Similarity",
          "Similarity",
          "Similarity",
          "Similarity",
          "Similarity",
          "Similarity",
          "Similarity",
          "Similarity",
          "Similarity",
          "Similarity",
          "Similarity",
          "Similarity",
          "Similarity",
          "Similarity",
          "Similarity",
          "Similarity",
          "Similarity",
          "Similarity",
          "Similarity",
          "Similarity",
          "Similarity",
          "Similarity",
          "Similarity",
          "Similarity",
          "Similarity",
          "Similarity",
          "Similarity",
          "Similarity",
          "Similarity",
          "Similarity",
          "Similarity",
          "Similarity",
          "Similarity",
          "Similarity",
          "Similarity",
          "Similarity",
          "Similarity",
          "Similarity",
          "Similarity",
          "Similarity",
          "Similarity",
          "Similarity",
          "Similarity",
          "Similarity",
          "Similarity",
          "Similarity",
          "Similarity",
          "Similarity",
          "Similarity",
          "Similarity",
          "Similarity",
          "Similarity",
          "Similarity",
          "Similarity",
          "Similarity",
          "Similarity",
          "Similarity",
          "Similarity",
          "Similarity",
          "Similarity",
          "Similarity",
          "Similarity",
          "Similarity",
          "Similarity",
          "Similarity",
          "Similarity",
          "Similarity",
          "Similarity",
          "Similarity",
          "Similarity",
          "Similarity",
          "Similarity",
          "Similarity",
          "Similarity",
          "Similarity",
          "Similarity",
          "Similarity",
          "Similarity",
          "Similarity",
          "Similarity",
          "Similarity",
          "Similarity",
          "Similarity",
          "Similarity",
          "Similarity",
          "Similarity",
          "Similarity",
          "Similarity",
          "Similarity",
          "Similarity",
          "Similarity",
          "Similarity",
          "Similarity",
          "Similarity",
          "Similarity",
          "Similarity",
          "Similarity",
          "Similarity",
          "Similarity",
          "Similarity",
          "Similarity",
          "Similarity",
          "Similarity",
          "Similarity",
          "Similarity",
          "Similarity",
          "Similarity",
          "Similarity",
          "Similarity",
          "Similarity",
          "Similarity",
          "Similarity",
          "Similarity",
          "Similarity",
          "Similarity",
          "Similarity",
          "Similarity",
          "Similarity",
          "Similarity",
          "Similarity",
          "Similarity",
          "Similarity",
          "Similarity",
          "Similarity",
          "Similarity",
          "Similarity",
          "Similarity",
          "Similarity",
          "Similarity",
          "Similarity",
          "Similarity",
          "Similarity",
          "Similarity",
          "Similarity",
          "Similarity",
          "Similarity",
          "Similarity",
          "Similarity",
          "Similarity",
          "Similarity",
          "Similarity",
          "Similarity",
          "Similarity",
          "Similarity",
          "Similarity",
          "Similarity",
          "Similarity",
          "Similarity",
          "Similarity",
          "Similarity",
          "Similarity",
          "Similarity",
          "Similarity",
          "Similarity",
          "Similarity",
          "Similarity",
          "Similarity",
          "Similarity",
          "Similarity",
          "Similarity",
          "Similarity",
          "Similarity",
          "Similarity",
          "Similarity",
          "Similarity",
          "Similarity",
          "Similarity",
          "Similarity",
          "Similarity",
          "Similarity",
          "Similarity",
          "Similarity",
          "Similarity",
          "Similarity",
          "Similarity",
          "Similarity",
          "Similarity",
          "Similarity",
          "Similarity",
          "Similarity",
          "Similarity",
          "Similarity",
          "Similarity",
          "Similarity",
          "Similarity",
          "Similarity",
          "Similarity",
          "Similarity",
          "Similarity",
          "Similarity",
          "Similarity",
          "Similarity",
          "Similarity",
          "Similarity",
          "Similarity",
          "Similarity",
          "Similarity",
          "Similarity",
          "Similarity",
          "Similarity",
          "Similarity",
          "Similarity",
          "Similarity",
          "Similarity",
          "Similarity",
          "Similarity",
          "Similarity",
          "Similarity",
          "Similarity",
          "Similarity",
          "Similarity",
          "Similarity",
          "Similarity",
          "Similarity",
          "Similarity",
          "Similarity",
          "Similarity",
          "Similarity",
          "Similarity",
          "Similarity",
          "Similarity",
          "Similarity",
          "Similarity",
          "Similarity",
          "Similarity",
          "Similarity",
          "Similarity",
          "Similarity",
          "Similarity",
          "Similarity",
          "Similarity",
          "Similarity",
          "Similarity",
          "Similarity",
          "Similarity",
          "Similarity",
          "Similarity",
          "Similarity",
          "Similarity",
          "Similarity",
          "Similarity",
          "Similarity",
          "Similarity",
          "Similarity",
          "Similarity",
          "Similarity",
          "Similarity",
          "Similarity",
          "Similarity",
          "Similarity",
          "Similarity",
          "Similarity",
          "Similarity",
          "Similarity",
          "Similarity",
          "Similarity",
          "Similarity",
          "Similarity",
          "Similarity",
          "Similarity",
          "Similarity",
          "Similarity",
          "Similarity",
          "Similarity",
          "Similarity",
          "Similarity",
          "Similarity",
          "Similarity",
          "Similarity",
          "Similarity",
          "Similarity",
          "Similarity",
          "Similarity",
          "Similarity",
          "Similarity",
          "Similarity",
          "Similarity",
          "Similarity",
          "Similarity",
          "Similarity",
          "Similarity",
          "Similarity",
          "Similarity",
          "Similarity",
          "Similarity",
          "Similarity",
          "Similarity",
          "Similarity",
          "Similarity",
          "Similarity",
          "Similarity",
          "Similarity",
          "Similarity",
          "Similarity",
          "Similarity",
          "Similarity",
          "Similarity",
          "Similarity",
          "Similarity",
          "Similarity",
          "Similarity",
          "Similarity",
          "Similarity",
          "Similarity",
          "Similarity",
          "Similarity",
          "Similarity",
          "Similarity",
          "Similarity",
          "Similarity",
          "Similarity",
          "Similarity",
          "Similarity",
          "Similarity",
          "Similarity",
          "Similarity",
          "Similarity",
          "Similarity",
          "Similarity",
          "Similarity",
          "Similarity",
          "Similarity",
          "Similarity",
          "Similarity",
          "Similarity",
          "Similarity",
          "Similarity",
          "Similarity",
          "Similarity",
          "Similarity",
          "Similarity",
          "Similarity",
          "Similarity",
          "Similarity",
          "Similarity",
          "Similarity",
          "Similarity",
          "Similarity",
          "Similarity",
          "Similarity",
          "Similarity",
          "Similarity",
          "Similarity",
          "Similarity",
          "Similarity",
          "Similarity",
          "Similarity",
          "Similarity",
          "Similarity",
          "Similarity",
          "Similarity",
          "Similarity",
          "Similarity",
          "Similarity",
          "Similarity",
          "Similarity",
          "Similarity",
          "Similarity",
          "Similarity",
          "Similarity",
          "Similarity",
          "Similarity",
          "Similarity",
          "Similarity",
          "Similarity",
          "Similarity",
          "Similarity",
          "Similarity",
          "Similarity",
          "Similarity",
          "Similarity",
          "Similarity",
          "Similarity",
          "Similarity",
          "Similarity",
          "Similarity",
          "Similarity",
          "Similarity",
          "Similarity",
          "Similarity",
          "Similarity",
          "Similarity",
          "Similarity",
          "Similarity",
          "Similarity",
          "Similarity",
          "Similarity",
          "Similarity",
          "Similarity",
          "Similarity",
          "Similarity",
          "Similarity",
          "Similarity",
          "Similarity",
          "Similarity",
          "Similarity",
          "Similarity",
          "Similarity",
          "Similarity",
          "Similarity",
          "Similarity",
          "Similarity",
          "Similarity",
          "Similarity",
          "Similarity",
          "Similarity",
          "Similarity",
          "Similarity",
          "Similarity",
          "Similarity",
          "Similarity",
          "Similarity",
          "Similarity",
          "Similarity",
          "Similarity",
          "Similarity",
          "Similarity",
          "Similarity",
          "Similarity",
          "Similarity",
          "Similarity",
          "Similarity",
          "Similarity",
          "Similarity",
          "Similarity",
          "Similarity",
          "Similarity",
          "Similarity",
          "Similarity",
          "Similarity",
          "Similarity",
          "Similarity",
          "Similarity",
          "Similarity",
          "Similarity",
          "Similarity",
          "Similarity",
          "Similarity",
          "Similarity",
          "Similarity",
          "Similarity",
          "Similarity",
          "Similarity",
          "Similarity",
          "Similarity",
          "Similarity",
          "Similarity",
          "Similarity",
          "Similarity",
          "Similarity",
          "Similarity",
          "Similarity",
          "Similarity",
          "Similarity",
          "Similarity",
          "Similarity",
          "Similarity",
          "Similarity",
          "Similarity",
          "Similarity",
          "Similarity",
          "Similarity",
          "Similarity",
          "Similarity",
          "Similarity",
          "Similarity",
          "Similarity",
          "Similarity",
          "Similarity",
          "Similarity",
          "Similarity",
          "Similarity",
          "Similarity",
          "Similarity",
          "Similarity",
          "Similarity",
          "Similarity",
          "Similarity",
          "Similarity",
          "Similarity",
          "Similarity",
          "Similarity",
          "Similarity",
          "Similarity",
          "Similarity",
          "Similarity",
          "Similarity",
          "Similarity",
          "Similarity",
          "Similarity",
          "Similarity",
          "Similarity",
          "Similarity",
          "Similarity",
          "Similarity",
          "Similarity",
          "Similarity",
          "Similarity",
          "Similarity",
          "Similarity",
          "Similarity",
          "Similarity",
          "Similarity",
          "Similarity",
          "Similarity",
          "Similarity",
          "Similarity",
          "Similarity",
          "Similarity",
          "Similarity",
          "Similarity",
          "Similarity",
          "Similarity",
          "Similarity",
          "Similarity",
          "Similarity",
          "Similarity",
          "Similarity",
          "Similarity",
          "Similarity",
          "Similarity",
          "Similarity",
          "Similarity",
          "Similarity",
          "Similarity",
          "Similarity",
          "Similarity",
          "Similarity",
          "Similarity",
          "Similarity",
          "Similarity",
          "Similarity",
          "Similarity",
          "Similarity",
          "Similarity",
          "Similarity",
          "Similarity",
          "Similarity",
          "Similarity",
          "Similarity",
          "Similarity",
          "Similarity",
          "Similarity",
          "Similarity",
          "Similarity",
          "Similarity",
          "Similarity",
          "Similarity",
          "Similarity",
          "Similarity",
          "Similarity",
          "Similarity",
          "Similarity",
          "Similarity",
          "Similarity",
          "Similarity",
          "Similarity",
          "Similarity",
          "Similarity",
          "Similarity",
          "Similarity",
          "Similarity",
          "Similarity",
          "Similarity",
          "Similarity",
          "Similarity",
          "Similarity",
          "Similarity",
          "Similarity",
          "Similarity",
          "Similarity",
          "Similarity",
          "Similarity",
          "Similarity",
          "Similarity",
          "Similarity",
          "Similarity",
          "Similarity",
          "Similarity",
          "Similarity",
          "Similarity",
          "Similarity",
          "Similarity",
          "Similarity",
          "Similarity",
          "Similarity",
          "Similarity",
          "Similarity",
          "Similarity",
          "Similarity",
          "Similarity",
          "Similarity",
          "Similarity",
          "Similarity",
          "Similarity",
          "Similarity",
          "Similarity",
          "Similarity",
          "Similarity",
          "Similarity",
          "Similarity",
          "Similarity",
          "Similarity",
          "Similarity",
          "Similarity",
          "Similarity",
          "Similarity",
          "Similarity",
          "Similarity",
          "Similarity",
          "Similarity",
          "Similarity",
          "Similarity",
          "Similarity",
          "Similarity",
          "Similarity",
          "Similarity",
          "Similarity",
          "Similarity",
          "Similarity",
          "Similarity",
          "Similarity",
          "Similarity",
          "Similarity",
          "Similarity",
          "Similarity",
          "Similarity",
          "Similarity",
          "Similarity",
          "Similarity",
          "Similarity",
          "Similarity",
          "Similarity",
          "Similarity",
          "Similarity",
          "Similarity",
          "Similarity",
          "Similarity",
          "Similarity",
          "Similarity",
          "Similarity",
          "Similarity",
          "Similarity",
          "Similarity",
          "Similarity",
          "Similarity",
          "Similarity",
          "Similarity",
          "Similarity",
          "Similarity",
          "Similarity",
          "Similarity",
          "Similarity",
          "Similarity",
          "Similarity",
          "Similarity",
          "Similarity",
          "Similarity",
          "Similarity",
          "Similarity",
          "Similarity",
          "Similarity",
          "Similarity",
          "Similarity",
          "Similarity",
          "Similarity",
          "Similarity",
          "Similarity",
          "Similarity",
          "Similarity",
          "Similarity",
          "Similarity",
          "Similarity",
          "Similarity",
          "Similarity",
          "Similarity",
          "Similarity",
          "Similarity",
          "Similarity",
          "Similarity",
          "Similarity",
          "Similarity",
          "Similarity",
          "Similarity",
          "Similarity",
          "Similarity",
          "Similarity",
          "Similarity",
          "Similarity",
          "Similarity",
          "Similarity",
          "Similarity",
          "Similarity",
          "Similarity",
          "Similarity",
          "Similarity",
          "Similarity",
          "Similarity",
          "Similarity",
          "Similarity",
          "Similarity",
          "Similarity",
          "Similarity",
          "Similarity",
          "Similarity",
          "Similarity",
          "Similarity",
          "Similarity",
          "Similarity",
          "Similarity",
          "Similarity",
          "Similarity",
          "Similarity",
          "Similarity",
          "Similarity",
          "Similarity",
          "Similarity",
          "Similarity",
          "Similarity",
          "Similarity",
          "Similarity",
          "Similarity",
          "Similarity",
          "Similarity",
          "Similarity",
          "Similarity",
          "Similarity",
          "Similarity",
          "Similarity",
          "Similarity",
          "Similarity",
          "Similarity",
          "Similarity",
          "Similarity",
          "Similarity",
          "Similarity",
          "Similarity",
          "Similarity",
          "Similarity",
          "Similarity",
          "Similarity",
          "Similarity",
          "Similarity",
          "Similarity",
          "Similarity",
          "Similarity",
          "Similarity",
          "Similarity",
          "Similarity",
          "Similarity",
          "Similarity",
          "Similarity",
          "Similarity",
          "Similarity",
          "Similarity",
          "Similarity",
          "Similarity",
          "Similarity",
          "Similarity",
          "Similarity",
          "Similarity",
          "Similarity",
          "Similarity",
          "Similarity",
          "Similarity",
          "Similarity",
          "Similarity",
          "Similarity",
          "Similarity",
          "Similarity",
          "Similarity",
          "Similarity",
          "Similarity",
          "Similarity",
          "Similarity",
          "Similarity",
          "Similarity",
          "Similarity",
          "Similarity",
          "Similarity",
          "Similarity",
          "Similarity",
          "Similarity",
          "Similarity",
          "Similarity",
          "Similarity",
          "Similarity",
          "Similarity",
          "Similarity",
          "Similarity",
          "Similarity",
          "Similarity",
          "Similarity",
          "Similarity",
          "Similarity",
          "Similarity",
          "Similarity",
          "Similarity",
          "Similarity",
          "Similarity",
          "Similarity",
          "Similarity",
          "Similarity",
          "Similarity",
          "Similarity",
          "Similarity",
          "Similarity",
          "Similarity",
          "Similarity",
          "Similarity",
          "Similarity",
          "Similarity",
          "Similarity",
          "Similarity",
          "Similarity",
          "Similarity",
          "Similarity",
          "Similarity",
          "Similarity",
          "Similarity",
          "Similarity",
          "Similarity",
          "Similarity",
          "Similarity",
          "Similarity",
          "Similarity",
          "Similarity",
          "Similarity",
          "Similarity",
          "Similarity",
          "Similarity",
          "Similarity",
          "Similarity",
          "Similarity",
          "Similarity",
          "Similarity",
          "Similarity",
          "Similarity",
          "Similarity",
          "Similarity",
          "Similarity",
          "Similarity",
          "Similarity",
          "Similarity",
          "Similarity",
          "Similarity",
          "Similarity",
          "Similarity",
          "Similarity",
          "Similarity",
          "Similarity",
          "Similarity",
          "Similarity",
          "Similarity",
          "Similarity",
          "Similarity",
          "Similarity",
          "Similarity",
          "Similarity",
          "Similarity",
          "Similarity",
          "Similarity",
          "Similarity",
          "Similarity",
          "Similarity",
          "Similarity",
          "Similarity",
          "Similarity",
          "Similarity",
          "Similarity",
          "Similarity",
          "Similarity",
          "Similarity",
          "Similarity",
          "Similarity",
          "Similarity",
          "Similarity",
          "Similarity",
          "Similarity",
          "Similarity",
          "Similarity",
          "Similarity",
          "Similarity",
          "Similarity",
          "Similarity",
          "Similarity",
          "Similarity",
          "Similarity",
          "Similarity",
          "Similarity",
          "Similarity",
          "Similarity",
          "Similarity",
          "Similarity",
          "Similarity",
          "Similarity",
          "Similarity",
          "Similarity",
          "Similarity",
          "Similarity",
          "Similarity",
          "Similarity",
          "Similarity",
          "Similarity",
          "Similarity",
          "Similarity",
          "Similarity",
          "Similarity",
          "Similarity",
          "Similarity",
          "Similarity",
          "Similarity",
          "Similarity",
          "Similarity",
          "Similarity",
          "Similarity",
          "Similarity",
          "Similarity",
          "Similarity",
          "Similarity",
          "Similarity",
          "Similarity",
          "Similarity",
          "Similarity",
          "Similarity",
          "Similarity",
          "Similarity",
          "Similarity",
          "Similarity",
          "Similarity",
          "Similarity",
          "Similarity",
          "Similarity",
          "Similarity",
          "Similarity",
          "Similarity",
          "Similarity",
          "Similarity",
          "Similarity",
          "Similarity",
          "Similarity",
          "Similarity",
          "Similarity",
          "Similarity",
          "Similarity",
          "Similarity",
          "Similarity",
          "Similarity",
          "Similarity",
          "Similarity",
          "Similarity",
          "Similarity",
          "Similarity",
          "Similarity",
          "Similarity",
          "Similarity",
          "Similarity",
          "Similarity",
          "Similarity",
          "Similarity",
          "Similarity",
          "Similarity",
          "Similarity",
          "Similarity",
          "Similarity",
          "Similarity",
          "Similarity",
          "Similarity",
          "Similarity",
          "Similarity",
          "Similarity",
          "Similarity",
          "Similarity",
          "Similarity",
          "Similarity",
          "Similarity",
          "Similarity",
          "Similarity",
          "Similarity",
          "Similarity",
          "Similarity",
          "Similarity",
          "Similarity",
          "Similarity",
          "Similarity",
          "Similarity",
          "Similarity",
          "Similarity",
          "Similarity",
          "Similarity",
          "Similarity",
          "Similarity",
          "Similarity",
          "Similarity",
          "Similarity",
          "Similarity",
          "Similarity",
          "Similarity",
          "Similarity",
          "Similarity",
          "Similarity",
          "Similarity",
          "Similarity",
          "Similarity",
          "Similarity",
          "Similarity",
          "Similarity",
          "Similarity",
          "Similarity",
          "Similarity",
          "Similarity",
          "Similarity",
          "Similarity",
          "Similarity",
          "Similarity",
          "Similarity",
          "Similarity",
          "Similarity",
          "Similarity",
          "Similarity",
          "Similarity",
          "Similarity",
          "Similarity",
          "Similarity",
          "Similarity",
          "Similarity",
          "Similarity",
          "Similarity",
          "Similarity",
          "Similarity",
          "Similarity",
          "Similarity",
          "Similarity",
          "Similarity",
          "Similarity",
          "Similarity",
          "Similarity",
          "Similarity",
          "Similarity",
          "Similarity",
          "Similarity",
          "Similarity",
          "Similarity",
          "Similarity",
          "Similarity",
          "Similarity",
          "Similarity",
          "Similarity",
          "Similarity",
          "Similarity",
          "Similarity",
          "Similarity",
          "Similarity",
          "Similarity",
          "Similarity",
          "Similarity",
          "Similarity",
          "Similarity",
          "Similarity",
          "Similarity",
          "Similarity",
          "Similarity",
          "Similarity",
          "Similarity",
          "Similarity",
          "Similarity",
          "Similarity",
          "Similarity",
          "Similarity",
          "Similarity",
          "Similarity",
          "Similarity",
          "Similarity",
          "Similarity",
          "Similarity",
          "Similarity",
          "Similarity",
          "Similarity",
          "Similarity",
          "Similarity",
          "Similarity",
          "Similarity",
          "Similarity",
          "Similarity",
          "Similarity",
          "Similarity",
          "Similarity",
          "Similarity",
          "Similarity",
          "Similarity",
          "Similarity",
          "Similarity",
          "Similarity",
          "Similarity",
          "Similarity",
          "Similarity",
          "Similarity",
          "Similarity",
          "Similarity",
          "Similarity",
          "Similarity",
          "Similarity",
          "Similarity",
          "Similarity",
          "Similarity",
          "Similarity",
          "Similarity",
          "Similarity",
          "Similarity",
          "Similarity",
          "Similarity",
          "Similarity",
          "Similarity",
          "Similarity",
          "Similarity",
          "Similarity",
          "Similarity",
          "Similarity",
          "Similarity",
          "Similarity",
          "Similarity",
          "Similarity",
          "Similarity",
          "Similarity",
          "Similarity",
          "Similarity",
          "Similarity",
          "Similarity",
          "Similarity",
          "Similarity",
          "Similarity",
          "Similarity",
          "Similarity",
          "Similarity",
          "Similarity",
          "Similarity",
          "Similarity",
          "Similarity",
          "Similarity",
          "Similarity",
          "Similarity",
          "Similarity",
          "Similarity",
          "Similarity",
          "Similarity",
          "Similarity",
          "Similarity",
          "Similarity",
          "Similarity",
          "Similarity",
          "Similarity",
          "Similarity",
          "Similarity",
          "Similarity",
          "Similarity",
          "Similarity",
          "Similarity",
          "Similarity",
          "Similarity",
          "Similarity",
          "Similarity",
          "Similarity",
          "Similarity",
          "Similarity",
          "Similarity",
          "Similarity",
          "Similarity",
          "Similarity",
          "Similarity",
          "Similarity",
          "Similarity",
          "Similarity",
          "Similarity",
          "Similarity",
          "Similarity",
          "Similarity",
          "Similarity",
          "Similarity",
          "Similarity",
          "Similarity",
          "Similarity",
          "Similarity",
          "Similarity",
          "Similarity",
          "Similarity",
          "Similarity",
          "Similarity",
          "Similarity",
          "Similarity",
          "Similarity",
          "Similarity",
          "Similarity",
          "Similarity",
          "Similarity",
          "Similarity",
          "Similarity",
          "Similarity",
          "Similarity",
          "Similarity",
          "Similarity",
          "Similarity",
          "Similarity",
          "Similarity",
          "Similarity",
          "Similarity",
          "Similarity",
          "Similarity",
          "Similarity",
          "Similarity",
          "Similarity",
          "Similarity",
          "Similarity",
          "Similarity",
          "Similarity",
          "Similarity",
          "Similarity",
          "Similarity",
          "Similarity",
          "Similarity",
          "Similarity",
          "Similarity",
          "Similarity",
          "Similarity",
          "Similarity",
          "Similarity",
          "Similarity",
          "Similarity",
          "Similarity",
          "Similarity",
          "Similarity",
          "Similarity",
          "Similarity",
          "Similarity",
          "Similarity",
          "Similarity",
          "Similarity",
          "Similarity",
          "Similarity",
          "Similarity",
          "Similarity",
          "Similarity",
          "Similarity",
          "Similarity",
          "Similarity",
          "Similarity",
          "Similarity",
          "Similarity",
          "Similarity",
          "Similarity",
          "Similarity",
          "Similarity",
          "Similarity",
          "Similarity",
          "Similarity",
          "Similarity",
          "Similarity",
          "Similarity",
          "Similarity",
          "Similarity",
          "Similarity",
          "Similarity",
          "Similarity",
          "Similarity",
          "Similarity",
          "Similarity",
          "Similarity",
          "Similarity",
          "Similarity",
          "Similarity",
          "Similarity",
          "Similarity",
          "Similarity",
          "Similarity",
          "Similarity",
          "Similarity",
          "Similarity",
          "Similarity",
          "Similarity",
          "Similarity",
          "Similarity",
          "Similarity",
          "Similarity",
          "Similarity",
          "Similarity",
          "Similarity",
          "Similarity",
          "Similarity",
          "Similarity",
          "Similarity",
          "Similarity",
          "Similarity",
          "Similarity",
          "Similarity",
          "Similarity",
          "Similarity",
          "Similarity",
          "Similarity",
          "Similarity",
          "Similarity",
          "Similarity",
          "Similarity",
          "Similarity",
          "Similarity",
          "Similarity",
          "Similarity",
          "Similarity",
          "Similarity",
          "Similarity",
          "Similarity",
          "Similarity",
          "Similarity",
          "Similarity",
          "Similarity",
          "Similarity",
          "Similarity",
          "Similarity",
          "Similarity",
          "Similarity",
          "Similarity",
          "Similarity",
          "Similarity",
          "Similarity",
          "Similarity",
          "Similarity",
          "Similarity",
          "Similarity",
          "Similarity",
          "Similarity",
          "Similarity",
          "Similarity",
          "Similarity",
          "Similarity",
          "Similarity",
          "Similarity",
          "Similarity",
          "Similarity",
          "Similarity",
          "Similarity",
          "Similarity",
          "Similarity",
          "Similarity",
          "Similarity",
          "Similarity",
          "Similarity",
          "Similarity",
          "Similarity",
          "Similarity",
          "Similarity",
          "Similarity",
          "Similarity",
          "Similarity",
          "Similarity",
          "Similarity",
          "Similarity",
          "Similarity",
          "Similarity",
          "Similarity",
          "Similarity",
          "Similarity",
          "Similarity",
          "Similarity",
          "Similarity",
          "Similarity",
          "Similarity",
          "Similarity",
          "Similarity",
          "Similarity",
          "Similarity",
          "Similarity",
          "Similarity",
          "Similarity",
          "Similarity",
          "Similarity",
          "Similarity",
          "Similarity",
          "Similarity",
          "Similarity",
          "Similarity",
          "Similarity",
          "Similarity",
          "Similarity",
          "Similarity",
          "Similarity",
          "Similarity",
          "Similarity",
          "Similarity",
          "Similarity",
          "Similarity",
          "Similarity",
          "Similarity",
          "Similarity",
          "Similarity",
          "Similarity",
          "Similarity",
          "Similarity",
          "Similarity",
          "Similarity",
          "Similarity",
          "Similarity",
          "Similarity",
          "Similarity",
          "Similarity",
          "Similarity",
          "Similarity",
          "Similarity",
          "Similarity",
          "Similarity",
          "Similarity",
          "Similarity",
          "Similarity",
          "Similarity",
          "Similarity",
          "Similarity",
          "Similarity",
          "Similarity",
          "Similarity",
          "Similarity",
          "Similarity",
          "Similarity",
          "Similarity",
          "Similarity",
          "Similarity",
          "Similarity",
          "Similarity",
          "Similarity",
          "Similarity",
          "Similarity",
          "Similarity",
          "Similarity",
          "Similarity",
          "Similarity",
          "Similarity",
          "Similarity",
          "Similarity",
          "Similarity",
          "Similarity",
          "Similarity",
          "Similarity",
          "Similarity",
          "Similarity",
          "Similarity",
          "Similarity",
          "Similarity",
          "Similarity",
          "Similarity",
          "Similarity",
          "Similarity",
          "Similarity",
          "Similarity",
          "Similarity",
          "Similarity",
          "Similarity",
          "Similarity",
          "Similarity",
          "Similarity",
          "Similarity",
          "Similarity",
          "Similarity",
          "Similarity",
          "Similarity",
          "Similarity",
          "Similarity",
          "Similarity",
          "Similarity",
          "Similarity",
          "Similarity",
          "Similarity",
          "Similarity",
          "Similarity",
          "Similarity",
          "Similarity",
          "Similarity",
          "Similarity",
          "Similarity",
          "Similarity",
          "Similarity",
          "Similarity",
          "Similarity",
          "Similarity",
          "Similarity",
          "Similarity",
          "Similarity",
          "Similarity",
          "Similarity",
          "Similarity",
          "Similarity",
          "Similarity",
          "Similarity",
          "Similarity",
          "Similarity",
          "Similarity",
          "Similarity",
          "Similarity",
          "Similarity",
          "Similarity",
          "Similarity",
          "Similarity",
          "Similarity",
          "Similarity",
          "Similarity",
          "Similarity",
          "Similarity",
          "Similarity",
          "Similarity",
          "Similarity",
          "Similarity",
          "Similarity",
          "Similarity",
          "Similarity",
          "Similarity",
          "Similarity",
          "Similarity",
          "Similarity",
          "Similarity",
          "Similarity",
          "Similarity",
          "Similarity",
          "Similarity",
          "Similarity",
          "Similarity",
          "Similarity",
          "Similarity",
          "Similarity",
          "Similarity",
          "Similarity",
          "Similarity",
          "Similarity",
          "Similarity",
          "Similarity",
          "Similarity",
          "Similarity",
          "Similarity",
          "Similarity",
          "Similarity",
          "Similarity",
          "Similarity",
          "Similarity",
          "Similarity",
          "Similarity",
          "Similarity",
          "Similarity",
          "Similarity",
          "Similarity",
          "Similarity",
          "Similarity",
          "Similarity",
          "Similarity",
          "Similarity",
          "Similarity",
          "Similarity",
          "Similarity",
          "Similarity",
          "Similarity",
          "Similarity",
          "Similarity",
          "Similarity",
          "Similarity",
          "Similarity",
          "Similarity",
          "Similarity",
          "Similarity",
          "Similarity",
          "Similarity",
          "Similarity",
          "Similarity",
          "Similarity",
          "Similarity",
          "Similarity",
          "Similarity",
          "Similarity",
          "Similarity",
          "Similarity",
          "Similarity",
          "Similarity",
          "Similarity",
          "Similarity",
          "Similarity",
          "Similarity",
          "Similarity",
          "Similarity",
          "Similarity",
          "Similarity",
          "Similarity",
          "Similarity",
          "Similarity",
          "Similarity",
          "Similarity",
          "Similarity",
          "Similarity",
          "Similarity",
          "Similarity",
          "Similarity",
          "Similarity",
          "Similarity",
          "Similarity",
          "Similarity",
          "Similarity",
          "Similarity",
          "Similarity",
          "Similarity",
          "Similarity",
          "Similarity",
          "Similarity",
          "Similarity",
          "Similarity",
          "Similarity",
          "Similarity",
          "Similarity",
          "Similarity",
          "Similarity",
          "Similarity",
          "Similarity",
          "Similarity",
          "Similarity",
          "Similarity",
          "Similarity",
          "Similarity",
          "Similarity",
          "Similarity",
          "Similarity",
          "Similarity",
          "Similarity",
          "Similarity",
          "Similarity",
          "Similarity",
          "Similarity",
          "Similarity",
          "Similarity",
          "Similarity",
          "Similarity",
          "Similarity",
          "Similarity",
          "Similarity",
          "Similarity",
          "Similarity",
          "Similarity",
          "Similarity",
          "Similarity",
          "Similarity",
          "Similarity",
          "Similarity",
          "Similarity",
          "Similarity",
          "Similarity",
          "Similarity",
          "Similarity",
          "Similarity",
          "Similarity",
          "Similarity",
          "Similarity",
          "Similarity",
          "Similarity",
          "Similarity",
          "Similarity",
          "Similarity",
          "Similarity",
          "Similarity",
          "Similarity",
          "Similarity",
          "Similarity",
          "Similarity",
          "Similarity",
          "Similarity",
          "Similarity",
          "Similarity",
          "Similarity",
          "Similarity",
          "Similarity",
          "Similarity",
          "Similarity",
          "Similarity",
          "Similarity",
          "Similarity",
          "Similarity",
          "Similarity",
          "Similarity",
          "Similarity",
          "Similarity",
          "Similarity",
          "Similarity",
          "Similarity",
          "Similarity",
          "Similarity",
          "Similarity",
          "Similarity",
          "Similarity",
          "Similarity",
          "Similarity",
          "Similarity",
          "Similarity",
          "Similarity",
          "Similarity",
          "Similarity",
          "Similarity",
          "Similarity",
          "Similarity",
          "Similarity",
          "Similarity",
          "Similarity",
          "Similarity",
          "Similarity",
          "Similarity",
          "Similarity",
          "Similarity",
          "Similarity",
          "Similarity",
          "Similarity",
          "Similarity",
          "Similarity",
          "Similarity",
          "Similarity",
          "Similarity",
          "Similarity",
          "Similarity",
          "Similarity",
          "Similarity",
          "Similarity",
          "Similarity",
          "Similarity",
          "Similarity",
          "Similarity",
          "Similarity",
          "Similarity",
          "Similarity",
          "Similarity",
          "Similarity",
          "Similarity",
          "Similarity",
          "Similarity",
          "Similarity",
          "Similarity",
          "Similarity",
          "Similarity",
          "Similarity",
          "Similarity",
          "Similarity",
          "Similarity",
          "Similarity",
          "Similarity",
          "Similarity",
          "Similarity",
          "Similarity",
          "Similarity",
          "Similarity",
          "Similarity",
          "Similarity",
          "Similarity",
          "Similarity",
          "Similarity",
          "Similarity",
          "Similarity",
          "Similarity",
          "Similarity",
          "Similarity",
          "Similarity",
          "Similarity",
          "Similarity",
          "Similarity",
          "Similarity",
          "Similarity",
          "Similarity",
          "Similarity",
          "Similarity",
          "Similarity",
          "Similarity",
          "Similarity",
          "Similarity",
          "Similarity",
          "Similarity",
          "Similarity",
          "Similarity",
          "Similarity",
          "Similarity",
          "Similarity",
          "Similarity",
          "Similarity",
          "Similarity",
          "Similarity",
          "Similarity",
          "Similarity",
          "Similarity",
          "Similarity",
          "Similarity",
          "Similarity",
          "Similarity",
          "Similarity",
          "Similarity",
          "Similarity",
          "Similarity",
          "Similarity",
          "Similarity",
          "Similarity",
          "Similarity",
          "Similarity",
          "Similarity",
          "Similarity",
          "Similarity",
          "Similarity",
          "Similarity",
          "Similarity",
          "Similarity",
          "Similarity",
          "Similarity",
          "Similarity",
          "Similarity",
          "Similarity",
          "Similarity",
          "Similarity",
          "Similarity",
          "Similarity",
          "Similarity",
          "Similarity",
          "Similarity",
          "Similarity",
          "Similarity",
          "Similarity",
          "Similarity",
          "Similarity",
          "Similarity",
          "Similarity",
          "Similarity",
          "Similarity",
          "Similarity",
          "Similarity",
          "Similarity",
          "Similarity",
          "Similarity",
          "Similarity",
          "Similarity",
          "Similarity",
          "Similarity",
          "Similarity",
          "Similarity",
          "Similarity",
          "Similarity",
          "Similarity",
          "Similarity",
          "Similarity",
          "Similarity",
          "Similarity",
          "Similarity",
          "Similarity",
          "Similarity",
          "Similarity",
          "Similarity",
          "Similarity",
          "Similarity",
          "Similarity",
          "Similarity",
          "Similarity",
          "Similarity",
          "Similarity",
          "Similarity",
          "Similarity",
          "Similarity",
          "Similarity",
          "Similarity",
          "Similarity",
          "Similarity",
          "Similarity",
          "Similarity",
          "Similarity",
          "Similarity",
          "Similarity",
          "Similarity",
          "Similarity",
          "Similarity",
          "Similarity",
          "Similarity",
          "Similarity",
          "Similarity",
          "Similarity",
          "Similarity",
          "Similarity",
          "Similarity",
          "Similarity",
          "Similarity",
          "Similarity",
          "Similarity",
          "Similarity",
          "Similarity",
          "Similarity",
          "Similarity",
          "Similarity",
          "Similarity",
          "Similarity",
          "Similarity",
          "Similarity",
          "Similarity",
          "Similarity"
         ],
         "y0": " ",
         "yaxis": "y"
        }
       ],
       "layout": {
        "boxmode": "group",
        "height": 200,
        "legend": {
         "tracegroupgap": 0
        },
        "template": {
         "data": {
          "bar": [
           {
            "error_x": {
             "color": "#2a3f5f"
            },
            "error_y": {
             "color": "#2a3f5f"
            },
            "marker": {
             "line": {
              "color": "#E5ECF6",
              "width": 0.5
             },
             "pattern": {
              "fillmode": "overlay",
              "size": 10,
              "solidity": 0.2
             }
            },
            "type": "bar"
           }
          ],
          "barpolar": [
           {
            "marker": {
             "line": {
              "color": "#E5ECF6",
              "width": 0.5
             },
             "pattern": {
              "fillmode": "overlay",
              "size": 10,
              "solidity": 0.2
             }
            },
            "type": "barpolar"
           }
          ],
          "carpet": [
           {
            "aaxis": {
             "endlinecolor": "#2a3f5f",
             "gridcolor": "white",
             "linecolor": "white",
             "minorgridcolor": "white",
             "startlinecolor": "#2a3f5f"
            },
            "baxis": {
             "endlinecolor": "#2a3f5f",
             "gridcolor": "white",
             "linecolor": "white",
             "minorgridcolor": "white",
             "startlinecolor": "#2a3f5f"
            },
            "type": "carpet"
           }
          ],
          "choropleth": [
           {
            "colorbar": {
             "outlinewidth": 0,
             "ticks": ""
            },
            "type": "choropleth"
           }
          ],
          "contour": [
           {
            "colorbar": {
             "outlinewidth": 0,
             "ticks": ""
            },
            "colorscale": [
             [
              0,
              "#0d0887"
             ],
             [
              0.1111111111111111,
              "#46039f"
             ],
             [
              0.2222222222222222,
              "#7201a8"
             ],
             [
              0.3333333333333333,
              "#9c179e"
             ],
             [
              0.4444444444444444,
              "#bd3786"
             ],
             [
              0.5555555555555556,
              "#d8576b"
             ],
             [
              0.6666666666666666,
              "#ed7953"
             ],
             [
              0.7777777777777778,
              "#fb9f3a"
             ],
             [
              0.8888888888888888,
              "#fdca26"
             ],
             [
              1,
              "#f0f921"
             ]
            ],
            "type": "contour"
           }
          ],
          "contourcarpet": [
           {
            "colorbar": {
             "outlinewidth": 0,
             "ticks": ""
            },
            "type": "contourcarpet"
           }
          ],
          "heatmap": [
           {
            "colorbar": {
             "outlinewidth": 0,
             "ticks": ""
            },
            "colorscale": [
             [
              0,
              "#0d0887"
             ],
             [
              0.1111111111111111,
              "#46039f"
             ],
             [
              0.2222222222222222,
              "#7201a8"
             ],
             [
              0.3333333333333333,
              "#9c179e"
             ],
             [
              0.4444444444444444,
              "#bd3786"
             ],
             [
              0.5555555555555556,
              "#d8576b"
             ],
             [
              0.6666666666666666,
              "#ed7953"
             ],
             [
              0.7777777777777778,
              "#fb9f3a"
             ],
             [
              0.8888888888888888,
              "#fdca26"
             ],
             [
              1,
              "#f0f921"
             ]
            ],
            "type": "heatmap"
           }
          ],
          "histogram": [
           {
            "marker": {
             "pattern": {
              "fillmode": "overlay",
              "size": 10,
              "solidity": 0.2
             }
            },
            "type": "histogram"
           }
          ],
          "histogram2d": [
           {
            "colorbar": {
             "outlinewidth": 0,
             "ticks": ""
            },
            "colorscale": [
             [
              0,
              "#0d0887"
             ],
             [
              0.1111111111111111,
              "#46039f"
             ],
             [
              0.2222222222222222,
              "#7201a8"
             ],
             [
              0.3333333333333333,
              "#9c179e"
             ],
             [
              0.4444444444444444,
              "#bd3786"
             ],
             [
              0.5555555555555556,
              "#d8576b"
             ],
             [
              0.6666666666666666,
              "#ed7953"
             ],
             [
              0.7777777777777778,
              "#fb9f3a"
             ],
             [
              0.8888888888888888,
              "#fdca26"
             ],
             [
              1,
              "#f0f921"
             ]
            ],
            "type": "histogram2d"
           }
          ],
          "histogram2dcontour": [
           {
            "colorbar": {
             "outlinewidth": 0,
             "ticks": ""
            },
            "colorscale": [
             [
              0,
              "#0d0887"
             ],
             [
              0.1111111111111111,
              "#46039f"
             ],
             [
              0.2222222222222222,
              "#7201a8"
             ],
             [
              0.3333333333333333,
              "#9c179e"
             ],
             [
              0.4444444444444444,
              "#bd3786"
             ],
             [
              0.5555555555555556,
              "#d8576b"
             ],
             [
              0.6666666666666666,
              "#ed7953"
             ],
             [
              0.7777777777777778,
              "#fb9f3a"
             ],
             [
              0.8888888888888888,
              "#fdca26"
             ],
             [
              1,
              "#f0f921"
             ]
            ],
            "type": "histogram2dcontour"
           }
          ],
          "mesh3d": [
           {
            "colorbar": {
             "outlinewidth": 0,
             "ticks": ""
            },
            "type": "mesh3d"
           }
          ],
          "parcoords": [
           {
            "line": {
             "colorbar": {
              "outlinewidth": 0,
              "ticks": ""
             }
            },
            "type": "parcoords"
           }
          ],
          "pie": [
           {
            "automargin": true,
            "type": "pie"
           }
          ],
          "scatter": [
           {
            "fillpattern": {
             "fillmode": "overlay",
             "size": 10,
             "solidity": 0.2
            },
            "type": "scatter"
           }
          ],
          "scatter3d": [
           {
            "line": {
             "colorbar": {
              "outlinewidth": 0,
              "ticks": ""
             }
            },
            "marker": {
             "colorbar": {
              "outlinewidth": 0,
              "ticks": ""
             }
            },
            "type": "scatter3d"
           }
          ],
          "scattercarpet": [
           {
            "marker": {
             "colorbar": {
              "outlinewidth": 0,
              "ticks": ""
             }
            },
            "type": "scattercarpet"
           }
          ],
          "scattergeo": [
           {
            "marker": {
             "colorbar": {
              "outlinewidth": 0,
              "ticks": ""
             }
            },
            "type": "scattergeo"
           }
          ],
          "scattergl": [
           {
            "marker": {
             "colorbar": {
              "outlinewidth": 0,
              "ticks": ""
             }
            },
            "type": "scattergl"
           }
          ],
          "scattermap": [
           {
            "marker": {
             "colorbar": {
              "outlinewidth": 0,
              "ticks": ""
             }
            },
            "type": "scattermap"
           }
          ],
          "scattermapbox": [
           {
            "marker": {
             "colorbar": {
              "outlinewidth": 0,
              "ticks": ""
             }
            },
            "type": "scattermapbox"
           }
          ],
          "scatterpolar": [
           {
            "marker": {
             "colorbar": {
              "outlinewidth": 0,
              "ticks": ""
             }
            },
            "type": "scatterpolar"
           }
          ],
          "scatterpolargl": [
           {
            "marker": {
             "colorbar": {
              "outlinewidth": 0,
              "ticks": ""
             }
            },
            "type": "scatterpolargl"
           }
          ],
          "scatterternary": [
           {
            "marker": {
             "colorbar": {
              "outlinewidth": 0,
              "ticks": ""
             }
            },
            "type": "scatterternary"
           }
          ],
          "surface": [
           {
            "colorbar": {
             "outlinewidth": 0,
             "ticks": ""
            },
            "colorscale": [
             [
              0,
              "#0d0887"
             ],
             [
              0.1111111111111111,
              "#46039f"
             ],
             [
              0.2222222222222222,
              "#7201a8"
             ],
             [
              0.3333333333333333,
              "#9c179e"
             ],
             [
              0.4444444444444444,
              "#bd3786"
             ],
             [
              0.5555555555555556,
              "#d8576b"
             ],
             [
              0.6666666666666666,
              "#ed7953"
             ],
             [
              0.7777777777777778,
              "#fb9f3a"
             ],
             [
              0.8888888888888888,
              "#fdca26"
             ],
             [
              1,
              "#f0f921"
             ]
            ],
            "type": "surface"
           }
          ],
          "table": [
           {
            "cells": {
             "fill": {
              "color": "#EBF0F8"
             },
             "line": {
              "color": "white"
             }
            },
            "header": {
             "fill": {
              "color": "#C8D4E3"
             },
             "line": {
              "color": "white"
             }
            },
            "type": "table"
           }
          ]
         },
         "layout": {
          "annotationdefaults": {
           "arrowcolor": "#2a3f5f",
           "arrowhead": 0,
           "arrowwidth": 1
          },
          "autotypenumbers": "strict",
          "coloraxis": {
           "colorbar": {
            "outlinewidth": 0,
            "ticks": ""
           }
          },
          "colorscale": {
           "diverging": [
            [
             0,
             "#8e0152"
            ],
            [
             0.1,
             "#c51b7d"
            ],
            [
             0.2,
             "#de77ae"
            ],
            [
             0.3,
             "#f1b6da"
            ],
            [
             0.4,
             "#fde0ef"
            ],
            [
             0.5,
             "#f7f7f7"
            ],
            [
             0.6,
             "#e6f5d0"
            ],
            [
             0.7,
             "#b8e186"
            ],
            [
             0.8,
             "#7fbc41"
            ],
            [
             0.9,
             "#4d9221"
            ],
            [
             1,
             "#276419"
            ]
           ],
           "sequential": [
            [
             0,
             "#0d0887"
            ],
            [
             0.1111111111111111,
             "#46039f"
            ],
            [
             0.2222222222222222,
             "#7201a8"
            ],
            [
             0.3333333333333333,
             "#9c179e"
            ],
            [
             0.4444444444444444,
             "#bd3786"
            ],
            [
             0.5555555555555556,
             "#d8576b"
            ],
            [
             0.6666666666666666,
             "#ed7953"
            ],
            [
             0.7777777777777778,
             "#fb9f3a"
            ],
            [
             0.8888888888888888,
             "#fdca26"
            ],
            [
             1,
             "#f0f921"
            ]
           ],
           "sequentialminus": [
            [
             0,
             "#0d0887"
            ],
            [
             0.1111111111111111,
             "#46039f"
            ],
            [
             0.2222222222222222,
             "#7201a8"
            ],
            [
             0.3333333333333333,
             "#9c179e"
            ],
            [
             0.4444444444444444,
             "#bd3786"
            ],
            [
             0.5555555555555556,
             "#d8576b"
            ],
            [
             0.6666666666666666,
             "#ed7953"
            ],
            [
             0.7777777777777778,
             "#fb9f3a"
            ],
            [
             0.8888888888888888,
             "#fdca26"
            ],
            [
             1,
             "#f0f921"
            ]
           ]
          },
          "colorway": [
           "#636efa",
           "#EF553B",
           "#00cc96",
           "#ab63fa",
           "#FFA15A",
           "#19d3f3",
           "#FF6692",
           "#B6E880",
           "#FF97FF",
           "#FECB52"
          ],
          "font": {
           "color": "#2a3f5f"
          },
          "geo": {
           "bgcolor": "white",
           "lakecolor": "white",
           "landcolor": "#E5ECF6",
           "showlakes": true,
           "showland": true,
           "subunitcolor": "white"
          },
          "hoverlabel": {
           "align": "left"
          },
          "hovermode": "closest",
          "mapbox": {
           "style": "light"
          },
          "paper_bgcolor": "white",
          "plot_bgcolor": "#E5ECF6",
          "polar": {
           "angularaxis": {
            "gridcolor": "white",
            "linecolor": "white",
            "ticks": ""
           },
           "bgcolor": "#E5ECF6",
           "radialaxis": {
            "gridcolor": "white",
            "linecolor": "white",
            "ticks": ""
           }
          },
          "scene": {
           "xaxis": {
            "backgroundcolor": "#E5ECF6",
            "gridcolor": "white",
            "gridwidth": 2,
            "linecolor": "white",
            "showbackground": true,
            "ticks": "",
            "zerolinecolor": "white"
           },
           "yaxis": {
            "backgroundcolor": "#E5ECF6",
            "gridcolor": "white",
            "gridwidth": 2,
            "linecolor": "white",
            "showbackground": true,
            "ticks": "",
            "zerolinecolor": "white"
           },
           "zaxis": {
            "backgroundcolor": "#E5ECF6",
            "gridcolor": "white",
            "gridwidth": 2,
            "linecolor": "white",
            "showbackground": true,
            "ticks": "",
            "zerolinecolor": "white"
           }
          },
          "shapedefaults": {
           "line": {
            "color": "#2a3f5f"
           }
          },
          "ternary": {
           "aaxis": {
            "gridcolor": "white",
            "linecolor": "white",
            "ticks": ""
           },
           "baxis": {
            "gridcolor": "white",
            "linecolor": "white",
            "ticks": ""
           },
           "bgcolor": "#E5ECF6",
           "caxis": {
            "gridcolor": "white",
            "linecolor": "white",
            "ticks": ""
           }
          },
          "title": {
           "x": 0.05
          },
          "xaxis": {
           "automargin": true,
           "gridcolor": "white",
           "linecolor": "white",
           "ticks": "",
           "title": {
            "standoff": 15
           },
           "zerolinecolor": "white",
           "zerolinewidth": 2
          },
          "yaxis": {
           "automargin": true,
           "gridcolor": "white",
           "linecolor": "white",
           "ticks": "",
           "title": {
            "standoff": 15
           },
           "zerolinecolor": "white",
           "zerolinewidth": 2
          }
         }
        },
        "title": {
         "text": "[Similarity], n = 4_247"
        },
        "width": 1200,
        "xaxis": {
         "anchor": "y",
         "domain": [
          0,
          1
         ],
         "title": {
          "text": "value"
         }
        },
        "yaxis": {
         "anchor": "x",
         "domain": [
          0,
          1
         ],
         "title": {
          "text": "variable"
         }
        }
       }
      }
     },
     "metadata": {},
     "output_type": "display_data"
    },
    {
     "name": "stdout",
     "output_type": "stream",
     "text": [
      "Similarity -> min: 85.0 | lower: 100.0 | q25: 100.0 | median: 100.0 | mean: 98.443 | q75: 100.0 | upper: 100.0 | max: 100.0 | std: 3.372 | cv: 0.034 | sum: 237_543.0 | skew: -2.118 | kurto: 3.409  \n"
     ]
    }
   ],
   "source": [
    "_=pls.plot_box(results[\"Similarity\"], annotations=False)"
   ]
  },
  {
   "cell_type": "code",
   "execution_count": 55,
   "id": "0e92648b",
   "metadata": {},
   "outputs": [
    {
     "name": "stdout",
     "output_type": "stream",
     "text": [
      "    threshold  match_count  similarity_mean\n",
      "0          60         2629        96.823507\n",
      "1          61         2629        96.823507\n",
      "2          62         2629        96.823507\n",
      "3          63         2629        96.823507\n",
      "4          64         2629        96.823507\n",
      "5          65         2629        96.823507\n",
      "6          66         2629        96.823507\n",
      "7          67         2629        96.823507\n",
      "8          68         2629        96.823507\n",
      "9          69         2629        96.823507\n",
      "10         70         2629        96.823507\n",
      "11         71         2629        96.823507\n",
      "12         72         2629        96.823507\n",
      "13         73         2629        96.823507\n",
      "14         74         2629        96.823507\n",
      "15         75         2629        96.823507\n",
      "16         76         2604        97.033026\n",
      "17         77         2563        97.369489\n",
      "18         78         2547        97.497448\n",
      "19         79         2514        97.753381\n",
      "20         80         2505        97.820758\n",
      "21         81         2467        98.095257\n",
      "22         82         2463        98.123021\n",
      "23         83         2436        98.301724\n",
      "24         84         2424        98.377475\n",
      "25         85         2413        98.443017\n",
      "26         86         2405        98.487734\n",
      "27         87         2384        98.597735\n",
      "28         88         2375        98.641684\n",
      "29         89         2364        98.691201\n",
      "30         90         2320        98.875000\n",
      "31         91         2260        99.110619\n",
      "32         92         2201        99.328033\n",
      "33         93         2172        99.425875\n",
      "34         94         2146        99.503728\n",
      "35         95         2126        99.555503\n",
      "36         96         2011        99.816012\n",
      "37         97         1933        99.969995\n",
      "38         98         1915        99.997911\n",
      "39         99         1913       100.000000\n"
     ]
    }
   ],
   "source": [
    "# containers\n",
    "threshold_value = []\n",
    "similarity_mean = []\n",
    "match_count = []\n",
    "\n",
    "threshold_range = range(60, 100)\n",
    "\n",
    "for threshold in threshold_range:\n",
    "\n",
    "    results = rec.add_substance(\n",
    "        col_with_substances=col_with_substances,\n",
    "        col_with_ref_substances=col_with_ref_substances,\n",
    "        only_first_match=True,          # get only one match per free text field\n",
    "        max_per_match_id=1,\n",
    "        threshold=threshold/100  \n",
    "    )\n",
    "\n",
    "    valid_hits = results[\"Hit\"].dropna()\n",
    "    valid_hits = valid_hits[valid_hits != \"\"]\n",
    "    count = len(valid_hits)\n",
    "\n",
    "    mean_sim = pd.to_numeric(results[\"Similarity\"], errors='coerce').mean()\n",
    "\n",
    "    threshold_value.append(threshold)\n",
    "    match_count.append(count)\n",
    "    similarity_mean.append(mean_sim)\n",
    "\n",
    "\n",
    "results_df = pd.DataFrame({\n",
    "    \"threshold\": threshold_value,\n",
    "    \"match_count\": match_count,\n",
    "    \"similarity_mean\": similarity_mean\n",
    "})\n",
    "\n",
    "print(results_df)"
   ]
  },
  {
   "cell_type": "code",
   "execution_count": 56,
   "id": "8d48ad1b",
   "metadata": {},
   "outputs": [],
   "source": [
    "results_df['match_count_relative'] = results_df['match_count'] / len(col_with_substances)"
   ]
  },
  {
   "cell_type": "code",
   "execution_count": 57,
   "id": "173a67f9",
   "metadata": {},
   "outputs": [
    {
     "data": {
      "image/png": "[encoded data removed]",
      "text/plain": [
       "<Figure size 800x500 with 1 Axes>"
      ]
     },
     "metadata": {},
     "output_type": "display_data"
    }
   ],
   "source": [
    "plt.figure(figsize=(8, 5))\n",
    "plt.plot(results_df['threshold'], results_df['match_count_relative'], marker='o')\n",
    "plt.xlabel('Threshold')\n",
    "plt.ylabel('Match Count (Relative to Total Cases)')\n",
    "plt.title('Match Count vs. Threshold')\n",
    "plt.grid(True)\n",
    "plt.tight_layout()\n",
    "plt.savefig('../images/plot_match_count_vs_threshold.png', dpi=300)\n",
    "plt.show()"
   ]
  },
  {
   "cell_type": "code",
   "execution_count": 58,
   "id": "6e3bf154",
   "metadata": {},
   "outputs": [
    {
     "data": {
      "application/vnd.microsoft.datawrangler.viewer.v0+json": {
       "columns": [
        {
         "name": "index",
         "rawType": "int64",
         "type": "integer"
        },
        {
         "name": "Original",
         "rawType": "object",
         "type": "string"
        },
        {
         "name": "Preprocessed",
         "rawType": "object",
         "type": "string"
        },
        {
         "name": "Hit1",
         "rawType": "object",
         "type": "unknown"
        },
        {
         "name": "Mapped_to1",
         "rawType": "object",
         "type": "unknown"
        },
        {
         "name": "Similarity1",
         "rawType": "float64",
         "type": "float"
        },
        {
         "name": "Hit2",
         "rawType": "object",
         "type": "unknown"
        },
        {
         "name": "Mapped_to2",
         "rawType": "object",
         "type": "unknown"
        },
        {
         "name": "Similarity2",
         "rawType": "float64",
         "type": "float"
        },
        {
         "name": "Hit3",
         "rawType": "object",
         "type": "unknown"
        },
        {
         "name": "Mapped_to3",
         "rawType": "object",
         "type": "unknown"
        },
        {
         "name": "Similarity3",
         "rawType": "float64",
         "type": "float"
        },
        {
         "name": "Hit4",
         "rawType": "object",
         "type": "unknown"
        },
        {
         "name": "Mapped_to4",
         "rawType": "object",
         "type": "unknown"
        },
        {
         "name": "Similarity4",
         "rawType": "float64",
         "type": "float"
        },
        {
         "name": "Hit5",
         "rawType": "object",
         "type": "unknown"
        },
        {
         "name": "Mapped_to5",
         "rawType": "object",
         "type": "unknown"
        },
        {
         "name": "Similarity5",
         "rawType": "float64",
         "type": "float"
        },
        {
         "name": "Hit6",
         "rawType": "object",
         "type": "unknown"
        },
        {
         "name": "Mapped_to6",
         "rawType": "object",
         "type": "unknown"
        },
        {
         "name": "Similarity6",
         "rawType": "float64",
         "type": "float"
        }
       ],
       "ref": "a1814aa7-8a35-441b-8c69-5a92daaf05c2",
       "rows": [
        [
         "0",
         "Dacarbazin (DTIC)",
         "Dacarbazin (DTIC)",
         "Dacarbazin",
         "Dacarbazin",
         "100.0",
         null,
         null,
         null,
         null,
         null,
         null,
         null,
         null,
         null,
         null,
         null,
         null,
         null,
         null,
         null
        ],
        [
         "1",
         "Ribociclib",
         "Ribociclib",
         "Ribociclib",
         "Ribociclib",
         "100.0",
         null,
         null,
         null,
         null,
         null,
         null,
         null,
         null,
         null,
         null,
         null,
         null,
         null,
         null,
         null
        ],
        [
         "2",
         "Wirkstoff: keine Angabe",
         "Wirkstoff: keine Angabe",
         null,
         null,
         null,
         null,
         null,
         null,
         null,
         null,
         null,
         null,
         null,
         null,
         null,
         null,
         null,
         null,
         null,
         null
        ],
        [
         "3",
         "Midostaurin",
         "Midostaurin",
         "Midostaurin",
         "Midostaurin",
         "100.0",
         null,
         null,
         null,
         null,
         null,
         null,
         null,
         null,
         null,
         null,
         null,
         null,
         null,
         null,
         null
        ],
        [
         "4",
         "Cetuximab",
         "Cetuximab",
         "Cetuximab",
         "Cetuximab",
         "100.0",
         null,
         null,
         null,
         null,
         null,
         null,
         null,
         null,
         null,
         null,
         null,
         null,
         null,
         null,
         null
        ],
        [
         "5",
         "Cisplatin",
         "Cisplatin",
         "Cisplatin",
         "Cisplatin",
         "100.0",
         null,
         null,
         null,
         null,
         null,
         null,
         null,
         null,
         null,
         null,
         null,
         null,
         null,
         null,
         null
        ],
        [
         "6",
         "Cytarabin (AraC)",
         "Cytarabin (AraC)",
         "Cytarabin",
         "Cytarabin",
         "100.0",
         null,
         null,
         null,
         null,
         null,
         null,
         null,
         null,
         null,
         null,
         null,
         null,
         null,
         null,
         null
        ],
        [
         "7",
         "5-Fluorouracil",
         "5-Fluorouracil",
         "Fluorouracil",
         "Fluorouracil",
         "100.0",
         null,
         null,
         null,
         null,
         null,
         null,
         null,
         null,
         null,
         null,
         null,
         null,
         null,
         null,
         null
        ],
        [
         "8",
         "Erbitux",
         "Erbitux",
         null,
         null,
         null,
         null,
         null,
         null,
         null,
         null,
         null,
         null,
         null,
         null,
         null,
         null,
         null,
         null,
         null,
         null
        ],
        [
         "9",
         "Paclitaxel (Taxol)",
         "Paclitaxel (Taxol)",
         "Paclitaxel",
         "Paclitaxel",
         "100.0",
         "Paclitaxel (",
         "Paclitaxel nab",
         "85.0",
         null,
         null,
         null,
         null,
         null,
         null,
         null,
         null,
         null,
         null,
         null,
         null
        ],
        [
         "10",
         "GnRH-Antagonisten",
         "GnRH-Antagonisten",
         null,
         null,
         null,
         null,
         null,
         null,
         null,
         null,
         null,
         null,
         null,
         null,
         null,
         null,
         null,
         null,
         null,
         null
        ],
        [
         "11",
         "Autolog",
         "Autolog",
         null,
         null,
         null,
         null,
         null,
         null,
         null,
         null,
         null,
         null,
         null,
         null,
         null,
         null,
         null,
         null,
         null,
         null
        ],
        [
         "12",
         "Methotrexat (MTX) systemisch",
         "Methotrexat (MTX) systemisch",
         "Methotrexat",
         "Methotrexat",
         "100.0",
         null,
         null,
         null,
         null,
         null,
         null,
         null,
         null,
         null,
         null,
         null,
         null,
         null,
         null,
         null
        ],
        [
         "13",
         "Carfilzomib",
         "Carfilzomib",
         "Carfilzomib",
         "Carfilzomib",
         "100.0",
         null,
         null,
         null,
         null,
         null,
         null,
         null,
         null,
         null,
         null,
         null,
         null,
         null,
         null,
         null
        ],
        [
         "14",
         "Letrozol (Femara®)",
         "Letrozol (Femara®)",
         "Letrozol",
         "Letrozol",
         "100.0",
         null,
         null,
         null,
         null,
         null,
         null,
         null,
         null,
         null,
         null,
         null,
         null,
         null,
         null,
         null
        ],
        [
         "15",
         "LHRH-Antagonist",
         "LHRH-Antagonist",
         null,
         null,
         null,
         null,
         null,
         null,
         null,
         null,
         null,
         null,
         null,
         null,
         null,
         null,
         null,
         null,
         null,
         null
        ],
        [
         "16",
         "Abirateronacetat",
         "Abirateronacetat",
         null,
         null,
         null,
         null,
         null,
         null,
         null,
         null,
         null,
         null,
         null,
         null,
         null,
         null,
         null,
         null,
         null,
         null
        ],
        [
         "17",
         "MCP",
         "MCP",
         null,
         null,
         null,
         null,
         null,
         null,
         null,
         null,
         null,
         null,
         null,
         null,
         null,
         null,
         null,
         null,
         null,
         null
        ],
        [
         "18",
         "Clemastin",
         "Clemastin",
         null,
         null,
         null,
         null,
         null,
         null,
         null,
         null,
         null,
         null,
         null,
         null,
         null,
         null,
         null,
         null,
         null,
         null
        ],
        [
         "19",
         "Perjeta",
         "Perjeta",
         null,
         null,
         null,
         null,
         null,
         null,
         null,
         null,
         null,
         null,
         null,
         null,
         null,
         null,
         null,
         null,
         null,
         null
        ],
        [
         "20",
         "Giredestrant",
         "Giredestrant",
         null,
         null,
         null,
         null,
         null,
         null,
         null,
         null,
         null,
         null,
         null,
         null,
         null,
         null,
         null,
         null,
         null,
         null
        ],
        [
         "21",
         "Afatinib",
         "Afatinib",
         "Afatinib",
         "Afatinib",
         "100.0",
         null,
         null,
         null,
         null,
         null,
         null,
         null,
         null,
         null,
         null,
         null,
         null,
         null,
         null,
         null
        ],
        [
         "22",
         "Studienmedikament (Immun)",
         "Studienmedikament (Immun)",
         "Studienmedikament",
         "Studienmedikament",
         "100.0",
         null,
         null,
         null,
         null,
         null,
         null,
         null,
         null,
         null,
         null,
         null,
         null,
         null,
         null,
         null
        ],
        [
         "23",
         "Neupogen, Neulasta; G-CSF",
         "Neupogen, Neulasta; G-CSF",
         "G-CSF",
         "G-CSF",
         "100.0",
         null,
         null,
         null,
         null,
         null,
         null,
         null,
         null,
         null,
         null,
         null,
         null,
         null,
         null,
         null
        ],
        [
         "24",
         "Histrelin",
         "Histrelin",
         "Histrelin",
         "Histrelin",
         "100.0",
         null,
         null,
         null,
         null,
         null,
         null,
         null,
         null,
         null,
         null,
         null,
         null,
         null,
         null,
         null
        ],
        [
         "25",
         "Vindesin",
         "Vindesin",
         "Vindesin",
         "Vindesin",
         "100.0",
         null,
         null,
         null,
         null,
         null,
         null,
         null,
         null,
         null,
         null,
         null,
         null,
         null,
         null,
         null
        ],
        [
         "26",
         "Pamorelin",
         "Pamorelin",
         null,
         null,
         null,
         null,
         null,
         null,
         null,
         null,
         null,
         null,
         null,
         null,
         null,
         null,
         null,
         null,
         null,
         null
        ],
        [
         "27",
         "Nivolumab (Opdivo)",
         "Nivolumab (Opdivo)",
         "Nivolumab",
         "Nivolumab",
         "100.0",
         null,
         null,
         null,
         null,
         null,
         null,
         null,
         null,
         null,
         null,
         null,
         null,
         null,
         null,
         null
        ],
        [
         "28",
         "Lorlatinib",
         "Lorlatinib",
         "Lorlatinib",
         "Lorlatinib",
         "100.0",
         null,
         null,
         null,
         null,
         null,
         null,
         null,
         null,
         null,
         null,
         null,
         null,
         null,
         null,
         null
        ],
        [
         "29",
         "Sotarasib",
         "Sotarasib",
         null,
         null,
         null,
         null,
         null,
         null,
         null,
         null,
         null,
         null,
         null,
         null,
         null,
         null,
         null,
         null,
         null,
         null
        ],
        [
         "30",
         "L01XA01",
         "L01XA01",
         null,
         null,
         null,
         null,
         null,
         null,
         null,
         null,
         null,
         null,
         null,
         null,
         null,
         null,
         null,
         null,
         null,
         null
        ],
        [
         "31",
         "Furosemid",
         "Furosemid",
         null,
         null,
         null,
         null,
         null,
         null,
         null,
         null,
         null,
         null,
         null,
         null,
         null,
         null,
         null,
         null,
         null,
         null
        ],
        [
         "32",
         "Amilomer",
         "Amilomer",
         "Amilomer",
         "Amilomer",
         "100.0",
         null,
         null,
         null,
         null,
         null,
         null,
         null,
         null,
         null,
         null,
         null,
         null,
         null,
         null,
         null
        ],
        [
         "33",
         "PEG-Filgrastim",
         "PEG-Filgrastim",
         "Filgrastim",
         "Filgrastim",
         "100.0",
         "Filgrastim",
         "Pegfilgrastim",
         "87.0",
         null,
         null,
         null,
         null,
         null,
         null,
         null,
         null,
         null,
         null,
         null,
         null
        ],
        [
         "34",
         "Stammzelltransplantation",
         "Stammzelltransplantation",
         null,
         null,
         null,
         null,
         null,
         null,
         null,
         null,
         null,
         null,
         null,
         null,
         null,
         null,
         null,
         null,
         null,
         null
        ],
        [
         "35",
         "Pembrolizumab (MK-3475)",
         "Pembrolizumab (MK-3475)",
         "Pembrolizumab",
         "Pembrolizumab",
         "100.0",
         null,
         null,
         null,
         null,
         null,
         null,
         null,
         null,
         null,
         null,
         null,
         null,
         null,
         null,
         null
        ],
        [
         "36",
         "Bade-PUVA",
         "Bade-PUVA",
         null,
         null,
         null,
         null,
         null,
         null,
         null,
         null,
         null,
         null,
         null,
         null,
         null,
         null,
         null,
         null,
         null,
         null
        ],
        [
         "37",
         "Tamoxifen (Nolvadex®)",
         "Tamoxifen (Nolvadex®)",
         "Tamoxifen",
         "Tamoxifen",
         "100.0",
         null,
         null,
         null,
         null,
         null,
         null,
         null,
         null,
         null,
         null,
         null,
         null,
         null,
         null,
         null
        ],
        [
         "38",
         "Paclitaxelpoliglumex",
         "Paclitaxelpoliglumex",
         null,
         null,
         null,
         null,
         null,
         null,
         null,
         null,
         null,
         null,
         null,
         null,
         null,
         null,
         null,
         null,
         null,
         null
        ],
        [
         "39",
         "Studienmedikation n.n.b.",
         "Studienmedikation n.n.b.",
         null,
         null,
         null,
         null,
         null,
         null,
         null,
         null,
         null,
         null,
         null,
         null,
         null,
         null,
         null,
         null,
         null,
         null
        ],
        [
         "40",
         "Cabozantinib; Cabozantinib",
         "Cabozantinib; Cabozantinib",
         "Cabozantinib",
         "Cabozantinib",
         "100.0",
         "Cabozantinib",
         "Cabozantinib",
         "100.0",
         null,
         null,
         null,
         null,
         null,
         null,
         null,
         null,
         null,
         null,
         null,
         null
        ],
        [
         "41",
         "Natriumfolinat",
         "Natriumfolinat",
         "Natriumfolinat",
         "Dinatriumfolinat",
         "93.0",
         null,
         null,
         null,
         null,
         null,
         null,
         null,
         null,
         null,
         null,
         null,
         null,
         null,
         null,
         null
        ],
        [
         "42",
         "Caelyx",
         "Caelyx",
         null,
         null,
         null,
         null,
         null,
         null,
         null,
         null,
         null,
         null,
         null,
         null,
         null,
         null,
         null,
         null,
         null,
         null
        ],
        [
         "43",
         "Akynzeo i.v.",
         "Akynzeo i.v.",
         null,
         null,
         null,
         null,
         null,
         null,
         null,
         null,
         null,
         null,
         null,
         null,
         null,
         null,
         null,
         null,
         null,
         null
        ],
        [
         "44",
         "pegliposomales Doxorubicin",
         "pegliposomales Doxorubicin",
         "Doxorubicin",
         "Doxorubicin",
         "100.0",
         null,
         null,
         null,
         null,
         null,
         null,
         null,
         null,
         null,
         null,
         null,
         null,
         null,
         null,
         null
        ],
        [
         "45",
         "Fluorouracil 5",
         "Fluorouracil",
         "Fluorouracil",
         "Fluorouracil",
         "100.0",
         null,
         null,
         null,
         null,
         null,
         null,
         null,
         null,
         null,
         null,
         null,
         null,
         null,
         null,
         null
        ],
        [
         "46",
         "Ribofolin,Rescuvolin,Foli Cell",
         "Ribofolin,Rescuvolin,Foli Cell",
         null,
         null,
         null,
         null,
         null,
         null,
         null,
         null,
         null,
         null,
         null,
         null,
         null,
         null,
         null,
         null,
         null,
         null
        ],
        [
         "47",
         "EmboCept S",
         "EmboCept",
         "EmboCept",
         "EmboCept",
         "100.0",
         null,
         null,
         null,
         null,
         null,
         null,
         null,
         null,
         null,
         null,
         null,
         null,
         null,
         null,
         null
        ],
        [
         "48",
         "Emtansine = DM1; KADCYLA",
         "Emtansine DM1; KADCYLA",
         null,
         null,
         null,
         null,
         null,
         null,
         null,
         null,
         null,
         null,
         null,
         null,
         null,
         null,
         null,
         null,
         null,
         null
        ],
        [
         "49",
         "Stammzellgabe",
         "Stammzellgabe",
         null,
         null,
         null,
         null,
         null,
         null,
         null,
         null,
         null,
         null,
         null,
         null,
         null,
         null,
         null,
         null,
         null,
         null
        ]
       ],
       "shape": {
        "columns": 20,
        "rows": 4247
       }
      },
      "text/html": [
       "<div>\n",
       "<style scoped>\n",
       "    .dataframe tbody tr th:only-of-type {\n",
       "        vertical-align: middle;\n",
       "    }\n",
       "\n",
       "    .dataframe tbody tr th {\n",
       "        vertical-align: top;\n",
       "    }\n",
       "\n",
       "    .dataframe thead th {\n",
       "        text-align: right;\n",
       "    }\n",
       "</style>\n",
       "<table border=\"1\" class=\"dataframe\">\n",
       "  <thead>\n",
       "    <tr style=\"text-align: right;\">\n",
       "      <th></th>\n",
       "      <th>Original</th>\n",
       "      <th>Preprocessed</th>\n",
       "      <th>Hit1</th>\n",
       "      <th>Mapped_to1</th>\n",
       "      <th>Similarity1</th>\n",
       "      <th>Hit2</th>\n",
       "      <th>Mapped_to2</th>\n",
       "      <th>Similarity2</th>\n",
       "      <th>Hit3</th>\n",
       "      <th>Mapped_to3</th>\n",
       "      <th>Similarity3</th>\n",
       "      <th>Hit4</th>\n",
       "      <th>Mapped_to4</th>\n",
       "      <th>Similarity4</th>\n",
       "      <th>Hit5</th>\n",
       "      <th>Mapped_to5</th>\n",
       "      <th>Similarity5</th>\n",
       "      <th>Hit6</th>\n",
       "      <th>Mapped_to6</th>\n",
       "      <th>Similarity6</th>\n",
       "    </tr>\n",
       "  </thead>\n",
       "  <tbody>\n",
       "    <tr>\n",
       "      <th>0</th>\n",
       "      <td>Dacarbazin (DTIC)</td>\n",
       "      <td>Dacarbazin (DTIC)</td>\n",
       "      <td>Dacarbazin</td>\n",
       "      <td>Dacarbazin</td>\n",
       "      <td>100.0</td>\n",
       "      <td>NaN</td>\n",
       "      <td>NaN</td>\n",
       "      <td>NaN</td>\n",
       "      <td>NaN</td>\n",
       "      <td>NaN</td>\n",
       "      <td>NaN</td>\n",
       "      <td>NaN</td>\n",
       "      <td>NaN</td>\n",
       "      <td>NaN</td>\n",
       "      <td>NaN</td>\n",
       "      <td>NaN</td>\n",
       "      <td>NaN</td>\n",
       "      <td>NaN</td>\n",
       "      <td>NaN</td>\n",
       "      <td>NaN</td>\n",
       "    </tr>\n",
       "    <tr>\n",
       "      <th>1</th>\n",
       "      <td>Ribociclib</td>\n",
       "      <td>Ribociclib</td>\n",
       "      <td>Ribociclib</td>\n",
       "      <td>Ribociclib</td>\n",
       "      <td>100.0</td>\n",
       "      <td>NaN</td>\n",
       "      <td>NaN</td>\n",
       "      <td>NaN</td>\n",
       "      <td>NaN</td>\n",
       "      <td>NaN</td>\n",
       "      <td>NaN</td>\n",
       "      <td>NaN</td>\n",
       "      <td>NaN</td>\n",
       "      <td>NaN</td>\n",
       "      <td>NaN</td>\n",
       "      <td>NaN</td>\n",
       "      <td>NaN</td>\n",
       "      <td>NaN</td>\n",
       "      <td>NaN</td>\n",
       "      <td>NaN</td>\n",
       "    </tr>\n",
       "    <tr>\n",
       "      <th>2</th>\n",
       "      <td>Wirkstoff: keine Angabe</td>\n",
       "      <td>Wirkstoff: keine Angabe</td>\n",
       "      <td>NaN</td>\n",
       "      <td>NaN</td>\n",
       "      <td>NaN</td>\n",
       "      <td>NaN</td>\n",
       "      <td>NaN</td>\n",
       "      <td>NaN</td>\n",
       "      <td>NaN</td>\n",
       "      <td>NaN</td>\n",
       "      <td>NaN</td>\n",
       "      <td>NaN</td>\n",
       "      <td>NaN</td>\n",
       "      <td>NaN</td>\n",
       "      <td>NaN</td>\n",
       "      <td>NaN</td>\n",
       "      <td>NaN</td>\n",
       "      <td>NaN</td>\n",
       "      <td>NaN</td>\n",
       "      <td>NaN</td>\n",
       "    </tr>\n",
       "    <tr>\n",
       "      <th>3</th>\n",
       "      <td>Midostaurin</td>\n",
       "      <td>Midostaurin</td>\n",
       "      <td>Midostaurin</td>\n",
       "      <td>Midostaurin</td>\n",
       "      <td>100.0</td>\n",
       "      <td>NaN</td>\n",
       "      <td>NaN</td>\n",
       "      <td>NaN</td>\n",
       "      <td>NaN</td>\n",
       "      <td>NaN</td>\n",
       "      <td>NaN</td>\n",
       "      <td>NaN</td>\n",
       "      <td>NaN</td>\n",
       "      <td>NaN</td>\n",
       "      <td>NaN</td>\n",
       "      <td>NaN</td>\n",
       "      <td>NaN</td>\n",
       "      <td>NaN</td>\n",
       "      <td>NaN</td>\n",
       "      <td>NaN</td>\n",
       "    </tr>\n",
       "    <tr>\n",
       "      <th>4</th>\n",
       "      <td>Cetuximab</td>\n",
       "      <td>Cetuximab</td>\n",
       "      <td>Cetuximab</td>\n",
       "      <td>Cetuximab</td>\n",
       "      <td>100.0</td>\n",
       "      <td>NaN</td>\n",
       "      <td>NaN</td>\n",
       "      <td>NaN</td>\n",
       "      <td>NaN</td>\n",
       "      <td>NaN</td>\n",
       "      <td>NaN</td>\n",
       "      <td>NaN</td>\n",
       "      <td>NaN</td>\n",
       "      <td>NaN</td>\n",
       "      <td>NaN</td>\n",
       "      <td>NaN</td>\n",
       "      <td>NaN</td>\n",
       "      <td>NaN</td>\n",
       "      <td>NaN</td>\n",
       "      <td>NaN</td>\n",
       "    </tr>\n",
       "    <tr>\n",
       "      <th>...</th>\n",
       "      <td>...</td>\n",
       "      <td>...</td>\n",
       "      <td>...</td>\n",
       "      <td>...</td>\n",
       "      <td>...</td>\n",
       "      <td>...</td>\n",
       "      <td>...</td>\n",
       "      <td>...</td>\n",
       "      <td>...</td>\n",
       "      <td>...</td>\n",
       "      <td>...</td>\n",
       "      <td>...</td>\n",
       "      <td>...</td>\n",
       "      <td>...</td>\n",
       "      <td>...</td>\n",
       "      <td>...</td>\n",
       "      <td>...</td>\n",
       "      <td>...</td>\n",
       "      <td>...</td>\n",
       "      <td>...</td>\n",
       "    </tr>\n",
       "    <tr>\n",
       "      <th>4242</th>\n",
       "      <td>Cecenu, Lomeblastin, CiCiNu</td>\n",
       "      <td>Cecenu, Lomeblastin, CiCiNu</td>\n",
       "      <td>NaN</td>\n",
       "      <td>NaN</td>\n",
       "      <td>NaN</td>\n",
       "      <td>NaN</td>\n",
       "      <td>NaN</td>\n",
       "      <td>NaN</td>\n",
       "      <td>NaN</td>\n",
       "      <td>NaN</td>\n",
       "      <td>NaN</td>\n",
       "      <td>NaN</td>\n",
       "      <td>NaN</td>\n",
       "      <td>NaN</td>\n",
       "      <td>NaN</td>\n",
       "      <td>NaN</td>\n",
       "      <td>NaN</td>\n",
       "      <td>NaN</td>\n",
       "      <td>NaN</td>\n",
       "      <td>NaN</td>\n",
       "    </tr>\n",
       "    <tr>\n",
       "      <th>4243</th>\n",
       "      <td>Sixantone</td>\n",
       "      <td>Sixantone</td>\n",
       "      <td>NaN</td>\n",
       "      <td>NaN</td>\n",
       "      <td>NaN</td>\n",
       "      <td>NaN</td>\n",
       "      <td>NaN</td>\n",
       "      <td>NaN</td>\n",
       "      <td>NaN</td>\n",
       "      <td>NaN</td>\n",
       "      <td>NaN</td>\n",
       "      <td>NaN</td>\n",
       "      <td>NaN</td>\n",
       "      <td>NaN</td>\n",
       "      <td>NaN</td>\n",
       "      <td>NaN</td>\n",
       "      <td>NaN</td>\n",
       "      <td>NaN</td>\n",
       "      <td>NaN</td>\n",
       "      <td>NaN</td>\n",
       "    </tr>\n",
       "    <tr>\n",
       "      <th>4244</th>\n",
       "      <td>Omeparazol 20</td>\n",
       "      <td>Omeparazol</td>\n",
       "      <td>NaN</td>\n",
       "      <td>NaN</td>\n",
       "      <td>NaN</td>\n",
       "      <td>NaN</td>\n",
       "      <td>NaN</td>\n",
       "      <td>NaN</td>\n",
       "      <td>NaN</td>\n",
       "      <td>NaN</td>\n",
       "      <td>NaN</td>\n",
       "      <td>NaN</td>\n",
       "      <td>NaN</td>\n",
       "      <td>NaN</td>\n",
       "      <td>NaN</td>\n",
       "      <td>NaN</td>\n",
       "      <td>NaN</td>\n",
       "      <td>NaN</td>\n",
       "      <td>NaN</td>\n",
       "      <td>NaN</td>\n",
       "    </tr>\n",
       "    <tr>\n",
       "      <th>4245</th>\n",
       "      <td>Cisplatin 25mg/m²</td>\n",
       "      <td>Cisplatin 25mg/m²</td>\n",
       "      <td>Cisplatin</td>\n",
       "      <td>Cisplatin</td>\n",
       "      <td>100.0</td>\n",
       "      <td>NaN</td>\n",
       "      <td>NaN</td>\n",
       "      <td>NaN</td>\n",
       "      <td>NaN</td>\n",
       "      <td>NaN</td>\n",
       "      <td>NaN</td>\n",
       "      <td>NaN</td>\n",
       "      <td>NaN</td>\n",
       "      <td>NaN</td>\n",
       "      <td>NaN</td>\n",
       "      <td>NaN</td>\n",
       "      <td>NaN</td>\n",
       "      <td>NaN</td>\n",
       "      <td>NaN</td>\n",
       "      <td>NaN</td>\n",
       "    </tr>\n",
       "    <tr>\n",
       "      <th>4246</th>\n",
       "      <td>Active surcveillance</td>\n",
       "      <td>Active surcveillance</td>\n",
       "      <td>NaN</td>\n",
       "      <td>NaN</td>\n",
       "      <td>NaN</td>\n",
       "      <td>NaN</td>\n",
       "      <td>NaN</td>\n",
       "      <td>NaN</td>\n",
       "      <td>NaN</td>\n",
       "      <td>NaN</td>\n",
       "      <td>NaN</td>\n",
       "      <td>NaN</td>\n",
       "      <td>NaN</td>\n",
       "      <td>NaN</td>\n",
       "      <td>NaN</td>\n",
       "      <td>NaN</td>\n",
       "      <td>NaN</td>\n",
       "      <td>NaN</td>\n",
       "      <td>NaN</td>\n",
       "      <td>NaN</td>\n",
       "    </tr>\n",
       "  </tbody>\n",
       "</table>\n",
       "<p>4247 rows × 20 columns</p>\n",
       "</div>"
      ],
      "text/plain": [
       "                         Original                 Preprocessed         Hit1  \\\n",
       "0               Dacarbazin (DTIC)            Dacarbazin (DTIC)   Dacarbazin   \n",
       "1                      Ribociclib                   Ribociclib   Ribociclib   \n",
       "2         Wirkstoff: keine Angabe      Wirkstoff: keine Angabe          NaN   \n",
       "3                     Midostaurin                  Midostaurin  Midostaurin   \n",
       "4                       Cetuximab                    Cetuximab    Cetuximab   \n",
       "...                           ...                          ...          ...   \n",
       "4242  Cecenu, Lomeblastin, CiCiNu  Cecenu, Lomeblastin, CiCiNu          NaN   \n",
       "4243                    Sixantone                    Sixantone          NaN   \n",
       "4244                Omeparazol 20                   Omeparazol          NaN   \n",
       "4245            Cisplatin 25mg/m²            Cisplatin 25mg/m²    Cisplatin   \n",
       "4246         Active surcveillance         Active surcveillance          NaN   \n",
       "\n",
       "       Mapped_to1  Similarity1 Hit2 Mapped_to2  Similarity2 Hit3 Mapped_to3  \\\n",
       "0      Dacarbazin        100.0  NaN        NaN          NaN  NaN        NaN   \n",
       "1      Ribociclib        100.0  NaN        NaN          NaN  NaN        NaN   \n",
       "2             NaN          NaN  NaN        NaN          NaN  NaN        NaN   \n",
       "3     Midostaurin        100.0  NaN        NaN          NaN  NaN        NaN   \n",
       "4       Cetuximab        100.0  NaN        NaN          NaN  NaN        NaN   \n",
       "...           ...          ...  ...        ...          ...  ...        ...   \n",
       "4242          NaN          NaN  NaN        NaN          NaN  NaN        NaN   \n",
       "4243          NaN          NaN  NaN        NaN          NaN  NaN        NaN   \n",
       "4244          NaN          NaN  NaN        NaN          NaN  NaN        NaN   \n",
       "4245    Cisplatin        100.0  NaN        NaN          NaN  NaN        NaN   \n",
       "4246          NaN          NaN  NaN        NaN          NaN  NaN        NaN   \n",
       "\n",
       "      Similarity3 Hit4 Mapped_to4  Similarity4 Hit5 Mapped_to5  Similarity5  \\\n",
       "0             NaN  NaN        NaN          NaN  NaN        NaN          NaN   \n",
       "1             NaN  NaN        NaN          NaN  NaN        NaN          NaN   \n",
       "2             NaN  NaN        NaN          NaN  NaN        NaN          NaN   \n",
       "3             NaN  NaN        NaN          NaN  NaN        NaN          NaN   \n",
       "4             NaN  NaN        NaN          NaN  NaN        NaN          NaN   \n",
       "...           ...  ...        ...          ...  ...        ...          ...   \n",
       "4242          NaN  NaN        NaN          NaN  NaN        NaN          NaN   \n",
       "4243          NaN  NaN        NaN          NaN  NaN        NaN          NaN   \n",
       "4244          NaN  NaN        NaN          NaN  NaN        NaN          NaN   \n",
       "4245          NaN  NaN        NaN          NaN  NaN        NaN          NaN   \n",
       "4246          NaN  NaN        NaN          NaN  NaN        NaN          NaN   \n",
       "\n",
       "     Hit6 Mapped_to6  Similarity6  \n",
       "0     NaN        NaN          NaN  \n",
       "1     NaN        NaN          NaN  \n",
       "2     NaN        NaN          NaN  \n",
       "3     NaN        NaN          NaN  \n",
       "4     NaN        NaN          NaN  \n",
       "...   ...        ...          ...  \n",
       "4242  NaN        NaN          NaN  \n",
       "4243  NaN        NaN          NaN  \n",
       "4244  NaN        NaN          NaN  \n",
       "4245  NaN        NaN          NaN  \n",
       "4246  NaN        NaN          NaN  \n",
       "\n",
       "[4247 rows x 20 columns]"
      ]
     },
     "metadata": {},
     "output_type": "display_data"
    }
   ],
   "source": [
    "results_multiple_hits = rec.add_substance(\n",
    "    col_with_substances=col_with_substances,\n",
    "    col_with_ref_substances=col_with_ref_substances,\n",
    "    only_first_match=False,\n",
    "    threshold=0.85,\n",
    "    max_per_match_id=2\n",
    ")\n",
    "display(results_multiple_hits)"
   ]
  },
  {
   "cell_type": "code",
   "execution_count": 59,
   "id": "84e47295",
   "metadata": {},
   "outputs": [
    {
     "data": {
      "image/png": "[encoded data removed]",
      "text/plain": [
       "<Figure size 1400x600 with 2 Axes>"
      ]
     },
     "metadata": {},
     "output_type": "display_data"
    }
   ],
   "source": [
    "table_data1 = results.head()\n",
    "table_data2 = results_multiple_hits.head()\n",
    "\n",
    "# Set up vertically stacked subplots\n",
    "fig, (ax1, ax2) = plt.subplots(2, 1, figsize=(14, 6))  # Adjust height as needed\n",
    "\n",
    "# Plot first table\n",
    "ax1.axis('off')\n",
    "ax1.set_title('Results with option: only_first_match=True', fontsize=14, fontweight='bold', pad=10)\n",
    "table1 = ax1.table(cellText=table_data1.values,\n",
    "                colLabels=table_data1.columns,\n",
    "                cellLoc='center',\n",
    "                loc='center')\n",
    "table1.auto_set_font_size(False)\n",
    "table1.set_fontsize(10)\n",
    "table1.scale(1, 1.5)\n",
    "\n",
    "# Plot second table\n",
    "ax2.axis('off')\n",
    "ax2.set_title('Results with option: max_per_match_id=2', fontsize=14, fontweight='bold', pad=10)\n",
    "table2 = ax2.table(cellText=table_data2.values,\n",
    "                colLabels=table_data2.columns,\n",
    "                cellLoc='center',\n",
    "                loc='center')\n",
    "table2.auto_set_font_size(False)\n",
    "table2.set_fontsize(10)\n",
    "table2.scale(1, 1.5)\n",
    "\n",
    "# Save the figure\n",
    "plt.tight_layout()\n",
    "plt.savefig('../images/atomic_vs_multiple.png', dpi=300, bbox_inches='tight')\n",
    "plt.show()"
   ]
  }
 ],
 "metadata": {
  "kernelspec": {
   "display_name": "spacy-matching",
   "language": "python",
   "name": "python3"
  },
  "language_info": {
   "codemirror_mode": {
    "name": "ipython",
    "version": 3
   },
   "file_extension": ".py",
   "mimetype": "text/x-python",
   "name": "python",
   "nbconvert_exporter": "python",
   "pygments_lexer": "ipython3",
   "version": "3.12.9"
  }
 },
 "nbformat": 4,
 "nbformat_minor": 5
}
