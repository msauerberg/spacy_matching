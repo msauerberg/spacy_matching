{
 "cells": [
  {
   "cell_type": "markdown",
   "id": "2264990d",
   "metadata": {},
   "source": [
    "# spacy\n",
    "\n",
    "- interface for data to be processed should be described (eg which columns are needed)\n",
    "- display full df instead of head to have full featureset available\n",
    "- added uv option for better package handling"
   ]
  },
  {
   "cell_type": "code",
   "execution_count": 1,
   "id": "f86b0bcc",
   "metadata": {},
   "outputs": [],
   "source": [
    "import pandas as pd\n",
    "from utils import preprocess_data, get_matches, select_matches"
   ]
  },
  {
   "cell_type": "code",
   "execution_count": 2,
   "id": "7997f747",
   "metadata": {},
   "outputs": [
    {
     "name": "stdout",
     "output_type": "stream",
     "text": [
      "🐍 3.11.7 | 📦 pandas: 2.2.3 | 📦 numpy: 1.26.4 | 📦 duckdb: 1.2.2 | 📦 pandas-plots: 0.12.23 | ❌ connection_helper: Not found\n"
     ]
    }
   ],
   "source": [
    "import os\n",
    "from pathlib import Path\n",
    "import duckdb as ddb\n",
    "from pandas_plots import tbl, pls, hlp\n",
    "\n",
    "hlp.show_package_version()\n",
    "os.environ['THEME']='dark'\n",
    "\n",
    "dir_db=Path(\"C://temp\") if hlp.get_os(hlp.OperatingSystem.WINDOWS) else Path(os.path.expanduser(\"~/tmp\"))\n",
    "\n",
    "# ! use either clin or fake data\n",
    "file_db_clin = dir_db/'2025-04-07_data_clin.db'\n",
    "\n",
    "if not file_db_clin.exists():\n",
    "    raise FileNotFoundError(f\"File not found: {file_db_clin}\")"
   ]
  },
  {
   "cell_type": "code",
   "execution_count": 3,
   "id": "75590b90",
   "metadata": {},
   "outputs": [],
   "source": [
    "con = ddb.connect()\n",
    "_=con.execute(\"PRAGMA disable_progress_bar;\")\n",
    "_=con.execute(f\"ATTACH DATABASE '{file_db_clin}' as clin; set schema 'clin';\")"
   ]
  },
  {
   "cell_type": "code",
   "execution_count": 4,
   "id": "f65e420f",
   "metadata": {},
   "outputs": [
    {
     "data": {
      "application/vnd.microsoft.datawrangler.viewer.v0+json": {
       "columns": [
        {
         "name": "index",
         "rawType": "int64",
         "type": "integer"
        },
        {
         "name": "Bezeichnung",
         "rawType": "object",
         "type": "unknown"
        }
       ],
       "conversionMethod": "pd.DataFrame",
       "ref": "241b6da0-926c-4041-a31c-34dd6a8b67c8",
       "rows": [
        [
         "0",
         "Carboplatin"
        ],
        [
         "1",
         "Trastuzumab"
        ],
        [
         "2",
         "Hydroxycarbamid"
        ],
        [
         "3",
         "Bicalutamid"
        ],
        [
         "4",
         "Bacillus-Calmette-Guerin"
        ],
        [
         "5",
         "(nab-)Paclitaxel; ABRAXANE"
        ],
        [
         "6",
         "Fosaprepitant"
        ],
        [
         "7",
         "Doxorubicin-PEG-liposomal"
        ],
        [
         "8",
         "BSC"
        ],
        [
         "9",
         "Melphalan (MPL)"
        ],
        [
         "10",
         "Leuprorelinacetat"
        ],
        [
         "11",
         "Trenantone"
        ],
        [
         "12",
         "Antilymphozytäres Immunglobuli"
        ],
        [
         "13",
         "Carboplat, Neocarbo, Ribocarbo"
        ],
        [
         "14",
         "Antithymozytenglobulin"
        ],
        [
         "15",
         "Taxol"
        ],
        [
         "16",
         "Folinsäure Ca.-Folinat"
        ],
        [
         "17",
         "Goserelin"
        ],
        [
         "18",
         "Lenvatinib"
        ],
        [
         "19",
         "Doxorubin (Adriamycin)"
        ],
        [
         "20",
         "Faslodex"
        ],
        [
         "21",
         "Tamsulosin"
        ],
        [
         "22",
         "Paclitaxel nab; Abraxane"
        ],
        [
         "23",
         "Carboplatin/"
        ],
        [
         "24",
         "Polatuzumab"
        ],
        [
         "25",
         "Tamoxifen; Tamoxifen AbZ"
        ],
        [
         "26",
         "Methotrexat MTX"
        ],
        [
         "27",
         "Atezolimumab"
        ],
        [
         "28",
         "5-Fluoruracil"
        ],
        [
         "29",
         "CCNU(lomustin)"
        ],
        [
         "30",
         "5-FU-Pumpe"
        ],
        [
         "31",
         "Tebentafusp"
        ],
        [
         "32",
         "Casodex"
        ],
        [
         "33",
         "GDC-9545 Studienmedikamen"
        ],
        [
         "34",
         "Pertuzumab+Trastuzumab"
        ],
        [
         "35",
         "BICALUTAMID"
        ],
        [
         "36",
         "Palonosetron"
        ],
        [
         "37",
         "Ipilimumab (Yervoy®)"
        ],
        [
         "38",
         "Capecitabin (Xeloda®)"
        ],
        [
         "39",
         "analogStudie"
        ],
        [
         "40",
         "Diphenhydramin"
        ],
        [
         "41",
         "Relugolix"
        ],
        [
         "42",
         "Abwartendes Konzept"
        ],
        [
         "43",
         "Folinsäure (Leucovorin®)"
        ],
        [
         "44",
         "PEG-Interferon alpha"
        ],
        [
         "45",
         "Momelotinib"
        ],
        [
         "46",
         "Capecitabin (Xeloda® mono)"
        ],
        [
         "47",
         "Trastuzumab-Deruxtecan"
        ],
        [
         "48",
         "Unbekannter Wirkstoff"
        ],
        [
         "49",
         "Dexamethason p.o."
        ]
       ],
       "shape": {
        "columns": 1,
        "rows": 4180
       }
      },
      "text/html": [
       "<div>\n",
       "<style scoped>\n",
       "    .dataframe tbody tr th:only-of-type {\n",
       "        vertical-align: middle;\n",
       "    }\n",
       "\n",
       "    .dataframe tbody tr th {\n",
       "        vertical-align: top;\n",
       "    }\n",
       "\n",
       "    .dataframe thead th {\n",
       "        text-align: right;\n",
       "    }\n",
       "</style>\n",
       "<table border=\"1\" class=\"dataframe\">\n",
       "  <thead>\n",
       "    <tr style=\"text-align: right;\">\n",
       "      <th></th>\n",
       "      <th>Bezeichnung</th>\n",
       "    </tr>\n",
       "  </thead>\n",
       "  <tbody>\n",
       "    <tr>\n",
       "      <th>0</th>\n",
       "      <td>Carboplatin</td>\n",
       "    </tr>\n",
       "    <tr>\n",
       "      <th>1</th>\n",
       "      <td>Trastuzumab</td>\n",
       "    </tr>\n",
       "    <tr>\n",
       "      <th>2</th>\n",
       "      <td>Hydroxycarbamid</td>\n",
       "    </tr>\n",
       "    <tr>\n",
       "      <th>3</th>\n",
       "      <td>Bicalutamid</td>\n",
       "    </tr>\n",
       "    <tr>\n",
       "      <th>4</th>\n",
       "      <td>Bacillus-Calmette-Guerin</td>\n",
       "    </tr>\n",
       "    <tr>\n",
       "      <th>...</th>\n",
       "      <td>...</td>\n",
       "    </tr>\n",
       "    <tr>\n",
       "      <th>4175</th>\n",
       "      <td>Sixantone</td>\n",
       "    </tr>\n",
       "    <tr>\n",
       "      <th>4176</th>\n",
       "      <td>Irinotecan peglip.</td>\n",
       "    </tr>\n",
       "    <tr>\n",
       "      <th>4177</th>\n",
       "      <td>Folsäure p.o.</td>\n",
       "    </tr>\n",
       "    <tr>\n",
       "      <th>4178</th>\n",
       "      <td>PAZOPANIB</td>\n",
       "    </tr>\n",
       "    <tr>\n",
       "      <th>4179</th>\n",
       "      <td>nanoliposomales pegyliertes Irinotecan</td>\n",
       "    </tr>\n",
       "  </tbody>\n",
       "</table>\n",
       "<p>4180 rows × 1 columns</p>\n",
       "</div>"
      ],
      "text/plain": [
       "                                 Bezeichnung\n",
       "0                                Carboplatin\n",
       "1                                Trastuzumab\n",
       "2                            Hydroxycarbamid\n",
       "3                                Bicalutamid\n",
       "4                   Bacillus-Calmette-Guerin\n",
       "...                                      ...\n",
       "4175                               Sixantone\n",
       "4176                      Irinotecan peglip.\n",
       "4177                           Folsäure p.o.\n",
       "4178                               PAZOPANIB\n",
       "4179  nanoliposomales pegyliertes Irinotecan\n",
       "\n",
       "[4180 rows x 1 columns]"
      ]
     },
     "metadata": {},
     "output_type": "display_data"
    }
   ],
   "source": [
    "#sub_data = pd.read_csv(\"C:/Substanzen/substances.csv\", sep = \";\", encoding=\"latin1\")\n",
    "#sub_data[\"Bezeichnung\"] = sub_data[\"Bezeichnung\"].replace({pd.NA: 'NA', '': 'NA'})\n",
    "\n",
    "# * use local test data\n",
    "# sub_data = pd.read_csv(\"C:/Substanzen/Test_Daten.csv\", sep = \";\", encoding=\"utf-8\")\n",
    "\n",
    "# * use real data\n",
    "sub_data = con.sql(\"select distinct Bezeichnung from Substanz\").to_df()\n",
    "display(sub_data)"
   ]
  },
  {
   "cell_type": "code",
   "execution_count": 5,
   "id": "faea31b8",
   "metadata": {},
   "outputs": [
    {
     "data": {
      "application/vnd.microsoft.datawrangler.viewer.v0+json": {
       "columns": [
        {
         "name": "index",
         "rawType": "int64",
         "type": "integer"
        },
        {
         "name": "therapieart",
         "rawType": "object",
         "type": "string"
        },
        {
         "name": "substanz",
         "rawType": "object",
         "type": "string"
        },
        {
         "name": "code",
         "rawType": "object",
         "type": "string"
        }
       ],
       "conversionMethod": "pd.DataFrame",
       "ref": "91560ee7-2184-497d-9528-a22ffcdb549f",
       "rows": [
        [
         "0",
         "HO",
         "Abarelix",
         "L02BX01"
        ],
        [
         "1",
         "IM",
         "Abatacept",
         "L04AA24"
        ],
        [
         "2",
         "ZS",
         "Abemaciclib",
         "L01EF03"
        ],
        [
         "3",
         "IM",
         "Abetimus",
         "L04AA22"
        ],
        [
         "4",
         "HO",
         "Abirateron",
         "L02BX03"
        ]
       ],
       "shape": {
        "columns": 3,
        "rows": 5
       }
      },
      "text/html": [
       "<div>\n",
       "<style scoped>\n",
       "    .dataframe tbody tr th:only-of-type {\n",
       "        vertical-align: middle;\n",
       "    }\n",
       "\n",
       "    .dataframe tbody tr th {\n",
       "        vertical-align: top;\n",
       "    }\n",
       "\n",
       "    .dataframe thead th {\n",
       "        text-align: right;\n",
       "    }\n",
       "</style>\n",
       "<table border=\"1\" class=\"dataframe\">\n",
       "  <thead>\n",
       "    <tr style=\"text-align: right;\">\n",
       "      <th></th>\n",
       "      <th>therapieart</th>\n",
       "      <th>substanz</th>\n",
       "      <th>code</th>\n",
       "    </tr>\n",
       "  </thead>\n",
       "  <tbody>\n",
       "    <tr>\n",
       "      <th>0</th>\n",
       "      <td>HO</td>\n",
       "      <td>Abarelix</td>\n",
       "      <td>L02BX01</td>\n",
       "    </tr>\n",
       "    <tr>\n",
       "      <th>1</th>\n",
       "      <td>IM</td>\n",
       "      <td>Abatacept</td>\n",
       "      <td>L04AA24</td>\n",
       "    </tr>\n",
       "    <tr>\n",
       "      <th>2</th>\n",
       "      <td>ZS</td>\n",
       "      <td>Abemaciclib</td>\n",
       "      <td>L01EF03</td>\n",
       "    </tr>\n",
       "    <tr>\n",
       "      <th>3</th>\n",
       "      <td>IM</td>\n",
       "      <td>Abetimus</td>\n",
       "      <td>L04AA22</td>\n",
       "    </tr>\n",
       "    <tr>\n",
       "      <th>4</th>\n",
       "      <td>HO</td>\n",
       "      <td>Abirateron</td>\n",
       "      <td>L02BX03</td>\n",
       "    </tr>\n",
       "  </tbody>\n",
       "</table>\n",
       "</div>"
      ],
      "text/plain": [
       "  therapieart     substanz     code\n",
       "0          HO     Abarelix  L02BX01\n",
       "1          IM    Abatacept  L04AA24\n",
       "2          ZS  Abemaciclib  L01EF03\n",
       "3          IM     Abetimus  L04AA22\n",
       "4          HO   Abirateron  L02BX03"
      ]
     },
     "execution_count": 5,
     "metadata": {},
     "output_type": "execute_result"
    }
   ],
   "source": [
    "URL_LINK = \"https://gitlab.opencode.de/robert-koch-institut/zentrum-fuer-krebsregisterdaten/cancerdata-references/-/raw/main/data/v2/Klassifikationen/substanz.csv?ref_type=heads\"\n",
    "reference_list = pd.read_csv(URL_LINK, sep=\";\")\n",
    "reference_list.head()"
   ]
  },
  {
   "cell_type": "code",
   "execution_count": 6,
   "id": "df9ad0fb",
   "metadata": {},
   "outputs": [],
   "source": [
    "col_with_substances = sub_data[\"Bezeichnung\"]\n",
    "col_with_ref_substances = reference_list[\"substanz\"]"
   ]
  },
  {
   "cell_type": "code",
   "execution_count": 7,
   "id": "f78829eb",
   "metadata": {},
   "outputs": [],
   "source": [
    "def create_service_variable(\n",
    "    col_with_free_text: pd.Series,\n",
    "    col_with_refs: pd.Series,\n",
    "    threshold_parameter: int = 85,\n",
    "    pattern_to_split: str = r\"[/,;+]|\\bund\\b|\\boder\\b\",\n",
    ") -> pd.DataFrame:\n",
    "    \"\"\"applies all the function defined in the utils.py file\n",
    "\n",
    "    Args:\n",
    "        col_with_free_text (pd.Series): The column with text which should be scanned for substances\n",
    "        col_with_refs (pd.Series): The column with substances that we want to search for in the text\n",
    "        threshold_parameter (int, optional): Defines the accuracy, higher value means more accuracy.\n",
    "        Defaults to 85.\n",
    "        pattern_to_split (str, optional): Defines when more than one match is allowed\n",
    "        Defaults to r\"[/,;+]|\\bund\\b|\\boder\\b\".\n",
    "\n",
    "    Raises:\n",
    "        ValueError: checks whether all IDs from input can be found in the output\n",
    "        ValueError: checks whether the number of rows is the same in in- and output\n",
    "\n",
    "    Returns:\n",
    "        pd.DataFrame: processed df with original input text,\n",
    "        matched substances and the corresponding accuracy score\n",
    "    \"\"\"\n",
    "    preprocessed_data = preprocess_data(col_with_free_text)\n",
    "\n",
    "    matches_df = get_matches(\n",
    "        preprocessed_data, col_with_refs, threshold_parameter=threshold_parameter\n",
    "    )\n",
    "\n",
    "    selected_matches_df = select_matches(matches_df, pattern_to_split=pattern_to_split)\n",
    "\n",
    "    if not preprocessed_data[\"ID\"].isin(selected_matches_df[\"ID\"]).all():\n",
    "        raise ValueError(\"Not all IDs from input are in output\")\n",
    "\n",
    "    if len(preprocessed_data) != len(selected_matches_df):\n",
    "        raise ValueError(\"Length of input and output differs\")\n",
    "\n",
    "    out_df = preprocessed_data.merge(selected_matches_df, on=\"ID\", how=\"left\")\n",
    "\n",
    "    return out_df"
   ]
  },
  {
   "cell_type": "code",
   "execution_count": 8,
   "id": "095e0327",
   "metadata": {},
   "outputs": [],
   "source": [
    "substances_with_service_variable = create_service_variable(\n",
    "        col_with_substances, col_with_ref_substances\n",
    "    )\n",
    "substances_with_service_variable.to_csv(\".local/output_AG_daten.csv\", sep=\";\", index=False)"
   ]
  },
  {
   "cell_type": "code",
   "execution_count": 9,
   "id": "c54e0c2f",
   "metadata": {},
   "outputs": [
    {
     "data": {
      "application/vnd.microsoft.datawrangler.viewer.v0+json": {
       "columns": [
        {
         "name": "index",
         "rawType": "int64",
         "type": "integer"
        },
        {
         "name": "ID",
         "rawType": "int64",
         "type": "integer"
        },
        {
         "name": "Original",
         "rawType": "object",
         "type": "string"
        },
        {
         "name": "Preprocessed_text",
         "rawType": "object",
         "type": "string"
        },
        {
         "name": "input",
         "rawType": "object",
         "type": "string"
        },
        {
         "name": "match",
         "rawType": "object",
         "type": "string"
        },
        {
         "name": "matched_to",
         "rawType": "object",
         "type": "string"
        },
        {
         "name": "similarity",
         "rawType": "object",
         "type": "string"
        }
       ],
       "conversionMethod": "pd.DataFrame",
       "ref": "cc1169cf-93ce-4cf3-a096-7f604209884f",
       "rows": [
        [
         "0",
         "1",
         "Carboplatin",
         "Carboplatin",
         "Carboplatin",
         "Carboplatin",
         "Carboplatin",
         "100"
        ],
        [
         "1",
         "2",
         "Trastuzumab",
         "Trastuzumab",
         "Trastuzumab",
         "Trastuzumab",
         "Trastuzumab",
         "100"
        ],
        [
         "2",
         "3",
         "Hydroxycarbamid",
         "Hydroxycarbamid",
         "Hydroxycarbamid",
         "Hydroxycarbamid",
         "Hydroxycarbamid",
         "100"
        ],
        [
         "3",
         "4",
         "Bicalutamid",
         "Bicalutamid",
         "Bicalutamid",
         "Bicalutamid",
         "Bicalutamid",
         "100"
        ],
        [
         "4",
         "5",
         "Bacillus-Calmette-Guerin",
         "Bacillus-Calmette-Guerin",
         "Bacillus-Calmette-Guerin",
         "",
         "",
         ""
        ],
        [
         "5",
         "6",
         "(nab-)Paclitaxel; ABRAXANE",
         "nab-Paclitaxel; ABRAXANE",
         "nab-Paclitaxel; ABRAXANE",
         "Paclitaxel",
         "Paclitaxel",
         "100"
        ],
        [
         "6",
         "7",
         "Fosaprepitant",
         "Fosaprepitant",
         "Fosaprepitant",
         "",
         "",
         ""
        ],
        [
         "7",
         "8",
         "Doxorubicin-PEG-liposomal",
         "Doxorubicin-PEG-liposomal",
         "Doxorubicin-PEG-liposomal",
         "Doxorubicin-PEG-liposomal",
         "Doxorubicin PEG-liposomal",
         "96"
        ],
        [
         "8",
         "9",
         "BSC",
         "BSC",
         "BSC",
         "",
         "",
         ""
        ],
        [
         "9",
         "10",
         "Melphalan (MPL)",
         "Melphalan MPL",
         "Melphalan MPL",
         "Melphalan",
         "Melphalan",
         "100"
        ],
        [
         "10",
         "11",
         "Leuprorelinacetat",
         "Leuprorelinacetat",
         "Leuprorelinacetat",
         "",
         "",
         ""
        ],
        [
         "11",
         "12",
         "Trenantone",
         "Trenantone",
         "Trenantone",
         "",
         "",
         ""
        ],
        [
         "12",
         "13",
         "Antilymphozytäres Immunglobuli",
         "Antilymphozytäres Immunglobuli",
         "Antilymphozytäres Immunglobuli",
         "",
         "",
         ""
        ],
        [
         "13",
         "14",
         "Carboplat, Neocarbo, Ribocarbo",
         "Carboplat, Neocarbo, Ribocarbo",
         "Carboplat, Neocarbo, Ribocarbo",
         "Carboplat",
         "Carboplatin",
         "90"
        ],
        [
         "14",
         "15",
         "Antithymozytenglobulin",
         "Antithymozytenglobulin",
         "Antithymozytenglobulin",
         "Antithymozytenglobulin",
         "Antithymozytenglobulin",
         "100"
        ],
        [
         "15",
         "16",
         "Taxol",
         "Taxol",
         "Taxol",
         "",
         "",
         ""
        ],
        [
         "16",
         "17",
         "Folinsäure Ca.-Folinat",
         "Folinsäure Ca.-Folinat",
         "Folinsäure Ca.-Folinat",
         "Folinsäure",
         "Folinsäure",
         "100"
        ],
        [
         "17",
         "18",
         "Goserelin",
         "Goserelin",
         "Goserelin",
         "Goserelin",
         "Goserelin",
         "100"
        ],
        [
         "18",
         "19",
         "Lenvatinib",
         "Lenvatinib",
         "Lenvatinib",
         "Lenvatinib",
         "Lenvatinib",
         "100"
        ],
        [
         "19",
         "20",
         "Doxorubin (Adriamycin)",
         "Doxorubin Adriamycin",
         "Doxorubin Adriamycin",
         "Doxorubin",
         "Doxorubicin",
         "90"
        ],
        [
         "20",
         "21",
         "Faslodex",
         "Faslodex",
         "Faslodex",
         "",
         "",
         ""
        ],
        [
         "21",
         "22",
         "Tamsulosin",
         "Tamsulosin",
         "Tamsulosin",
         "",
         "",
         ""
        ],
        [
         "22",
         "23",
         "Paclitaxel nab; Abraxane",
         "Paclitaxel nab; Abraxane",
         "Paclitaxel nab; Abraxane",
         "Paclitaxel nab; Paclitaxel",
         "Paclitaxel nab; Paclitaxel",
         "100"
        ],
        [
         "23",
         "24",
         "Carboplatin/",
         "Carboplatin/",
         "Carboplatin/",
         "Carboplatin/",
         "Carboplatin",
         "96"
        ],
        [
         "24",
         "25",
         "Polatuzumab",
         "Polatuzumab",
         "Polatuzumab",
         "",
         "",
         ""
        ],
        [
         "25",
         "26",
         "Tamoxifen; Tamoxifen AbZ",
         "Tamoxifen; Tamoxifen AbZ",
         "Tamoxifen; Tamoxifen AbZ",
         "Tamoxifen; Tamoxifen",
         "Tamoxifen",
         "100"
        ],
        [
         "26",
         "27",
         "Methotrexat MTX",
         "Methotrexat MTX",
         "Methotrexat MTX",
         "Methotrexat",
         "Methotrexat",
         "100"
        ],
        [
         "27",
         "28",
         "Atezolimumab",
         "Atezolimumab",
         "Atezolimumab",
         "Atezolimumab",
         "Atezolizumab",
         "92"
        ],
        [
         "28",
         "29",
         "5-Fluoruracil",
         "fluorouracil",
         "fluorouracil",
         "fluorouracil",
         "Fluorouracil",
         "100"
        ],
        [
         "29",
         "30",
         "CCNU(lomustin)",
         "CCNUlomustin",
         "CCNUlomustin",
         "",
         "",
         ""
        ],
        [
         "30",
         "31",
         "5-FU-Pumpe",
         "fluorouracil-Pumpe",
         "fluorouracil-Pumpe",
         "fluorouracil",
         "Fluorouracil",
         "100"
        ],
        [
         "31",
         "32",
         "Tebentafusp",
         "Tebentafusp",
         "Tebentafusp",
         "",
         "",
         ""
        ],
        [
         "32",
         "33",
         "Casodex",
         "Casodex",
         "Casodex",
         "",
         "",
         ""
        ],
        [
         "33",
         "34",
         "GDC-9545 Studienmedikamen",
         "GDC-9545 Studienmedikamen",
         "GDC-9545 Studienmedikamen",
         "Studienmedikamen",
         "Studienmedikament",
         "97"
        ],
        [
         "34",
         "35",
         "Pertuzumab+Trastuzumab",
         "Pertuzumab+Trastuzumab",
         "Pertuzumab+Trastuzumab",
         "",
         "",
         ""
        ],
        [
         "35",
         "36",
         "BICALUTAMID",
         "BICALUTAMID",
         "BICALUTAMID",
         "BICALUTAMID",
         "Bicalutamid",
         "100"
        ],
        [
         "36",
         "37",
         "Palonosetron",
         "Palonosetron",
         "Palonosetron",
         "",
         "",
         ""
        ],
        [
         "37",
         "38",
         "Ipilimumab (Yervoy®)",
         "Ipilimumab Yervoy®",
         "Ipilimumab Yervoy®",
         "Ipilimumab",
         "Ipilimumab",
         "100"
        ],
        [
         "38",
         "39",
         "Capecitabin (Xeloda®)",
         "Capecitabin Xeloda®",
         "Capecitabin Xeloda®",
         "Capecitabin",
         "Capecitabin",
         "100"
        ],
        [
         "39",
         "40",
         "analogStudie",
         "analogStudie",
         "analogStudie",
         "",
         "",
         ""
        ],
        [
         "40",
         "41",
         "Diphenhydramin",
         "Diphenhydramin",
         "Diphenhydramin",
         "",
         "",
         ""
        ],
        [
         "41",
         "42",
         "Relugolix",
         "Relugolix",
         "Relugolix",
         "",
         "",
         ""
        ],
        [
         "42",
         "43",
         "Abwartendes Konzept",
         "Abwartendes Konzept",
         "Abwartendes Konzept",
         "",
         "",
         ""
        ],
        [
         "43",
         "44",
         "Folinsäure (Leucovorin®)",
         "Folinsäure Leucovorin®",
         "Folinsäure Leucovorin®",
         "Folinsäure",
         "Folinsäure",
         "100"
        ],
        [
         "44",
         "45",
         "PEG-Interferon alpha",
         "PEG-Interferon alpha",
         "PEG-Interferon alpha",
         "PEG-Interferon alpha",
         "Peginterferon alpha-2b",
         "90"
        ],
        [
         "45",
         "46",
         "Momelotinib",
         "Momelotinib",
         "Momelotinib",
         "Momelotinib",
         "Momelotinib",
         "100"
        ],
        [
         "46",
         "47",
         "Capecitabin (Xeloda® mono)",
         "Capecitabin Xeloda® mono",
         "Capecitabin Xeloda® mono",
         "Capecitabin",
         "Capecitabin",
         "100"
        ],
        [
         "47",
         "48",
         "Trastuzumab-Deruxtecan",
         "Trastuzumab-Deruxtecan",
         "Trastuzumab-Deruxtecan",
         "Trastuzumab-Deruxtecan",
         "Trastuzumab deruxtecan",
         "95"
        ],
        [
         "48",
         "49",
         "Unbekannter Wirkstoff",
         "Unbekannter Wirkstoff",
         "Unbekannter Wirkstoff",
         "",
         "",
         ""
        ],
        [
         "49",
         "50",
         "Dexamethason p.o.",
         "Dexamethason p.o.",
         "Dexamethason p.o.",
         "Dexamethason",
         "Dexamethason",
         "100"
        ]
       ],
       "shape": {
        "columns": 7,
        "rows": 4180
       }
      },
      "text/html": [
       "<div>\n",
       "<style scoped>\n",
       "    .dataframe tbody tr th:only-of-type {\n",
       "        vertical-align: middle;\n",
       "    }\n",
       "\n",
       "    .dataframe tbody tr th {\n",
       "        vertical-align: top;\n",
       "    }\n",
       "\n",
       "    .dataframe thead th {\n",
       "        text-align: right;\n",
       "    }\n",
       "</style>\n",
       "<table border=\"1\" class=\"dataframe\">\n",
       "  <thead>\n",
       "    <tr style=\"text-align: right;\">\n",
       "      <th></th>\n",
       "      <th>ID</th>\n",
       "      <th>Original</th>\n",
       "      <th>Preprocessed_text</th>\n",
       "      <th>input</th>\n",
       "      <th>match</th>\n",
       "      <th>matched_to</th>\n",
       "      <th>similarity</th>\n",
       "    </tr>\n",
       "  </thead>\n",
       "  <tbody>\n",
       "    <tr>\n",
       "      <th>0</th>\n",
       "      <td>1</td>\n",
       "      <td>Carboplatin</td>\n",
       "      <td>Carboplatin</td>\n",
       "      <td>Carboplatin</td>\n",
       "      <td>Carboplatin</td>\n",
       "      <td>Carboplatin</td>\n",
       "      <td>100</td>\n",
       "    </tr>\n",
       "    <tr>\n",
       "      <th>1</th>\n",
       "      <td>2</td>\n",
       "      <td>Trastuzumab</td>\n",
       "      <td>Trastuzumab</td>\n",
       "      <td>Trastuzumab</td>\n",
       "      <td>Trastuzumab</td>\n",
       "      <td>Trastuzumab</td>\n",
       "      <td>100</td>\n",
       "    </tr>\n",
       "    <tr>\n",
       "      <th>2</th>\n",
       "      <td>3</td>\n",
       "      <td>Hydroxycarbamid</td>\n",
       "      <td>Hydroxycarbamid</td>\n",
       "      <td>Hydroxycarbamid</td>\n",
       "      <td>Hydroxycarbamid</td>\n",
       "      <td>Hydroxycarbamid</td>\n",
       "      <td>100</td>\n",
       "    </tr>\n",
       "    <tr>\n",
       "      <th>3</th>\n",
       "      <td>4</td>\n",
       "      <td>Bicalutamid</td>\n",
       "      <td>Bicalutamid</td>\n",
       "      <td>Bicalutamid</td>\n",
       "      <td>Bicalutamid</td>\n",
       "      <td>Bicalutamid</td>\n",
       "      <td>100</td>\n",
       "    </tr>\n",
       "    <tr>\n",
       "      <th>4</th>\n",
       "      <td>5</td>\n",
       "      <td>Bacillus-Calmette-Guerin</td>\n",
       "      <td>Bacillus-Calmette-Guerin</td>\n",
       "      <td>Bacillus-Calmette-Guerin</td>\n",
       "      <td></td>\n",
       "      <td></td>\n",
       "      <td></td>\n",
       "    </tr>\n",
       "    <tr>\n",
       "      <th>...</th>\n",
       "      <td>...</td>\n",
       "      <td>...</td>\n",
       "      <td>...</td>\n",
       "      <td>...</td>\n",
       "      <td>...</td>\n",
       "      <td>...</td>\n",
       "      <td>...</td>\n",
       "    </tr>\n",
       "    <tr>\n",
       "      <th>4175</th>\n",
       "      <td>4176</td>\n",
       "      <td>Sixantone</td>\n",
       "      <td>Sixantone</td>\n",
       "      <td>Sixantone</td>\n",
       "      <td></td>\n",
       "      <td></td>\n",
       "      <td></td>\n",
       "    </tr>\n",
       "    <tr>\n",
       "      <th>4176</th>\n",
       "      <td>4177</td>\n",
       "      <td>Irinotecan peglip.</td>\n",
       "      <td>Irinotecan peglip.</td>\n",
       "      <td>Irinotecan peglip.</td>\n",
       "      <td>Irinotecan</td>\n",
       "      <td>Irinotecan</td>\n",
       "      <td>100</td>\n",
       "    </tr>\n",
       "    <tr>\n",
       "      <th>4177</th>\n",
       "      <td>4178</td>\n",
       "      <td>Folsäure p.o.</td>\n",
       "      <td>Folsäure p.o.</td>\n",
       "      <td>Folsäure p.o.</td>\n",
       "      <td>Folsäure</td>\n",
       "      <td>Folinsäure</td>\n",
       "      <td>89</td>\n",
       "    </tr>\n",
       "    <tr>\n",
       "      <th>4178</th>\n",
       "      <td>4179</td>\n",
       "      <td>PAZOPANIB</td>\n",
       "      <td>PAZOPANIB</td>\n",
       "      <td>PAZOPANIB</td>\n",
       "      <td>PAZOPANIB</td>\n",
       "      <td>Pazopanib</td>\n",
       "      <td>100</td>\n",
       "    </tr>\n",
       "    <tr>\n",
       "      <th>4179</th>\n",
       "      <td>4180</td>\n",
       "      <td>nanoliposomales pegyliertes Irinotecan</td>\n",
       "      <td>nanoliposomales pegyliertes Irinotecan</td>\n",
       "      <td>nanoliposomales pegyliertes Irinotecan</td>\n",
       "      <td>Irinotecan</td>\n",
       "      <td>Irinotecan</td>\n",
       "      <td>100</td>\n",
       "    </tr>\n",
       "  </tbody>\n",
       "</table>\n",
       "<p>4180 rows × 7 columns</p>\n",
       "</div>"
      ],
      "text/plain": [
       "        ID                                Original  \\\n",
       "0        1                             Carboplatin   \n",
       "1        2                             Trastuzumab   \n",
       "2        3                         Hydroxycarbamid   \n",
       "3        4                             Bicalutamid   \n",
       "4        5                Bacillus-Calmette-Guerin   \n",
       "...    ...                                     ...   \n",
       "4175  4176                               Sixantone   \n",
       "4176  4177                      Irinotecan peglip.   \n",
       "4177  4178                           Folsäure p.o.   \n",
       "4178  4179                               PAZOPANIB   \n",
       "4179  4180  nanoliposomales pegyliertes Irinotecan   \n",
       "\n",
       "                           Preprocessed_text  \\\n",
       "0                                Carboplatin   \n",
       "1                                Trastuzumab   \n",
       "2                            Hydroxycarbamid   \n",
       "3                                Bicalutamid   \n",
       "4                   Bacillus-Calmette-Guerin   \n",
       "...                                      ...   \n",
       "4175                               Sixantone   \n",
       "4176                      Irinotecan peglip.   \n",
       "4177                           Folsäure p.o.   \n",
       "4178                               PAZOPANIB   \n",
       "4179  nanoliposomales pegyliertes Irinotecan   \n",
       "\n",
       "                                       input            match  \\\n",
       "0                                Carboplatin      Carboplatin   \n",
       "1                                Trastuzumab      Trastuzumab   \n",
       "2                            Hydroxycarbamid  Hydroxycarbamid   \n",
       "3                                Bicalutamid      Bicalutamid   \n",
       "4                   Bacillus-Calmette-Guerin                    \n",
       "...                                      ...              ...   \n",
       "4175                               Sixantone                    \n",
       "4176                      Irinotecan peglip.       Irinotecan   \n",
       "4177                           Folsäure p.o.         Folsäure   \n",
       "4178                               PAZOPANIB        PAZOPANIB   \n",
       "4179  nanoliposomales pegyliertes Irinotecan       Irinotecan   \n",
       "\n",
       "           matched_to similarity  \n",
       "0         Carboplatin        100  \n",
       "1         Trastuzumab        100  \n",
       "2     Hydroxycarbamid        100  \n",
       "3         Bicalutamid        100  \n",
       "4                                 \n",
       "...               ...        ...  \n",
       "4175                              \n",
       "4176       Irinotecan        100  \n",
       "4177       Folinsäure         89  \n",
       "4178        Pazopanib        100  \n",
       "4179       Irinotecan        100  \n",
       "\n",
       "[4180 rows x 7 columns]"
      ]
     },
     "execution_count": 9,
     "metadata": {},
     "output_type": "execute_result"
    }
   ],
   "source": [
    "substances_with_service_variable"
   ]
  },
  {
   "cell_type": "code",
   "execution_count": 12,
   "id": "0bf05c05",
   "metadata": {},
   "outputs": [
    {
     "name": "stdout",
     "output_type": "stream",
     "text": [
      "score = 0.571 (matches / total rows)\n"
     ]
    }
   ],
   "source": [
    "matches_counter = (substances_with_service_variable['matched_to'].notna() & (substances_with_service_variable['matched_to'] != \"\")).sum()\n",
    "total_rows = len(substances_with_service_variable)\n",
    "proportion = matches_counter / total_rows\n",
    "\n",
    "print(f\"score = {proportion:.3f} (matches / total rows)\")"
   ]
  }
 ],
 "metadata": {
  "kernelspec": {
   "display_name": ".venv",
   "language": "python",
   "name": "python3"
  },
  "language_info": {
   "codemirror_mode": {
    "name": "ipython",
    "version": 3
   },
   "file_extension": ".py",
   "mimetype": "text/x-python",
   "name": "python",
   "nbconvert_exporter": "python",
   "pygments_lexer": "ipython3",
   "version": "3.11.7"
  }
 },
 "nbformat": 4,
 "nbformat_minor": 5
}
