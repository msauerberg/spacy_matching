{
 "cells": [
  {
   "cell_type": "code",
   "execution_count": 5,
   "id": "65534584",
   "metadata": {},
   "outputs": [
    {
     "name": "stdout",
     "output_type": "stream",
     "text": [
      "🐍 3.11.7 | 📦 pandas: 2.2.3 | 📦 numpy: 1.26.4 | 📦 duckdb: 1.2.2 | 📦 pandas-plots: 0.12.23 | ❌ connection_helper: Not found\n"
     ]
    }
   ],
   "source": [
    "import pandas as pd\n",
    "import re\n",
    "from spaczz.matcher import FuzzyMatcher\n",
    "import spacy\n",
    "import string\n",
    "\n",
    "import os\n",
    "from pathlib import Path\n",
    "import duckdb as ddb\n",
    "from pandas_plots import tbl, pls, hlp\n",
    "\n",
    "hlp.show_package_version()\n",
    "os.environ['THEME']='dark'\n",
    "\n",
    "dir_db=Path(\"C://temp\") if hlp.get_os(hlp.OperatingSystem.WINDOWS) else Path(os.path.expanduser(\"~/tmp\"))\n",
    "\n",
    "# ! use either clin or fake data\n",
    "file_db_clin = dir_db/'2025-04-07_data_clin.db'\n",
    "# file_db_clin = dir_db/'fake_clin_data.db'\n",
    "\n",
    "if not file_db_clin.exists():\n",
    "    raise FileNotFoundError(f\"File not found: {file_db_clin}\")"
   ]
  },
  {
   "cell_type": "code",
   "execution_count": 6,
   "id": "ad045bb7",
   "metadata": {},
   "outputs": [],
   "source": [
    "con = ddb.connect()\n",
    "_=con.execute(\"PRAGMA disable_progress_bar;\")\n",
    "_=con.execute(f\"ATTACH DATABASE '{file_db_clin}' as clin; set schema 'clin';\")"
   ]
  },
  {
   "cell_type": "code",
   "execution_count": 7,
   "id": "eba94946",
   "metadata": {},
   "outputs": [
    {
     "data": {
      "application/vnd.microsoft.datawrangler.viewer.v0+json": {
       "columns": [
        {
         "name": "index",
         "rawType": "int64",
         "type": "integer"
        },
        {
         "name": "Bezeichnung",
         "rawType": "object",
         "type": "unknown"
        }
       ],
       "conversionMethod": "pd.DataFrame",
       "ref": "4d9a504a-a727-4e50-8ed4-40a4dcafc824",
       "rows": [
        [
         "0",
         "Prednisolon"
        ],
        [
         "1",
         "Decitabin"
        ],
        [
         "2",
         "Lenalidomid"
        ],
        [
         "3",
         "Trastuzumab deruxtecan"
        ],
        [
         "4",
         "Temozolomid"
        ],
        [
         "5",
         "o.n.A."
        ],
        [
         "6",
         "Cabazitaxel"
        ],
        [
         "7",
         "Tamoxifen, Tamoxifencitrat"
        ],
        [
         "8",
         "Mitomycin (MMC)"
        ],
        [
         "9",
         "Dexamethason i.v."
        ],
        [
         "10",
         "Ifosfamid"
        ],
        [
         "11",
         "Gemcitabine"
        ],
        [
         "12",
         "keine tumorspezifische Therapie"
        ],
        [
         "13",
         "Vincristinsulfat"
        ],
        [
         "14",
         "Nivolumab; Nivolumab"
        ],
        [
         "15",
         "Gemtuzumab-Ozogamicin"
        ],
        [
         "16",
         "Clemastin (Tavegil) i.v."
        ],
        [
         "17",
         "Alectinib"
        ],
        [
         "18",
         "Dexamethason systemisch"
        ],
        [
         "19",
         "Paclitaxel poliglumex"
        ],
        [
         "20",
         "pegyliertes liposomales Doxorubicin"
        ],
        [
         "21",
         "Folinsäure n.n.bezeichnet"
        ],
        [
         "22",
         "Hormontherapie o.n.A."
        ],
        [
         "23",
         "Vincristin (VCR)"
        ],
        [
         "24",
         "Sunitinib"
        ],
        [
         "25",
         "Nilotinib"
        ],
        [
         "26",
         "NIVOLUMAB"
        ],
        [
         "27",
         "Paclitaxel (ohne nähere Angabe)"
        ],
        [
         "28",
         "Trastuzumab-Emtansin"
        ],
        [
         "29",
         "Adriamycin"
        ],
        [
         "30",
         "CARBOPLATIN"
        ],
        [
         "31",
         "Hyperthermie"
        ],
        [
         "32",
         "Thioguanin"
        ],
        [
         "33",
         "Abnobaviscum"
        ],
        [
         "34",
         "Vemurafenib"
        ],
        [
         "35",
         "Lichttherapie"
        ],
        [
         "36",
         "Furosemid"
        ],
        [
         "37",
         "Bexaroten"
        ],
        [
         "38",
         "Atropin"
        ],
        [
         "39",
         "Besremi"
        ],
        [
         "40",
         "Alectinib; Alectinib"
        ],
        [
         "41",
         "Abnobaviscum Aceris"
        ],
        [
         "42",
         "Selinexor"
        ],
        [
         "43",
         "TAXOL"
        ],
        [
         "44",
         "Asparaginase (L-ASP)"
        ],
        [
         "45",
         "Capecitabin; Capezitabine"
        ],
        [
         "46",
         "PEG-Filgrastim"
        ],
        [
         "47",
         "MTX"
        ],
        [
         "48",
         "HD-MTX"
        ],
        [
         "49",
         "Ibrutinib (Imbruvica)"
        ]
       ],
       "shape": {
        "columns": 1,
        "rows": 4180
       }
      },
      "text/html": [
       "<div>\n",
       "<style scoped>\n",
       "    .dataframe tbody tr th:only-of-type {\n",
       "        vertical-align: middle;\n",
       "    }\n",
       "\n",
       "    .dataframe tbody tr th {\n",
       "        vertical-align: top;\n",
       "    }\n",
       "\n",
       "    .dataframe thead th {\n",
       "        text-align: right;\n",
       "    }\n",
       "</style>\n",
       "<table border=\"1\" class=\"dataframe\">\n",
       "  <thead>\n",
       "    <tr style=\"text-align: right;\">\n",
       "      <th></th>\n",
       "      <th>Bezeichnung</th>\n",
       "    </tr>\n",
       "  </thead>\n",
       "  <tbody>\n",
       "    <tr>\n",
       "      <th>0</th>\n",
       "      <td>Prednisolon</td>\n",
       "    </tr>\n",
       "    <tr>\n",
       "      <th>1</th>\n",
       "      <td>Decitabin</td>\n",
       "    </tr>\n",
       "    <tr>\n",
       "      <th>2</th>\n",
       "      <td>Lenalidomid</td>\n",
       "    </tr>\n",
       "    <tr>\n",
       "      <th>3</th>\n",
       "      <td>Trastuzumab deruxtecan</td>\n",
       "    </tr>\n",
       "    <tr>\n",
       "      <th>4</th>\n",
       "      <td>Temozolomid</td>\n",
       "    </tr>\n",
       "    <tr>\n",
       "      <th>...</th>\n",
       "      <td>...</td>\n",
       "    </tr>\n",
       "    <tr>\n",
       "      <th>4175</th>\n",
       "      <td>Sacitizumab</td>\n",
       "    </tr>\n",
       "    <tr>\n",
       "      <th>4176</th>\n",
       "      <td>INN - Paclitaxel</td>\n",
       "    </tr>\n",
       "    <tr>\n",
       "      <th>4177</th>\n",
       "      <td>Mesn</td>\n",
       "    </tr>\n",
       "    <tr>\n",
       "      <th>4178</th>\n",
       "      <td>HD-AC</td>\n",
       "    </tr>\n",
       "    <tr>\n",
       "      <th>4179</th>\n",
       "      <td>Daratumumab sc</td>\n",
       "    </tr>\n",
       "  </tbody>\n",
       "</table>\n",
       "<p>4180 rows × 1 columns</p>\n",
       "</div>"
      ],
      "text/plain": [
       "                 Bezeichnung\n",
       "0                Prednisolon\n",
       "1                  Decitabin\n",
       "2                Lenalidomid\n",
       "3     Trastuzumab deruxtecan\n",
       "4                Temozolomid\n",
       "...                      ...\n",
       "4175             Sacitizumab\n",
       "4176        INN - Paclitaxel\n",
       "4177                    Mesn\n",
       "4178                   HD-AC\n",
       "4179          Daratumumab sc\n",
       "\n",
       "[4180 rows x 1 columns]"
      ]
     },
     "metadata": {},
     "output_type": "display_data"
    },
    {
     "data": {
      "application/vnd.microsoft.datawrangler.viewer.v0+json": {
       "columns": [
        {
         "name": "index",
         "rawType": "int64",
         "type": "integer"
        },
        {
         "name": "Bezeichnung",
         "rawType": "object",
         "type": "string"
        }
       ],
       "conversionMethod": "pd.DataFrame",
       "ref": "1e52d98d-d6a8-4a95-bf8e-d04cd9f1e275",
       "rows": [
        [
         "0",
         "Prednisolon"
        ],
        [
         "1",
         "Decitabin"
        ],
        [
         "2",
         "Lenalidomid"
        ],
        [
         "3",
         "Trastuzumab deruxtecan"
        ],
        [
         "4",
         "Temozolomid"
        ]
       ],
       "shape": {
        "columns": 1,
        "rows": 5
       }
      },
      "text/html": [
       "<div>\n",
       "<style scoped>\n",
       "    .dataframe tbody tr th:only-of-type {\n",
       "        vertical-align: middle;\n",
       "    }\n",
       "\n",
       "    .dataframe tbody tr th {\n",
       "        vertical-align: top;\n",
       "    }\n",
       "\n",
       "    .dataframe thead th {\n",
       "        text-align: right;\n",
       "    }\n",
       "</style>\n",
       "<table border=\"1\" class=\"dataframe\">\n",
       "  <thead>\n",
       "    <tr style=\"text-align: right;\">\n",
       "      <th></th>\n",
       "      <th>Bezeichnung</th>\n",
       "    </tr>\n",
       "  </thead>\n",
       "  <tbody>\n",
       "    <tr>\n",
       "      <th>0</th>\n",
       "      <td>Prednisolon</td>\n",
       "    </tr>\n",
       "    <tr>\n",
       "      <th>1</th>\n",
       "      <td>Decitabin</td>\n",
       "    </tr>\n",
       "    <tr>\n",
       "      <th>2</th>\n",
       "      <td>Lenalidomid</td>\n",
       "    </tr>\n",
       "    <tr>\n",
       "      <th>3</th>\n",
       "      <td>Trastuzumab deruxtecan</td>\n",
       "    </tr>\n",
       "    <tr>\n",
       "      <th>4</th>\n",
       "      <td>Temozolomid</td>\n",
       "    </tr>\n",
       "  </tbody>\n",
       "</table>\n",
       "</div>"
      ],
      "text/plain": [
       "              Bezeichnung\n",
       "0             Prednisolon\n",
       "1               Decitabin\n",
       "2             Lenalidomid\n",
       "3  Trastuzumab deruxtecan\n",
       "4             Temozolomid"
      ]
     },
     "execution_count": 7,
     "metadata": {},
     "output_type": "execute_result"
    }
   ],
   "source": [
    "sub_data = con.sql(\"select distinct Bezeichnung from Substanz\").to_df()\n",
    "display(sub_data)\n",
    "\n",
    "# sub_data = pd.read_csv(\"C:/Python/Substanzen/Test_Daten.csv\", sep = \";\", encoding=\"utf-8\")\n",
    "sub_data.head()"
   ]
  },
  {
   "cell_type": "code",
   "execution_count": 8,
   "id": "d150f658",
   "metadata": {},
   "outputs": [
    {
     "data": {
      "application/vnd.microsoft.datawrangler.viewer.v0+json": {
       "columns": [
        {
         "name": "index",
         "rawType": "int64",
         "type": "integer"
        },
        {
         "name": "therapieart",
         "rawType": "object",
         "type": "string"
        },
        {
         "name": "substanz",
         "rawType": "object",
         "type": "string"
        },
        {
         "name": "code",
         "rawType": "object",
         "type": "string"
        }
       ],
       "conversionMethod": "pd.DataFrame",
       "ref": "b1f02bf8-b5f6-4f96-9c8d-0e53fa0bb8b7",
       "rows": [
        [
         "0",
         "HO",
         "Abarelix",
         "L02BX01"
        ],
        [
         "1",
         "IM",
         "Abatacept",
         "L04AA24"
        ],
        [
         "2",
         "ZS",
         "Abemaciclib",
         "L01EF03"
        ],
        [
         "3",
         "IM",
         "Abetimus",
         "L04AA22"
        ],
        [
         "4",
         "HO",
         "Abirateron",
         "L02BX03"
        ]
       ],
       "shape": {
        "columns": 3,
        "rows": 5
       }
      },
      "text/html": [
       "<div>\n",
       "<style scoped>\n",
       "    .dataframe tbody tr th:only-of-type {\n",
       "        vertical-align: middle;\n",
       "    }\n",
       "\n",
       "    .dataframe tbody tr th {\n",
       "        vertical-align: top;\n",
       "    }\n",
       "\n",
       "    .dataframe thead th {\n",
       "        text-align: right;\n",
       "    }\n",
       "</style>\n",
       "<table border=\"1\" class=\"dataframe\">\n",
       "  <thead>\n",
       "    <tr style=\"text-align: right;\">\n",
       "      <th></th>\n",
       "      <th>therapieart</th>\n",
       "      <th>substanz</th>\n",
       "      <th>code</th>\n",
       "    </tr>\n",
       "  </thead>\n",
       "  <tbody>\n",
       "    <tr>\n",
       "      <th>0</th>\n",
       "      <td>HO</td>\n",
       "      <td>Abarelix</td>\n",
       "      <td>L02BX01</td>\n",
       "    </tr>\n",
       "    <tr>\n",
       "      <th>1</th>\n",
       "      <td>IM</td>\n",
       "      <td>Abatacept</td>\n",
       "      <td>L04AA24</td>\n",
       "    </tr>\n",
       "    <tr>\n",
       "      <th>2</th>\n",
       "      <td>ZS</td>\n",
       "      <td>Abemaciclib</td>\n",
       "      <td>L01EF03</td>\n",
       "    </tr>\n",
       "    <tr>\n",
       "      <th>3</th>\n",
       "      <td>IM</td>\n",
       "      <td>Abetimus</td>\n",
       "      <td>L04AA22</td>\n",
       "    </tr>\n",
       "    <tr>\n",
       "      <th>4</th>\n",
       "      <td>HO</td>\n",
       "      <td>Abirateron</td>\n",
       "      <td>L02BX03</td>\n",
       "    </tr>\n",
       "  </tbody>\n",
       "</table>\n",
       "</div>"
      ],
      "text/plain": [
       "  therapieart     substanz     code\n",
       "0          HO     Abarelix  L02BX01\n",
       "1          IM    Abatacept  L04AA24\n",
       "2          ZS  Abemaciclib  L01EF03\n",
       "3          IM     Abetimus  L04AA22\n",
       "4          HO   Abirateron  L02BX03"
      ]
     },
     "execution_count": 8,
     "metadata": {},
     "output_type": "execute_result"
    }
   ],
   "source": [
    "URL_LINK = \"https://gitlab.opencode.de/robert-koch-institut/zentrum-fuer-krebsregisterdaten/cancerdata-references/-/raw/main/data/v2/Klassifikationen/substanz.csv?ref_type=heads\"\n",
    "reference_list = pd.read_csv(URL_LINK, sep=\";\")\n",
    "reference_list.head()"
   ]
  },
  {
   "cell_type": "code",
   "execution_count": 9,
   "id": "915a7d1b",
   "metadata": {},
   "outputs": [],
   "source": [
    "col_with_substances = sub_data[\"Bezeichnung\"]\n",
    "col_with_ref_substances = reference_list[\"substanz\"]"
   ]
  },
  {
   "cell_type": "code",
   "execution_count": null,
   "id": "3f71fa23",
   "metadata": {},
   "outputs": [
    {
     "data": {
      "application/vnd.microsoft.datawrangler.viewer.v0+json": {
       "columns": [
        {
         "name": "index",
         "rawType": "int64",
         "type": "integer"
        },
        {
         "name": "Original",
         "rawType": "object",
         "type": "string"
        },
        {
         "name": "Preprocessed",
         "rawType": "object",
         "type": "string"
        },
        {
         "name": "Hit",
         "rawType": "object",
         "type": "string"
        },
        {
         "name": "Mapped_to",
         "rawType": "object",
         "type": "string"
        },
        {
         "name": "Similarity",
         "rawType": "float64",
         "type": "float"
        }
       ],
       "conversionMethod": "pd.DataFrame",
       "ref": "63b8aeff-86a9-4b29-a4b5-eb604635dee2",
       "rows": [
        [
         "0",
         "Prednisolon",
         "Prednisolon",
         "Prednisolon",
         "Prednisolon",
         "100.0"
        ],
        [
         "1",
         "Decitabin",
         "Decitabin",
         "Decitabin",
         "Decitabin",
         "100.0"
        ],
        [
         "2",
         "Lenalidomid",
         "Lenalidomid",
         "Lenalidomid",
         "Lenalidomid",
         "100.0"
        ],
        [
         "3",
         "Trastuzumab deruxtecan",
         "Trastuzumab deruxtecan",
         "Trastuzumab deruxtecan",
         "Trastuzumab deruxtecan",
         "100.0"
        ],
        [
         "4",
         "Temozolomid",
         "Temozolomid",
         "Temozolomid",
         "Temozolomid",
         "100.0"
        ]
       ],
       "shape": {
        "columns": 5,
        "rows": 5
       }
      },
      "text/html": [
       "<div>\n",
       "<style scoped>\n",
       "    .dataframe tbody tr th:only-of-type {\n",
       "        vertical-align: middle;\n",
       "    }\n",
       "\n",
       "    .dataframe tbody tr th {\n",
       "        vertical-align: top;\n",
       "    }\n",
       "\n",
       "    .dataframe thead th {\n",
       "        text-align: right;\n",
       "    }\n",
       "</style>\n",
       "<table border=\"1\" class=\"dataframe\">\n",
       "  <thead>\n",
       "    <tr style=\"text-align: right;\">\n",
       "      <th></th>\n",
       "      <th>Original</th>\n",
       "      <th>Preprocessed</th>\n",
       "      <th>Hit</th>\n",
       "      <th>Mapped_to</th>\n",
       "      <th>Similarity</th>\n",
       "    </tr>\n",
       "  </thead>\n",
       "  <tbody>\n",
       "    <tr>\n",
       "      <th>0</th>\n",
       "      <td>Prednisolon</td>\n",
       "      <td>Prednisolon</td>\n",
       "      <td>Prednisolon</td>\n",
       "      <td>Prednisolon</td>\n",
       "      <td>100.0</td>\n",
       "    </tr>\n",
       "    <tr>\n",
       "      <th>1</th>\n",
       "      <td>Decitabin</td>\n",
       "      <td>Decitabin</td>\n",
       "      <td>Decitabin</td>\n",
       "      <td>Decitabin</td>\n",
       "      <td>100.0</td>\n",
       "    </tr>\n",
       "    <tr>\n",
       "      <th>2</th>\n",
       "      <td>Lenalidomid</td>\n",
       "      <td>Lenalidomid</td>\n",
       "      <td>Lenalidomid</td>\n",
       "      <td>Lenalidomid</td>\n",
       "      <td>100.0</td>\n",
       "    </tr>\n",
       "    <tr>\n",
       "      <th>3</th>\n",
       "      <td>Trastuzumab deruxtecan</td>\n",
       "      <td>Trastuzumab deruxtecan</td>\n",
       "      <td>Trastuzumab deruxtecan</td>\n",
       "      <td>Trastuzumab deruxtecan</td>\n",
       "      <td>100.0</td>\n",
       "    </tr>\n",
       "    <tr>\n",
       "      <th>4</th>\n",
       "      <td>Temozolomid</td>\n",
       "      <td>Temozolomid</td>\n",
       "      <td>Temozolomid</td>\n",
       "      <td>Temozolomid</td>\n",
       "      <td>100.0</td>\n",
       "    </tr>\n",
       "  </tbody>\n",
       "</table>\n",
       "</div>"
      ],
      "text/plain": [
       "                 Original            Preprocessed                     Hit  \\\n",
       "0             Prednisolon             Prednisolon             Prednisolon   \n",
       "1               Decitabin               Decitabin               Decitabin   \n",
       "2             Lenalidomid             Lenalidomid             Lenalidomid   \n",
       "3  Trastuzumab deruxtecan  Trastuzumab deruxtecan  Trastuzumab deruxtecan   \n",
       "4             Temozolomid             Temozolomid             Temozolomid   \n",
       "\n",
       "                Mapped_to  Similarity  \n",
       "0             Prednisolon       100.0  \n",
       "1               Decitabin       100.0  \n",
       "2             Lenalidomid       100.0  \n",
       "3  Trastuzumab deruxtecan       100.0  \n",
       "4             Temozolomid       100.0  "
      ]
     },
     "execution_count": 10,
     "metadata": {},
     "output_type": "execute_result"
    }
   ],
   "source": [
    "import re\n",
    "import spacy\n",
    "from spaczz.matcher import FuzzyMatcher\n",
    "\n",
    "# ----------- Preparation Functions -----------\n",
    "\n",
    "def prepare_free_text(input_col: pd.Series) -> pd.DataFrame:\n",
    "    \"\"\"Prepares data by renaming, stripping, and cleaning null or empty entries.\"\"\"\n",
    "    input_data = pd.DataFrame({\n",
    "        \"ID\": range(1, len(input_col) + 1),\n",
    "        \"Original\": input_col.fillna(\"NA\").replace(\"\", \"NA\")\n",
    "    })\n",
    "    input_data[\"Original\"] = input_data[\"Original\"].astype(str).str.strip()\n",
    "    return input_data\n",
    "\n",
    "\n",
    "def remove_short_words(text: str) -> str:\n",
    "    return \" \".join([word for word in text.split() if len(word) >= 3])\n",
    "\n",
    "\n",
    "def find_5FU(text: str) -> str:\n",
    "    pattern = (\n",
    "        r\"5 fu|5fu|5-fu|5_fu|Fluoruracil|flourouracil|5-fluoruuracil|\"\n",
    "        r\"5-fluoro-uracil|5-fluoruuracil|5-fluoruracil|floururacil|\"\n",
    "        r\"5-fluorounacil|flourouraci|5-fluourouracil\"\n",
    "    )\n",
    "    return re.sub(pattern, \"fluorouracil\", text, flags=re.IGNORECASE)\n",
    "\n",
    "\n",
    "def calciumfolinat_to_folin(text: str) -> str:\n",
    "    return re.sub(r\"\\b(Calciumfolinat)\\b\", \"folinsäure\", text, flags=re.IGNORECASE)\n",
    "\n",
    "\n",
    "def find_gemcitabin(text: str) -> str:\n",
    "    return re.sub(r\"Gemcibatin(?:e)?(?: Mono)?\", \"gemcitabin\", text, flags=re.IGNORECASE)\n",
    "\n",
    "\n",
    "def find_Paclitaxel_nab(text: str) -> str:\n",
    "    return re.sub(r\"\\bnab[\\s\\-]?Paclitaxel\\b\", \"Paclitaxel nab\", text, flags=re.IGNORECASE)\n",
    "\n",
    "\n",
    "# ----------- Preprocessing Pipeline -----------\n",
    "\n",
    "def preprocess_data(col_with_free_text: pd.Series) -> pd.DataFrame:\n",
    "    df = prepare_free_text(col_with_free_text)\n",
    "    processed = (\n",
    "        df[\"Original\"]\n",
    "        .apply(find_5FU)\n",
    "        .apply(find_gemcitabin)\n",
    "        .apply(find_Paclitaxel_nab)\n",
    "        .apply(calciumfolinat_to_folin)\n",
    "        .apply(remove_short_words)\n",
    "        .str.strip()\n",
    "    )\n",
    "    df[\"Preprocessed_text\"] = processed\n",
    "    return df\n",
    "\n",
    "\n",
    "# ----------- Matching Function -----------\n",
    "\n",
    "def get_matches(preprocessed_data: pd.DataFrame, ref_substance: pd.Series,\n",
    "                threshold=0.8, max_per_match_id=2, only_first_match=False) -> pd.DataFrame:\n",
    "   \n",
    "    nlp = spacy.blank(\"en\")\n",
    "    matcher = FuzzyMatcher(nlp.vocab)\n",
    "\n",
    "    # Add each reference substance to matcher\n",
    "    for sub in ref_substance.dropna().astype(str):\n",
    "        matcher.add(sub, [nlp(sub)])\n",
    "\n",
    "    results = []\n",
    "\n",
    "    for _, row in preprocessed_data.iterrows():\n",
    "        text = row[\"Preprocessed_text\"]\n",
    "        original = row[\"Original\"]\n",
    "        doc = nlp(text)\n",
    "        matches = matcher(doc)\n",
    "\n",
    "        # Filter and sort matches\n",
    "        matches_filtered = [m for m in matches if m[3] >= threshold * 100]\n",
    "        matches_sorted = sorted(matches_filtered, key=lambda x: x[3], reverse=True)\n",
    "\n",
    "        result_row = {\"Original\": original}\n",
    "        result_row[\"Preprocessed\"] = text\n",
    "        match_id_counts = {}\n",
    "        match_idx = 1\n",
    "\n",
    "        for match_id, start, end, ratio, _ in matches_sorted:\n",
    "            count = match_id_counts.get(match_id, 0)\n",
    "            if count >= max_per_match_id:\n",
    "                continue\n",
    "\n",
    "            result_row[f\"Hit{match_idx}\"] = match_id\n",
    "            result_row[f\"Mapped_to{match_idx}\"] = doc[start:end].text\n",
    "            result_row[f\"Similarity{match_idx}\"] = ratio\n",
    "\n",
    "            match_id_counts[match_id] = count + 1\n",
    "            match_idx += 1\n",
    "\n",
    "        results.append(result_row)\n",
    "    \n",
    "    out = pd.DataFrame(results)\n",
    "\n",
    "    if only_first_match:\n",
    "        cols_to_keep = [\"Original\", \"Preprocessed\", \"Hit1\", \"Mapped_to1\", \"Similarity1\"]\n",
    "        available_columns = [col for col in cols_to_keep if col in out.columns]\n",
    "        dta_col_selected = out[available_columns]\n",
    "        dta_col_selected.columns = [re.sub(r\"\\d+$\", \"\", col) for col in dta_col_selected.columns]        \n",
    "        return(dta_col_selected)\n",
    "        \n",
    "    return out\n",
    "\n",
    "preprocessed_out = preprocess_data(col_with_substances)\n",
    "final_output = get_matches(preprocessed_out, col_with_ref_substances, only_first_match=True)"
   ]
  },
  {
   "cell_type": "code",
   "execution_count": 13,
   "id": "d7c5a5d0",
   "metadata": {},
   "outputs": [
    {
     "name": "stdout",
     "output_type": "stream",
     "text": [
      "🔵 *** df: final_output ***  \n",
      "🟣 shape: (4_180, 5) columns: ['Original' 'Preprocessed' 'Hit' 'Mapped_to' 'Similarity']  \n",
      "🟣 duplicates: 0  \n",
      "🟣 uniques: [{Original: 4_180 Preprocessed: 4_036 Hit: 332 Mapped_to: 974 Similarity: 20}]  \n",
      "🟣 missings: [{Original: 0 Preprocessed: 0 Hit: 1_701 Mapped_to: 1_701 Similarity: 1_701}]  \n",
      "--- column uniques (all)  \n",
      "🟠 index [0, 1, 2, 3, 4,]  \n",
      "🟠 Original(4_180|object)   ['(1', '(8mg/kg) Bortezumib', '(Abatacept)', '(Darolutamid)', '(Denosumab)',]  \n",
      "🟠 Preprocessed(4_036|object)   ['', '(8mg/kg) Bortezumib', '(Abatacept)', '(Darolutamid)', '(Denosumab)',]  \n",
      "🟠 Hit(333|object)   ['<NA>', 'Abarelix', 'Abatacept', 'Abemaciclib', 'Abetimus',]  \n",
      "🟠 Mapped_to(975|object)   ['-CSF', '/-NIVOLUMAB', '5Fluorouracil', '6Mercaptopurin', '<NA>',]  \n",
      "🟠 Similarity(20|float64)   [80.0, 81.0, 82.0, 83.0, 84.0,]  \n",
      "--- column stats (numeric)  \n",
      "Similarity -> min: 80.0 | lower: 100.0 | q25: 100.0 | median: 100.0 | mean: 97.856 | q75: 100.0 | upper: 100.0 | max: 100.0 | std: 4.576 | cv: 0.047 | sum: 242_585.0 | skew: -2.295 | kurto: 4.624  \n"
     ]
    },
    {
     "data": {
      "application/vnd.microsoft.datawrangler.viewer.v0+json": {
       "columns": [
        {
         "name": "index",
         "rawType": "int64",
         "type": "integer"
        },
        {
         "name": "Original",
         "rawType": "object",
         "type": "string"
        },
        {
         "name": "Preprocessed",
         "rawType": "object",
         "type": "string"
        },
        {
         "name": "Hit",
         "rawType": "object",
         "type": "string"
        },
        {
         "name": "Mapped_to",
         "rawType": "object",
         "type": "string"
        },
        {
         "name": "Similarity",
         "rawType": "float64",
         "type": "float"
        }
       ],
       "conversionMethod": "pd.DataFrame",
       "ref": "6aaa5933-6c49-4d08-8178-904d839a2158",
       "rows": [
        [
         "0",
         "Prednisolon",
         "Prednisolon",
         "Prednisolon",
         "Prednisolon",
         "100.0"
        ],
        [
         "1",
         "Decitabin",
         "Decitabin",
         "Decitabin",
         "Decitabin",
         "100.0"
        ],
        [
         "2",
         "Lenalidomid",
         "Lenalidomid",
         "Lenalidomid",
         "Lenalidomid",
         "100.0"
        ]
       ],
       "shape": {
        "columns": 5,
        "rows": 3
       }
      },
      "text/html": [
       "<div>\n",
       "<style scoped>\n",
       "    .dataframe tbody tr th:only-of-type {\n",
       "        vertical-align: middle;\n",
       "    }\n",
       "\n",
       "    .dataframe tbody tr th {\n",
       "        vertical-align: top;\n",
       "    }\n",
       "\n",
       "    .dataframe thead th {\n",
       "        text-align: right;\n",
       "    }\n",
       "</style>\n",
       "<table border=\"1\" class=\"dataframe\">\n",
       "  <thead>\n",
       "    <tr style=\"text-align: right;\">\n",
       "      <th></th>\n",
       "      <th>Original</th>\n",
       "      <th>Preprocessed</th>\n",
       "      <th>Hit</th>\n",
       "      <th>Mapped_to</th>\n",
       "      <th>Similarity</th>\n",
       "    </tr>\n",
       "  </thead>\n",
       "  <tbody>\n",
       "    <tr>\n",
       "      <th>0</th>\n",
       "      <td>Prednisolon</td>\n",
       "      <td>Prednisolon</td>\n",
       "      <td>Prednisolon</td>\n",
       "      <td>Prednisolon</td>\n",
       "      <td>100.0</td>\n",
       "    </tr>\n",
       "    <tr>\n",
       "      <th>1</th>\n",
       "      <td>Decitabin</td>\n",
       "      <td>Decitabin</td>\n",
       "      <td>Decitabin</td>\n",
       "      <td>Decitabin</td>\n",
       "      <td>100.0</td>\n",
       "    </tr>\n",
       "    <tr>\n",
       "      <th>2</th>\n",
       "      <td>Lenalidomid</td>\n",
       "      <td>Lenalidomid</td>\n",
       "      <td>Lenalidomid</td>\n",
       "      <td>Lenalidomid</td>\n",
       "      <td>100.0</td>\n",
       "    </tr>\n",
       "  </tbody>\n",
       "</table>\n",
       "</div>"
      ],
      "text/plain": [
       "      Original Preprocessed          Hit    Mapped_to  Similarity\n",
       "0  Prednisolon  Prednisolon  Prednisolon  Prednisolon       100.0\n",
       "1    Decitabin    Decitabin    Decitabin    Decitabin       100.0\n",
       "2  Lenalidomid  Lenalidomid  Lenalidomid  Lenalidomid       100.0"
      ]
     },
     "metadata": {},
     "output_type": "display_data"
    },
    {
     "data": {
      "image/png": "[encoded data removed]"
     },
     "metadata": {},
     "output_type": "display_data"
    }
   ],
   "source": [
    "tbl.describe_df(\n",
    "    final_output,\n",
    "    \"final_output\",\n",
    "    top_n_uniques=5,\n",
    "    top_n_chars_in_index=10,\n",
    ")"
   ]
  },
  {
   "cell_type": "code",
   "execution_count": 11,
   "id": "de48f76d",
   "metadata": {},
   "outputs": [],
   "source": [
    "final_output.to_csv(\".local/out1.csv\", index=False)"
   ]
  }
 ],
 "metadata": {
  "kernelspec": {
   "display_name": ".venv",
   "language": "python",
   "name": "python3"
  },
  "language_info": {
   "codemirror_mode": {
    "name": "ipython",
    "version": 3
   },
   "file_extension": ".py",
   "mimetype": "text/x-python",
   "name": "python",
   "nbconvert_exporter": "python",
   "pygments_lexer": "ipython3",
   "version": "3.11.7"
  }
 },
 "nbformat": 4,
 "nbformat_minor": 5
}
